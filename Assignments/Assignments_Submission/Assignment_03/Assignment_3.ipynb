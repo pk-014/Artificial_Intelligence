{
 "cells": [
  {
   "cell_type": "markdown",
   "id": "9d429bf4",
   "metadata": {},
   "source": [
    "### Functions\n",
    " Presented By: Asad "
   ]
  },
  {
   "cell_type": "code",
   "execution_count": null,
   "id": "bbc15802",
   "metadata": {},
   "outputs": [],
   "source": [
    "for i in range(4):\n",
    "    for j in range(8):\n",
    "        if\n",
    "        print(\"*\",end=' ')\n",
    "    print()"
   ]
  },
  {
   "cell_type": "markdown",
   "id": "05c5faf1",
   "metadata": {},
   "source": [
    "##### Q1: Write a function in Python to calculate and return the average of a given list of integers.\n"
   ]
  },
  {
   "cell_type": "code",
   "execution_count": null,
   "id": "7c7265db",
   "metadata": {},
   "outputs": [],
   "source": [
    "l=[1,2,3,4,5]\n",
    "def avg_fn(u):\n",
    "    sum_ = sum(u)\n",
    "    z=len(u)\n",
    "    return sum_/z\n",
    "avg_fn(l)"
   ]
  },
  {
   "cell_type": "markdown",
   "id": "4bf1df3b",
   "metadata": {},
   "source": [
    "##### Q2: Write a function in Python called isIn() to check for the existence of a substring within a string returning a Boolean value.\n"
   ]
  },
  {
   "cell_type": "code",
   "execution_count": null,
   "id": "15e53376",
   "metadata": {},
   "outputs": [],
   "source": [
    "st=\"\"\"hello \"\"\"\n",
    "def isln(str_):\n",
    "    flag = False\n",
    "    for i in str_:\n",
    "        if \"'\" or '\"' in st:\n",
    "            flag = True\n",
    "    return flag\n",
    "    \n",
    "isln(st)"
   ]
  },
  {
   "cell_type": "markdown",
   "id": "27f77704",
   "metadata": {},
   "source": [
    "##### Q3: Write a function in Python to demonstrate keyword arguments."
   ]
  },
  {
   "cell_type": "code",
   "execution_count": null,
   "id": "94bfc606",
   "metadata": {},
   "outputs": [],
   "source": [
    "def d_arg(name,age):\n",
    "    print(f\"Name={name},Age={age}\")\n",
    "d_arg(name=\"ali\",age=45)"
   ]
  },
  {
   "cell_type": "markdown",
   "id": "8bffd246",
   "metadata": {},
   "source": [
    "##### Q4: Write a script in Python to demonstrate nested functions."
   ]
  },
  {
   "cell_type": "code",
   "execution_count": null,
   "id": "f9cf811b",
   "metadata": {},
   "outputs": [],
   "source": [
    "def l_name(name,age):\n",
    "    print(f\"Your Name is {name}.\")\n",
    "    def age_in_days(age):\n",
    "        print(f\"Your age in days is {age*365} almost\")\n",
    "    age_in_days(age)\n",
    "l_name('ali',45)"
   ]
  },
  {
   "cell_type": "markdown",
   "id": "735dd25b",
   "metadata": {},
   "source": [
    "### File Handling\n"
   ]
  },
  {
   "cell_type": "markdown",
   "id": "f3def3f4",
   "metadata": {},
   "source": [
    "##### Q1: Accept details of all your friends from standard input (e.g. Name, Date of birth, Hobbies, occupation, residence address) and store it in a binary file as individual records. Allow the user to list out all details of a friend, given his/her name."
   ]
  },
  {
   "cell_type": "code",
   "execution_count": null,
   "id": "8ce2dc89",
   "metadata": {},
   "outputs": [],
   "source": [
    "import pickle\n",
    "print(\"Enter your Details\")\n",
    "dtl=[]\n",
    "while True:\n",
    "    name=input(\"Enter Name: \")\n",
    "    dob=input(\"Enter Date of Birth: \")\n",
    "    hobbies=input(\"Enter Hobbies: \")\n",
    "    occupation=input(\"Enter Occupation: \")\n",
    "    address=input(\"Enter Residence Address: \")\n",
    "    frnd_data=[name,dob,hobbies,occupation,address]\n",
    "    dtl.append(frnd_data)\n",
    "    \n",
    "    rerun=input(\"Want to run again (y/n)? : \")\n",
    "    if rerun.lower()=='n':\n",
    "        break\n",
    "with open(\"friend_data.dat\",'wb')as dat_file:\n",
    "    pickle.dump(dtl,dat_file)\n",
    "    \n",
    "    \n",
    "    \n",
    "# For Reading the File\n",
    "# print(\"Printing the file\")\n",
    "# with open(\"friend_data.dat\",'rb')as data:\n",
    "#     print(pickle.load(data))"
   ]
  },
  {
   "cell_type": "markdown",
   "id": "9fede178",
   "metadata": {},
   "source": [
    "##### Q2: Create a text file with content as a short summary highlighting your profile and the interesting events that took place in your lifetime. Write a Python program that lists out all repetitive words (e.g 'I' in the sentence “I think I will go”)."
   ]
  },
  {
   "cell_type": "code",
   "execution_count": null,
   "id": "2efd566a",
   "metadata": {},
   "outputs": [],
   "source": [
    "count=0\n",
    "line = 0\n",
    "with open(\"Profile_Summary\",'r')as p_file:\n",
    "    p_file=p_file.read()\n",
    "    for lines in p_file.split(\".\"):\n",
    "        line+=1\n",
    "        rep_words = []\n",
    "        for word in lines.split(\" \"):\n",
    "            if lines.split(\" \").count(word)>=2:\n",
    "                rep_words.append(word)\n",
    "        print(f\"In sentence {line}, Repetitive words: {list(set(rep_words))}\")\n",
    "\n"
   ]
  },
  {
   "cell_type": "markdown",
   "id": "8795c687",
   "metadata": {},
   "source": [
    "##### Q3: Write a Python script that lists out each line of a file prefixed with it’s line number."
   ]
  },
  {
   "cell_type": "code",
   "execution_count": null,
   "id": "0b5c03b8",
   "metadata": {
    "scrolled": true
   },
   "outputs": [],
   "source": [
    "with open(\"Profile_Summary\",'r')as my_file:\n",
    "    my_file=my_file.readline()\n",
    "    for x,lines in enumerate(my_file.split(\".\")):\n",
    "        if x==4:\n",
    "            continue\n",
    "        print(f\"{x}: {lines}.\")\n",
    "        print()"
   ]
  },
  {
   "cell_type": "markdown",
   "id": "d90dd20f",
   "metadata": {},
   "source": [
    "### Exception Handling"
   ]
  },
  {
   "cell_type": "markdown",
   "id": "6de0636b",
   "metadata": {},
   "source": [
    "##### Q1: Write a Python script to demonstrate ValueError, IndexError, NameError exceptions."
   ]
  },
  {
   "cell_type": "code",
   "execution_count": null,
   "id": "cd5906d1",
   "metadata": {},
   "outputs": [],
   "source": [
    "try:\n",
    "    for i in m_list:\n",
    "        print(i)\n",
    "except NameError:\n",
    "    print(\"NameError\")\n",
    "    \n",
    "try:\n",
    "    my_list=[1,2,3]\n",
    "    print(my_list[3])\n",
    "except IndexError:\n",
    "    print(\"IndexError\")\n",
    "\n",
    "try:\n",
    "    print(int(\"x\"))\n",
    "except ValueError:\n",
    "    print(\"ValueError\")"
   ]
  },
  {
   "cell_type": "code",
   "execution_count": null,
   "id": "34d88657-4fb2-4f22-a646-915d6fc7abfa",
   "metadata": {},
   "outputs": [],
   "source": []
  }
 ],
 "metadata": {
  "kernelspec": {
   "display_name": "Python 3 (ipykernel)",
   "language": "python",
   "name": "python3"
  },
  "language_info": {
   "codemirror_mode": {
    "name": "ipython",
    "version": 3
   },
   "file_extension": ".py",
   "mimetype": "text/x-python",
   "name": "python",
   "nbconvert_exporter": "python",
   "pygments_lexer": "ipython3",
   "version": "3.10.12"
  }
 },
 "nbformat": 4,
 "nbformat_minor": 5
}
