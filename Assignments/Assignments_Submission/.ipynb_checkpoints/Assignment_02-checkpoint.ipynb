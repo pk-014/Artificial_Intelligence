{
 "cells": [
  {
   "cell_type": "markdown",
   "id": "c36aeb2c",
   "metadata": {},
   "source": [
    "### Control Structures\n",
    " Presented By: Asad"
   ]
  },
  {
   "cell_type": "markdown",
   "id": "24f9db89",
   "metadata": {},
   "source": [
    "##### Q1: Write a program to tell if a given number is negative, zero or positive.\n"
   ]
  },
  {
   "cell_type": "code",
   "execution_count": null,
   "id": "4213fe14",
   "metadata": {},
   "outputs": [],
   "source": [
    "user_=int(input(\"Enter your Number: \"))\n",
    "if user_ <0:\n",
    "    print(\"Entered Number is Negative.\")\n",
    "elif user_>0:\n",
    "    print(\"Entered Number is Positive.\")\n",
    "elif user_==0:\n",
    "    print(\"Entered Number is Zero.\")\n",
    "else:\n",
    "    print(\"Invalid\")"
   ]
  },
  {
   "cell_type": "markdown",
   "id": "5d40833a",
   "metadata": {},
   "source": [
    "##### Q2. Write a program to print whether a given number is even or odd."
   ]
  },
  {
   "cell_type": "code",
   "execution_count": null,
   "id": "ab1f4819",
   "metadata": {},
   "outputs": [],
   "source": [
    "user_=int(input(\"Enter Any Number: \"))\n",
    "if user_%2==0:\n",
    "    print(\"Entered Number is Even.\")\n",
    "elif user_%2!=0:\n",
    "    print(\"Entered Number is Odd.\")\n",
    "else:\n",
    "    print(\"Invalid\")"
   ]
  },
  {
   "cell_type": "markdown",
   "id": "bcfbedb7",
   "metadata": {},
   "source": [
    "##### Q3. Write a program to print all the even and odd numbers (two separate sequences) up to a given number."
   ]
  },
  {
   "cell_type": "code",
   "execution_count": null,
   "id": "a6cc29ea",
   "metadata": {},
   "outputs": [],
   "source": [
    "user_=int(input(\"Enter a Limit: \"))\n",
    "even_list=[]\n",
    "odd_list=[]\n",
    "for numbers in range(0,user_):\n",
    "    if numbers%2==0:\n",
    "        even_list.append(numbers)\n",
    "    elif numbers%2!=0:\n",
    "        odd_list.append(numbers)\n",
    "print(f\"Even Numbers are: {even_list}\")\n",
    "print(f\"Odd Numbers are: {odd_list}\")"
   ]
  },
  {
   "cell_type": "markdown",
   "id": "76b6cb9a",
   "metadata": {},
   "source": [
    "##### Q4. Write a program to check if the given character is an alphabet, digit or a punctuation character."
   ]
  },
  {
   "cell_type": "code",
   "execution_count": null,
   "id": "57de65d0",
   "metadata": {},
   "outputs": [],
   "source": [
    "user_=ord(input(\"Enter Character: \"))\n",
    "if user_>47 and user_<58:\n",
    "    print(\"Entered Character is Digit.\")\n",
    "elif (user_>64 and user_<91)or(user_>96 and user_<123):\n",
    "    print(\"Entered Character is Alphabet.\")\n",
    "else:\n",
    "    print(\"Entered Character is Punctuation.\")"
   ]
  },
  {
   "cell_type": "markdown",
   "id": "4b149d56",
   "metadata": {},
   "source": [
    "##### Q5: Write a program to check if the given alphabet is a consonant or a vowel."
   ]
  },
  {
   "cell_type": "code",
   "execution_count": null,
   "id": "7eec74a4",
   "metadata": {},
   "outputs": [],
   "source": [
    "user_=input(\"Enter an Alphabet: \")\n",
    "consonants = ['a', 'e', 'i', 'o', 'u']\n",
    "if user_ in consonants:\n",
    "    print(\"Entered alphabet is Vowel.\")\n",
    "else:\n",
    "    print(\"Entered Alphabet is constant.\")"
   ]
  },
  {
   "cell_type": "markdown",
   "id": "5bcb0197",
   "metadata": {},
   "source": [
    "##### Q6: Write a program to count the number vowels and consonants in the given input string."
   ]
  },
  {
   "cell_type": "code",
   "execution_count": null,
   "id": "555e1488",
   "metadata": {},
   "outputs": [],
   "source": [
    "user_=input(\"Enter Text: \")\n",
    "vowel=0\n",
    "cons=0\n",
    "consonants = ['a', 'e', 'i', 'o', 'u']\n",
    "for i in user_:\n",
    "    if i in consonants:\n",
    "        vowel+=1\n",
    "    else:\n",
    "        cons+=1\n",
    "print(f\"Total Vowels in given string are: {vowel}\")\n",
    "print(f\"Total Constants in given string are: {cons}\")"
   ]
  },
  {
   "cell_type": "markdown",
   "id": "c91b646e",
   "metadata": {},
   "source": [
    "##### Q7: Write a program to check if the given number is prime or not."
   ]
  },
  {
   "cell_type": "code",
   "execution_count": null,
   "id": "4adff2e8",
   "metadata": {},
   "outputs": [],
   "source": [
    "user_=int(input(\"Enter Number: \"))\n",
    "count=0\n",
    "for num in range(1,user_):\n",
    "    if user_%num==0:\n",
    "        count+=1\n",
    "if count==1:\n",
    "    print(f\"Number {user_} is Prime.\") \n",
    "else:\n",
    "    print(f\"Number {user_} is not Prime.\")"
   ]
  },
  {
   "cell_type": "markdown",
   "id": "1c78314d",
   "metadata": {},
   "source": [
    "##### Q8: Write a program to print all the prime numbers up to a given number."
   ]
  },
  {
   "cell_type": "code",
   "execution_count": null,
   "id": "8efb7370",
   "metadata": {},
   "outputs": [],
   "source": [
    "user_=int(input(\"Enter Range: \"))\n",
    "\n",
    "for num in range(1,user_):\n",
    "    count=0\n",
    "    for n in range(1,num):\n",
    "        if num%n==0:\n",
    "            count+=1\n",
    "    if count==1:\n",
    "        print(f\"Number {num} is Prime\")"
   ]
  },
  {
   "cell_type": "markdown",
   "id": "92b36375",
   "metadata": {},
   "source": [
    "##### Q9: Write a program to check if the given year is a leap year or not."
   ]
  },
  {
   "cell_type": "code",
   "execution_count": null,
   "id": "c6ee97aa",
   "metadata": {},
   "outputs": [],
   "source": [
    "user_=int(input(\"Enter Year: \"))\n",
    "if user_%4==0:\n",
    "    print(f\"Entered year {user_} is Leap Year.\")\n",
    "else:\n",
    "    print(f\"Entered year {user_} is not Leap Year.\")"
   ]
  },
  {
   "cell_type": "markdown",
   "id": "b0808743",
   "metadata": {},
   "source": [
    "##### Q10: Write a program to check if the given string is a palindrome."
   ]
  },
  {
   "cell_type": "code",
   "execution_count": null,
   "id": "74587485",
   "metadata": {},
   "outputs": [],
   "source": [
    "user_=input(\"Enter Text: \")\n",
    "# Try writing \"lol\", \"madam\", \"radar\" or \"deified\"\n",
    "if user_[::-1]==user_:\n",
    "    print(\"It's a Palindrome\")\n",
    "else:\n",
    "    print(\"It's not a Palindrome\")"
   ]
  },
  {
   "cell_type": "markdown",
   "id": "8f2b775c",
   "metadata": {},
   "source": [
    "##### Q11: Write a program to print factorial of a given number."
   ]
  },
  {
   "cell_type": "code",
   "execution_count": null,
   "id": "e098b8f1",
   "metadata": {},
   "outputs": [],
   "source": [
    "user_=int(input(\"Enter Number to find Factorial: \"))\n",
    "fact=1\n",
    "for number in range(1,user_+1):\n",
    "    fact=fact*number\n",
    "print(fact)"
   ]
  },
  {
   "cell_type": "markdown",
   "id": "954a845d",
   "metadata": {},
   "source": [
    "##### Q12: Write a program to generate the first n terms of the Fibonacci series."
   ]
  },
  {
   "cell_type": "code",
   "execution_count": null,
   "id": "45d0e36b",
   "metadata": {},
   "outputs": [],
   "source": [
    "user_=int(input(\"Enter a Fibonacci Range: \"))\n",
    "a=0\n",
    "b=1\n",
    "print(a,b,\" \",end=\"\")\n",
    "for n in range(user_):\n",
    "    z=a+b\n",
    "    temp=b\n",
    "    b=z\n",
    "    a=temp\n",
    "    print(z,\" \",end=\"\")"
   ]
  },
  {
   "cell_type": "markdown",
   "id": "0f5e766b",
   "metadata": {},
   "source": [
    "##### Q13: Write a program to print the grade for a given percentage of marks. The grade should be\n",
    "A for marks>=80,\n",
    "B for marks>=60,\n",
    "C for marks>=40 and\n",
    "D otherwise."
   ]
  },
  {
   "cell_type": "code",
   "execution_count": null,
   "id": "4a4697de",
   "metadata": {},
   "outputs": [],
   "source": [
    "user_=int(input(\"Enter your marks: \"))\n",
    "if user_>=80 and user_<=100:\n",
    "    print(\"You got A\")\n",
    "elif user_>=60 and user_<=100:\n",
    "    print(\"You got B\")\n",
    "elif user_>=40 and user_<=100:\n",
    "    print(\"You got C\")\n",
    "elif user_>=0 and user_<40 and user_<=100:\n",
    "    print(\"You got D\")\n",
    "else:\n",
    "    print(\"Invalid\")"
   ]
  },
  {
   "cell_type": "markdown",
   "id": "6991b3df",
   "metadata": {},
   "source": [
    "##### Q14: Write a program to find if the given point lies on the x-axis, y-axis or on the z-axis, given it’s coordinates. e.g: A point is shown like:(x-value, y-value, z-value) for example (12,56,78)"
   ]
  },
  {
   "cell_type": "code",
   "execution_count": null,
   "id": "41f63e4e",
   "metadata": {},
   "outputs": [],
   "source": [
    "x_val=int(input(\"Enter value of x: \"))\n",
    "y_val=int(input(\"Enter value of y: \"))\n",
    "z_val=int(input(\"Enter value of z: \"))\n",
    "if y_val==0 and z_val==0:\n",
    "    print(\"Point Lies on x-axis.\")\n",
    "elif y_val==0 and x_val==0:\n",
    "    print(\"Point Lies on z-axis.\")\n",
    "elif z_val==0 and x_val==0:\n",
    "    print(\"Point Lies on y-axis.\")\n",
    "else:\n",
    "    print(f\"Point Lies at ({x_val},{y_val},{z_val}).\")"
   ]
  },
  {
   "cell_type": "markdown",
   "id": "5398b7e3",
   "metadata": {},
   "source": [
    "##### Q15: Write a program to find the distance between the two points. User should enter the coordinates of the two points."
   ]
  },
  {
   "cell_type": "code",
   "execution_count": null,
   "id": "391164bc",
   "metadata": {},
   "outputs": [],
   "source": [
    "cord_1_x=int(input(\"Enter x Coordinate 1: \"))\n",
    "cord_1_y=int(input(\"Enter y Coordinate 1: \"))\n",
    "cord_2_x=int(input(\"Enter x Coordinate 2: \"))\n",
    "cord_2_y=int(input(\"Enter y Coordinate 2: \"))\n",
    "dis=(((cord_2_x-cord_1_x)**2)+((cord_2_y-cord_1_y)**2))**0.5\n",
    "print(f\"The Distance between points A({cord_1_x},{cord_1_y}) and B({cord_2_x},{cord_2_y}) is {dis}\")"
   ]
  },
  {
   "cell_type": "markdown",
   "id": "852d7e3e",
   "metadata": {},
   "source": [
    "##### Q16: Write a program to print if the given triangle is an equilateral triangle, isosceles triangle or scalene triangle. User should enter the values for the sides of the triangle."
   ]
  },
  {
   "cell_type": "code",
   "execution_count": null,
   "id": "10be7c9a",
   "metadata": {},
   "outputs": [],
   "source": [
    "print(\"Enter Sides of the Triangle.\")\n",
    "s1=float(input(\"Enter Side 1: \"))\n",
    "s2=float(input(\"Enter Side 2: \"))\n",
    "s3=float(input(\"Enter Side 3: \"))\n",
    "if s1==s2==s3:\n",
    "    print(\"Triangle is Equilateral.\")\n",
    "elif (s1==s2)or(s3==s2)or(s3==s1):\n",
    "    print(\"Triangle is Isosceles.\")\n",
    "else:\n",
    "    print(\"Triangle is Scalene.\")"
   ]
  },
  {
   "cell_type": "markdown",
   "id": "a197dd30",
   "metadata": {},
   "source": [
    "##### Q17: Write a program which repeatedly reads numbers until the user enters “done”. Once “done” is entered, print out the total, count, and average of the numbers. If the user enters anything other than a number, detect their mistake."
   ]
  },
  {
   "cell_type": "code",
   "execution_count": null,
   "id": "7f775451",
   "metadata": {},
   "outputs": [],
   "source": [
    "n=0\n",
    "count=0\n",
    "while True:\n",
    "    user_=input(\"Enter: \")\n",
    "    if user_.lower()=='done':\n",
    "        if n==0 or count==0:\n",
    "            print(f\"The Total is {n}, count is {count} and average is {None}.\")\n",
    "        else:\n",
    "            avg=n/count\n",
    "            print(f\"The Total is {n}, count is {count} and average is {avg}.\")\n",
    "        break\n",
    "    elif user_.isnumeric() == False:\n",
    "        print(\"ERROR. Invalid Number.\")        \n",
    "    else:\n",
    "        count+=1\n",
    "        n=n+int(user_)\n"
   ]
  }
 ],
 "metadata": {
  "kernelspec": {
   "display_name": "Python 3 (ipykernel)",
   "language": "python",
   "name": "python3"
  },
  "language_info": {
   "codemirror_mode": {
    "name": "ipython",
    "version": 3
   },
   "file_extension": ".py",
   "mimetype": "text/x-python",
   "name": "python",
   "nbconvert_exporter": "python",
   "pygments_lexer": "ipython3",
   "version": "3.10.12"
  }
 },
 "nbformat": 4,
 "nbformat_minor": 5
}
