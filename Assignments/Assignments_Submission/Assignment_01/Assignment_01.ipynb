{
 "cells": [
  {
   "cell_type": "markdown",
   "id": "8334b0ac",
   "metadata": {},
   "source": [
    "## Assignment #1\n",
    "- Submitted By: Asad"
   ]
  },
  {
   "cell_type": "markdown",
   "id": "ac17e609",
   "metadata": {},
   "source": [
    "### Variables, expressions, and statements"
   ]
  },
  {
   "cell_type": "markdown",
   "id": "02e518b4",
   "metadata": {},
   "source": [
    "##### Q1: Write a program that uses input to prompt a user for their name and then welcomes them.\n",
    "Enter your name: Chuck\n",
    "- Hello Chuck"
   ]
  },
  {
   "cell_type": "code",
   "execution_count": null,
   "id": "86824b06",
   "metadata": {
    "scrolled": true
   },
   "outputs": [],
   "source": [
    "name= input(\"Enter Your Name: \")\n",
    "print(f\"Hello {name}\")"
   ]
  },
  {
   "cell_type": "markdown",
   "id": "d8c09e2a",
   "metadata": {},
   "source": [
    "##### Q2: Write a program to prompt the user for hours and rate per hour to compute gross pay\n",
    "Enter Hours: 35\n",
    "\n",
    "Enter Rate: 2.75\n",
    "\n",
    "Pay: 96.25\n",
    "\n",
    "We won’t worry about making sure our pay has exactly two digits after the decimal place for now. If you want, you can play with the built-in Python round function to properly round the resulting pay to two decimal places.\n"
   ]
  },
  {
   "cell_type": "code",
   "execution_count": null,
   "id": "6e3ffcab",
   "metadata": {},
   "outputs": [],
   "source": [
    "hours=input(\"Enter Hours: \")\n",
    "rate=input(\"Enter Rate: \")\n",
    "gross_pay=float(hours)*float(rate)\n",
    "print(f\"The Gross Pay is: {gross_pay}\")"
   ]
  },
  {
   "cell_type": "markdown",
   "id": "84148c77",
   "metadata": {},
   "source": [
    "##### Q3: Assume that we execute the following assignment statements:\n",
    "width = 17\n",
    "\n",
    "height = 12.0\n",
    "\n",
    "For each of the following expressions, write the value of the expression and the type (of the value of the expression).\n",
    "\n",
    "1. width//2\n",
    "2. width/2.0\n",
    "3. height/3\n",
    "4. 1 + 2 * 5\n",
    "\n",
    "Use the Python interpreter to check your answers.\n"
   ]
  },
  {
   "cell_type": "code",
   "execution_count": null,
   "id": "2538edac",
   "metadata": {},
   "outputs": [],
   "source": [
    "width=input(\"Enter Width: \")\n",
    "height=input(\"Enter Height: \")\n",
    "print(f\"width//2 is equals to {int(width) // 2} and it's datatype is {type(int(width) // 2)}\")\n",
    "print(f\"width/2.0 is equals to {int(width) / 2.0} and it's datatype is {type(int(width) / 2.0)}\")\n",
    "print(f\"height/3 is equals to {float(height) / 3} and it's datatype is {type(float(height) / 3)}\")\n",
    "print(f\"1+2*5 is equals to {1+2*5} and it's datatype is {type(1+2*5)}\")"
   ]
  },
  {
   "cell_type": "markdown",
   "id": "3b665698",
   "metadata": {},
   "source": [
    "##### Q4: Write a program which prompts the user for a Celsius temperature, convert the temperature to Fahrenheit, and print out the converted temperature."
   ]
  },
  {
   "cell_type": "code",
   "execution_count": null,
   "id": "03274b65",
   "metadata": {},
   "outputs": [],
   "source": [
    "cel_temp=input(\"Enter Temperature in Celsius: \")\n",
    "fah_temp=((9/5)*float(cel_temp))+32\n",
    "print(fah_temp)"
   ]
  },
  {
   "cell_type": "markdown",
   "id": "72d1fb83",
   "metadata": {},
   "source": [
    "###### Q5: Write a program to find if a given number is a perfect square or not"
   ]
  },
  {
   "cell_type": "code",
   "execution_count": null,
   "id": "34c76ad8",
   "metadata": {},
   "outputs": [],
   "source": [
    "num=input(\"Enter a number: \")\n",
    "num=int(num)\n",
    "x=num**0.5\n",
    "if num%x==0:\n",
    "    print(f\"{num} is Perfect Square\")\n",
    "else:\n",
    "    print(f\"{num} is not Perfect Square\")"
   ]
  },
  {
   "cell_type": "markdown",
   "id": "1c0159b1",
   "metadata": {},
   "source": [
    "##### Q6: Write Python statements to calculate and print the simple profit using variables c, r and t for capital, rate of profit and time duration respectively"
   ]
  },
  {
   "cell_type": "code",
   "execution_count": null,
   "id": "54ce1750",
   "metadata": {},
   "outputs": [],
   "source": [
    "capital=float(input(\"Enter Capital: \"))\n",
    "rate=float(input(\"Enter Rate of Profit: \"))\n",
    "time=float(input(\"Enter Time Duration: \"))\n",
    "profit=capital*rate*time\n",
    "print(f\"The Profit is: {profit}\")"
   ]
  },
  {
   "cell_type": "markdown",
   "id": "00bbdcd0",
   "metadata": {},
   "source": [
    "##### Q7: Write Python statements to create 2 complex objects and print their sum, difference and product."
   ]
  },
  {
   "cell_type": "code",
   "execution_count": null,
   "id": "d4cc9202",
   "metadata": {},
   "outputs": [],
   "source": [
    "num_1=3+2j\n",
    "num_2=4+6j\n",
    "print(f\"The sum is {num_1+num_2}\")\n",
    "print(f\"The differnce is {num_1-num_2}\")\n",
    "print(f\"The product is {num_1*num_2}\")"
   ]
  },
  {
   "cell_type": "markdown",
   "id": "af5a8e0d",
   "metadata": {},
   "source": [
    "##### Q8: Write Python statements to accept a string from the user and print it in title case."
   ]
  },
  {
   "cell_type": "code",
   "execution_count": null,
   "id": "2ad48b3c",
   "metadata": {},
   "outputs": [],
   "source": [
    "txt=input(\"Enter your text: \")\n",
    "print(txt.title())"
   ]
  },
  {
   "cell_type": "markdown",
   "id": "c139e321",
   "metadata": {},
   "source": [
    "### Strings"
   ]
  },
  {
   "cell_type": "markdown",
   "id": "3b534c4d",
   "metadata": {},
   "source": [
    "##### Q1: Take the following Python code that stores a string:\n",
    "str = 'X-DSPAM-Confidence:0.8475'\n",
    "\n",
    "Use find and string slicing to extract the portion of the string after the colon character and then use the float function to convert the extracted string into a floating point number.\n"
   ]
  },
  {
   "cell_type": "code",
   "execution_count": null,
   "id": "12d2b554",
   "metadata": {},
   "outputs": [],
   "source": [
    "my_str = 'X-DSPAM-Confidence:0.8475'\n",
    "colonIndex = my_str.find(\":\")\n",
    "extractedText = float(my_str[colonIndex+1:-1])\n",
    "print(f\"Extracted String: {extractedText}\\nType: {type(extractedText)}\")"
   ]
  },
  {
   "cell_type": "markdown",
   "id": "eae1ec4d",
   "metadata": {},
   "source": [
    "##### Q2: Here is a string in python:\n",
    "my_str = “Welcome to the Course on Data Science.”\n",
    "\n",
    "Do the following:\n",
    "- Split the string’\n",
    "- Print only first 10 letters\n",
    "- Make a new string from this, such that it has only these Words: “Welcome Science”"
   ]
  },
  {
   "cell_type": "code",
   "execution_count": null,
   "id": "b1d48bb9",
   "metadata": {},
   "outputs": [],
   "source": [
    "d_str=\"Welcome to the Course on Data Science.\"\n",
    "print(d_str.split())\n",
    "print(d_str[:10])\n",
    "n_str=d_str[:7]+d_str[-9:-1]\n",
    "print(n_str)"
   ]
  },
  {
   "cell_type": "markdown",
   "id": "cec1a543",
   "metadata": {},
   "source": [
    "##### Q3: Write a Python script to calculate the number of occurrences of a given character in an any given string."
   ]
  },
  {
   "cell_type": "code",
   "execution_count": null,
   "id": "8bb31574",
   "metadata": {},
   "outputs": [],
   "source": [
    "d_str=input(\"Enter the text: \")\n",
    "d_find=input(\"Enter character to count: \")\n",
    "count=d_str.count(d_find)\n",
    "print(\"The Entered Character found at\",count,\"places.\")"
   ]
  },
  {
   "cell_type": "markdown",
   "id": "0ed642ae",
   "metadata": {},
   "source": [
    "##### Q4: Write a Python script to count the number of occurrences of each character in a given string."
   ]
  },
  {
   "cell_type": "code",
   "execution_count": null,
   "id": "8d82cb3c",
   "metadata": {},
   "outputs": [],
   "source": [
    "d_str = input(\"Enter the text: \")\n",
    "l_str = list(d_str)\n",
    "count = dict({})\n",
    "for i in l_str:\n",
    "    count[i] = d_str.count(i)\n",
    "print(count)"
   ]
  },
  {
   "cell_type": "markdown",
   "id": "3ca04526",
   "metadata": {},
   "source": [
    "##### Q5: Write a Python script to form a string out of the first 2 and last 2 characters from the given string. For example, given the string “I am a student”, the output expected is “I nt”."
   ]
  },
  {
   "cell_type": "code",
   "execution_count": null,
   "id": "a32995d5",
   "metadata": {},
   "outputs": [],
   "source": [
    "d_str=input(\"Enter the String: \")\n",
    "n_str=d_str[:2]+d_str[-2:]\n",
    "print(n_str)"
   ]
  },
  {
   "cell_type": "markdown",
   "id": "a7f881b6",
   "metadata": {},
   "source": [
    "### Lists"
   ]
  },
  {
   "cell_type": "markdown",
   "id": "0324e0b8",
   "metadata": {},
   "source": [
    "##### Q 1: Make a list modify it by removing the first and last elements. Then make a list called middle that contains all except the first and last elements."
   ]
  },
  {
   "cell_type": "code",
   "execution_count": null,
   "id": "a52b622f",
   "metadata": {},
   "outputs": [],
   "source": [
    "my_list=[0,1,2,3,4,5,6]\n",
    "n_list=my_list[1:-1]\n",
    "my_list.pop(0)\n",
    "print(\"After Removing First Element:\",my_list)\n",
    "my_list.pop(5)\n",
    "print(\"After Removing First & Last Elements:\",my_list)\n",
    "print(f\"Middle list: {n_list}\")"
   ]
  },
  {
   "cell_type": "markdown",
   "id": "6579c697",
   "metadata": {},
   "source": [
    "##### Q2: Create a list of some text and find the unique words in it.\n"
   ]
  },
  {
   "cell_type": "code",
   "execution_count": null,
   "id": "9c9cc991",
   "metadata": {},
   "outputs": [],
   "source": [
    "txt = input(\"Enter text:\")\n",
    "txtList = txt.split(\" \")\n",
    "uniqueList = set(txtList)\n",
    "print(f\"\\nUnique words are: {uniqueList}\")"
   ]
  },
  {
   "cell_type": "markdown",
   "id": "01d7f9c7",
   "metadata": {},
   "source": [
    "##### Q3: Write a program to add all the items in a list.\n"
   ]
  },
  {
   "cell_type": "code",
   "execution_count": null,
   "id": "5644d3f5",
   "metadata": {},
   "outputs": [],
   "source": [
    "my_list=[0,0,0,0]\n",
    "for x,item in enumerate(my_list):\n",
    "    my_list[x]=int(input(f\"Enter Element {item}:\"))\n",
    "sum_=0\n",
    "for i in my_list:\n",
    "    sum_=sum_+i\n",
    "print(\"Sum of all items in list is:\",sum_)"
   ]
  },
  {
   "cell_type": "markdown",
   "id": "913f1ca1",
   "metadata": {},
   "source": [
    "##### Q4. Write a program to get the largest and smallest number in a list."
   ]
  },
  {
   "cell_type": "code",
   "execution_count": null,
   "id": "db8685a6",
   "metadata": {},
   "outputs": [],
   "source": [
    "my_list=[0,0,0,0]\n",
    "for x,item in enumerate(my_list):\n",
    "    my_list[x]=int(input(f\"Enter Element {item}:\"))\n",
    "print(\"Largest Value is:\",max(my_list))\n",
    "print(\"Smallest Value is:\",min(my_list))\n",
    "# Alternative by sorting\n",
    "# l=len(my_list)\n",
    "# for i in range(0,l):\n",
    "#     for j in range(i+1,l):\n",
    "#         if my_list[i]>my_list[j]:\n",
    "#             temp=my_list[i]\n",
    "#             my_list[i]=my_list[j]\n",
    "#             my_list[j]=temp\n"
   ]
  },
  {
   "cell_type": "markdown",
   "id": "56e83e7e",
   "metadata": {},
   "source": [
    "##### Q5: Write a program to remove duplicates from a list."
   ]
  },
  {
   "cell_type": "code",
   "execution_count": null,
   "id": "89988501",
   "metadata": {},
   "outputs": [],
   "source": [
    "my_list=[0,0,0,0]\n",
    "for x,item in enumerate(my_list):\n",
    "    my_list[x]=int(input(f\"Enter Element {item}:\"))\n",
    "n_list = list(set(my_list))\n",
    "print(f\"Original List: {my_list}\\nManipulated List: {n_list}\")"
   ]
  },
  {
   "cell_type": "markdown",
   "id": "d5e264b6",
   "metadata": {},
   "source": [
    "##### Q6: Write a program that prints whether at least one member of the given two lists are same."
   ]
  },
  {
   "cell_type": "code",
   "execution_count": null,
   "id": "5ab49fc6",
   "metadata": {},
   "outputs": [],
   "source": [
    "list_1=[]\n",
    "list_2=[]\n",
    "for i in range(0,3):\n",
    "    x=input(\"Enter list 1 elements:\")\n",
    "    list_1.append(x)\n",
    "print(\"\\nList 2\")\n",
    "for i in range(0,3):\n",
    "    x=input(\"Enter list 2 elements:\")\n",
    "    list_2.append(x)\n",
    "count=0\n",
    "for i in list_1:\n",
    "    if i in list_2:\n",
    "        count=count+1\n",
    "if count>0:\n",
    "    print(\"\\n\\nSome Elements Match\")\n",
    "else:\n",
    "    print(\"\\n\\nNothing Matches\")"
   ]
  },
  {
   "cell_type": "markdown",
   "id": "a9dc9bc1",
   "metadata": {},
   "source": [
    "##### Q7: Write a program to convert a list of characters into a string."
   ]
  },
  {
   "cell_type": "code",
   "execution_count": null,
   "id": "2164177b",
   "metadata": {},
   "outputs": [],
   "source": [
    "my_list=[]\n",
    "str_=\"\"\n",
    "for i in range(0,5):\n",
    "    x=input(f\"Enter character {i}\")\n",
    "    my_list.append(x)\n",
    "for i in my_list:\n",
    "    str_=str_+i\n",
    "print(f\"List of characters: {my_list}\\nJoined String: {str_}\")    "
   ]
  },
  {
   "cell_type": "markdown",
   "id": "b454d62c",
   "metadata": {},
   "source": [
    "##### Q8: Write a program to check whether two lists are identical."
   ]
  },
  {
   "cell_type": "code",
   "execution_count": null,
   "id": "584ba549",
   "metadata": {},
   "outputs": [],
   "source": [
    "list_1=[]\n",
    "list_2=[]\n",
    "for i in range(0,3):\n",
    "    x=input(\"Enter list 1 Items:\")\n",
    "    list_1.append(x)\n",
    "print(\"\\nList 2\")\n",
    "for i in range(0,3):\n",
    "    x=input(\"Enter list 1 Items:\")\n",
    "    list_2.append(x)\n",
    "\n",
    "if list_1 == list_2:\n",
    "    print(\"\\nLists are identical\")\n",
    "else:\n",
    "    print(\"\\nLists are not identical\")\n",
    "# for i in range(0,3):\n",
    "#     if list_1[i]==list_2[i]:\n",
    "#         x=True\n",
    "#     else:\n",
    "#         x=False\n",
    "# if x:\n",
    "#     print(\"\\nLists are identical\")\n",
    "# else:\n",
    "#     print(\"\\nLists are not identical\")"
   ]
  },
  {
   "cell_type": "markdown",
   "id": "b03b7c09",
   "metadata": {},
   "source": [
    "##### Q9: Write a program to print unique values from a list."
   ]
  },
  {
   "cell_type": "code",
   "execution_count": null,
   "id": "6f4baf13",
   "metadata": {},
   "outputs": [],
   "source": [
    "my_list=[]\n",
    "for i in range(0,5):\n",
    "    x=input(\"Enter List Items:\")\n",
    "    my_list.append(x)\n",
    "uniqueList = list(set(my_list))\n",
    "print(f\"Original List: {my_list}\\nUnique List: {uniqueList}\")"
   ]
  },
  {
   "cell_type": "markdown",
   "id": "fb19b6fc",
   "metadata": {},
   "source": [
    "##### Q10: Write a program to print the number of occurrences of each element in a list."
   ]
  },
  {
   "cell_type": "code",
   "execution_count": null,
   "id": "4a196076",
   "metadata": {},
   "outputs": [],
   "source": [
    "my_list=[]\n",
    "for i in range(0,5):\n",
    "    x=input(\"Enter List Items:\")\n",
    "    my_list.append(x)\n",
    "count = dict({})\n",
    "for i in my_list:\n",
    "    count[i] = my_list.count(i)\n",
    "print(count)"
   ]
  },
  {
   "cell_type": "markdown",
   "id": "0f52235d",
   "metadata": {},
   "source": [
    "##### Q11: Write a program to find the sub-list in a list of lists whose sum of elements is the highest."
   ]
  },
  {
   "cell_type": "code",
   "execution_count": null,
   "id": "c5948112",
   "metadata": {},
   "outputs": [],
   "source": [
    "my_list=[[1,2,3],[4,5,6],[7,8,9]]\n",
    "sum1= sum(my_list[0])\n",
    "sum2= sum(my_list[1])\n",
    "sum3= sum(my_list[2])\n",
    "x=max(sum1,sum2,sum3)\n",
    "if x==sum1:\n",
    "    print(my_list[0])\n",
    "elif x==sum2:\n",
    "    print(my_list[1])\n",
    "else:\n",
    "    print(my_list[2])"
   ]
  },
  {
   "cell_type": "markdown",
   "id": "401b18fc",
   "metadata": {},
   "source": [
    "##### Q12: Write a program to insert a given string at the beginning of all the strings in a list."
   ]
  },
  {
   "cell_type": "code",
   "execution_count": null,
   "id": "27f6c43d",
   "metadata": {},
   "outputs": [],
   "source": [
    "my_list=[]\n",
    "for i in range(0,3):\n",
    "    x=input(\"Enter List Items:\")\n",
    "    my_list.append(x)\n",
    "\n",
    "str_=input(\"\\nEnter String for concatination:\")\n",
    "for i in range(0,3):\n",
    "    my_list[i]=str_+my_list[i]\n",
    "print(my_list)"
   ]
  },
  {
   "cell_type": "markdown",
   "id": "1eda98cc",
   "metadata": {},
   "source": [
    "##### Q13: Write a program to convert a string to a list of characters."
   ]
  },
  {
   "cell_type": "code",
   "execution_count": null,
   "id": "88e45caf",
   "metadata": {},
   "outputs": [],
   "source": [
    "str_=input(\"Enter string text:\")\n",
    "str_ = list(str_)\n",
    "print(str_)"
   ]
  },
  {
   "cell_type": "markdown",
   "id": "ca1496d3",
   "metadata": {},
   "source": [
    "##### Q14: Write a program to concatenate elements of a list with corresponding elements of another given list"
   ]
  },
  {
   "cell_type": "code",
   "execution_count": null,
   "id": "0d3122d7",
   "metadata": {},
   "outputs": [],
   "source": [
    "list_1=[]\n",
    "list_2=[]\n",
    "for i in range(0,3):\n",
    "    x=input(\"Enter List 1 Elements:\")\n",
    "    list_1.append(x)\n",
    "print(\"\")\n",
    "for i in range(0,3):\n",
    "    x=input(\"Enter List 2 Elements:\")\n",
    "    list_2.append(x)\n",
    "for i in range(0,3):\n",
    "    print(str(list_1[i])+str(list_2[i]))"
   ]
  },
  {
   "cell_type": "markdown",
   "id": "a7946865",
   "metadata": {},
   "source": [
    "##### Q15: Write a program to split a list every n-th element to obtain a list of lists."
   ]
  },
  {
   "cell_type": "code",
   "execution_count": null,
   "id": "cdda3d48",
   "metadata": {},
   "outputs": [],
   "source": [
    "my_list=[1,23,124,425,235]\n",
    "m_list=[]\n",
    "for items in my_list:\n",
    "    n_item=[items]\n",
    "    m_list.append(n_item)\n",
    "print(f\"List: {my_list}\\nList of lists: {m_list}\")"
   ]
  },
  {
   "cell_type": "markdown",
   "id": "e28f9061",
   "metadata": {},
   "source": [
    "##### Q16: Write a program to convert a list of multiple integers into one single integer. Thus, the list [25,12,2] should get converted to the number 25122."
   ]
  },
  {
   "cell_type": "code",
   "execution_count": null,
   "id": "d21702c4",
   "metadata": {},
   "outputs": [],
   "source": [
    "my_list=[25,12,2]\n",
    "str_ = \"\"\n",
    "for item in my_list:\n",
    "    str_ = str_+str(item)\n",
    "print(str_)"
   ]
  },
  {
   "cell_type": "markdown",
   "id": "d23c784a",
   "metadata": {},
   "source": [
    "### Tuples"
   ]
  },
  {
   "cell_type": "markdown",
   "id": "80abf446",
   "metadata": {},
   "source": [
    "##### Q1: Write a program to convert a tuple of values into a tuple of singleton tuples of values. Thus, (1,2,3) should get converted to ((1,)(2,),(3,))."
   ]
  },
  {
   "cell_type": "code",
   "execution_count": null,
   "id": "c53cb9d4",
   "metadata": {},
   "outputs": [],
   "source": [
    "my_tuple=(1,2,3)\n",
    "n_tuple=[]\n",
    "for item in my_tuple:\n",
    "    n_tuple.append((item,))\n",
    "print(tuple(n_tuple))\n",
    "    "
   ]
  },
  {
   "cell_type": "markdown",
   "id": "d2553d46",
   "metadata": {},
   "source": [
    "##### Q2: Write a program to count the number of elements in a list until it finds a tuple in the list"
   ]
  },
  {
   "cell_type": "code",
   "execution_count": null,
   "id": "a7cd96a6",
   "metadata": {},
   "outputs": [],
   "source": [
    "my_list=[1,23,55,4,(1,2,3)]\n",
    "count=0\n",
    "for items in my_list:\n",
    "    if type(items)==tuple:\n",
    "        print(\"Tuple found at index\", my_list.index(items))\n",
    "        break\n",
    "    else:\n",
    "        continue"
   ]
  },
  {
   "cell_type": "markdown",
   "id": "7f3f6ce6",
   "metadata": {},
   "source": [
    "##### Q3: Write a program to add corresponding elements of two given tuples, giving rise to a new tuple."
   ]
  },
  {
   "cell_type": "code",
   "execution_count": null,
   "id": "00e37b81",
   "metadata": {},
   "outputs": [],
   "source": [
    "tuple_1=[]\n",
    "for i in range(0,3):\n",
    "    x=int(input(\"enter element\"))\n",
    "    tuple_1.append(x)\n",
    "tuple_1=tuple(tuple_1)\n",
    "tuple_2=[]\n",
    "for i in range(0,3):\n",
    "    x=int(input(\"enter element\"))\n",
    "    tuple_2.append(x)\n",
    "tuple_2=tuple(tuple_2)\n",
    "tuple_3=[]\n",
    "for i in range(0,3):\n",
    "    tuple_3.append(tuple_1[i]+tuple_2[i])\n",
    "tuple_3=tuple(tuple_3)\n",
    "print(tuple_3)"
   ]
  },
  {
   "cell_type": "markdown",
   "id": "c338519d",
   "metadata": {},
   "source": [
    "##### Q4: Write a program to multiply each element of a given tuple with a given integer, giving rise to a new tuple."
   ]
  },
  {
   "cell_type": "code",
   "execution_count": null,
   "id": "5dccfdf1",
   "metadata": {},
   "outputs": [],
   "source": [
    "d_tuple=[]\n",
    "l=int(input(\"Enter length of tuple\"))\n",
    "for i in range(0,l):\n",
    "    x=input(\"Enter element\")\n",
    "    d_tuple.append(x)\n",
    "d_tuple=tuple(d_tuple)\n",
    "n_tuple=[]\n",
    "num=int(input(\"Enter integer to multiply\"))\n",
    "for i in range(0,l):\n",
    "    n_tuple.append(num*int(d_tuple[i]))\n",
    "n_tuple=tuple(n_tuple)\n",
    "print(n_tuple)"
   ]
  },
  {
   "cell_type": "markdown",
   "id": "ae0f01b2",
   "metadata": {},
   "source": [
    "### Sets"
   ]
  },
  {
   "cell_type": "markdown",
   "id": "a3bc5008",
   "metadata": {},
   "source": [
    "##### Q1: Add few unique numbers in a set and use the 'in' operator to search for an element."
   ]
  },
  {
   "cell_type": "code",
   "execution_count": null,
   "id": "8a676fd7",
   "metadata": {},
   "outputs": [],
   "source": [
    "my_set=set(())\n",
    "l=int(input(\"Enter length of set\"))\n",
    "for i in range(0,l):\n",
    "    x=input(\"Enter set members\")\n",
    "    my_set.add(x)\n",
    "print(\"Unique Words in the set are:\")\n",
    "for i in my_set:\n",
    "    print(i,end=\" \")\n",
    "s_ele=input(\"\\nEnter any element to search\")\n",
    "if s_ele in my_set:\n",
    "    print(\"Element Found in set\")\n",
    "else:\n",
    "    print(\"Element not found\")"
   ]
  },
  {
   "cell_type": "markdown",
   "id": "d4041d67",
   "metadata": {},
   "source": [
    "##### Q2: Write a program to convert a list of integers into a list of unique integers using sets."
   ]
  },
  {
   "cell_type": "code",
   "execution_count": null,
   "id": "631dbeef",
   "metadata": {},
   "outputs": [],
   "source": [
    "my_list=[]\n",
    "l=int(input(\"Enter length\"))\n",
    "for i in range(0,l):\n",
    "    x=int(input(\"Enter Elements\"))\n",
    "    my_list.append(x)\n",
    "print(f\"The List is {my_list}\")\n",
    "my_list=set(my_list)\n",
    "print(f\"Set is {my_list}\")"
   ]
  },
  {
   "cell_type": "markdown",
   "id": "4754bdca",
   "metadata": {},
   "source": [
    "##### Q3: Assume that we have 2 lists, each having only IP addresses as its contents.\n",
    "Write a program to determine if the 2 lists have the same IP addresses (albeit in different positions) in the most optimal manner.\n"
   ]
  },
  {
   "cell_type": "code",
   "execution_count": null,
   "id": "82400d18",
   "metadata": {},
   "outputs": [],
   "source": [
    "list_1=[]\n",
    "list_2=[]\n",
    "l=int(input(\"Enter length\"))\n",
    "for i in range(0,l):\n",
    "    x=input(\"Enter IP addresses for list1 \")\n",
    "    list_1.append(x)\n",
    "print(\"List 2\")\n",
    "for i in range(0,l):\n",
    "    x=input(\"Enter IP addresses for list2 \")\n",
    "    list_2.append(x)\n",
    "for i in range(0,l):\n",
    "    if list_1[i] in list_2:\n",
    "        print(\"\\nList 1 has the same IP address as List 2 at index\",i)"
   ]
  },
  {
   "cell_type": "markdown",
   "id": "e14a4df1",
   "metadata": {},
   "source": [
    "### Dictionaries"
   ]
  },
  {
   "cell_type": "markdown",
   "id": "00ac5cef",
   "metadata": {},
   "source": [
    "##### Q1: Prepare a dictionary that has roll numbers as keys and marks as values. Print all the keys. Print all the values. Get 2 different values using their keys."
   ]
  },
  {
   "cell_type": "code",
   "execution_count": null,
   "id": "548ed833",
   "metadata": {},
   "outputs": [],
   "source": [
    "c_marks={}\n",
    "l=int(input(\"length\"))\n",
    "for i in range(0,l):\n",
    "    x=input(\"Enter Key \")\n",
    "    y=int(input(\"Enter value \"))\n",
    "    c_marks[x]=y\n",
    "print(\"\\nAll the Keys are:\",c_marks.keys())\n",
    "print(\"All the Values are:\",c_marks.values())\n",
    "x=input(\"Enter key to find \")\n",
    "print(f\"Marks of roll number {x}:\",c_marks[x])\n",
    "x=input(\"Enter key to find \")\n",
    "print(f\"Marks of roll number {x}:\",c_marks[x])"
   ]
  },
  {
   "cell_type": "markdown",
   "id": "8bcc3539",
   "metadata": {},
   "source": [
    "##### Q2: A shop has following commodities with its inventory maintained in a dictionary:\n",
    "comm = {\n",
    "'chair' : 10,\n",
    "'table' : 22,\n",
    "'sofa-set': 2,\n",
    "'tv-unit': 0,\n",
    "'fan': 10,\n",
    "'table-lamp': 0,\n",
    "'iron-box': 0,\n",
    "'bed': 30\n",
    "}    \n",
    "\n",
    "and its price in another dictionary\n",
    "\n",
    "price = {\n",
    "'chair': 2365,\n",
    "'table': 37752,\n",
    "'sofa-set': 23299,\n",
    "'tv-unit': 120344\n",
    "'bed': 40226\n",
    "}\n",
    "\n",
    "Accept the number of items for each commodity sold from standard input and at the end do the following:\n",
    "1. Evaluate the income made by the shop owner.\n",
    "2. If user enters a commodity that is not available in the shop, display\n",
    "appropriate message.\n",
    "3. If user enters a quantity that is beyond the available limit, display\n",
    "the size of the inventory.\n",
    "4. Display the inventory available."
   ]
  },
  {
   "cell_type": "code",
   "execution_count": null,
   "id": "39c5910c",
   "metadata": {},
   "outputs": [],
   "source": [
    "inventory={ 'chair' : 10, 'table' : 22, 'sofa-set': 2, 'tv-unit': 0, 'fan': 10, 'table-lamp': 0, 'iron-box': 0, 'bed': 30 }\n",
    "price= { 'chair': 2365, 'table': 37752, 'sofa-set': 23299, 'tv-unit': 120344, 'bed': 40226, 'fan':1560,'table-lamp': 3400,'iron-box': 1200  }\n",
    "item_sold=input(\"Enter the item sold \")\n",
    "sold_qnt=int(input(\"Enter the qnt. item sold:\"))\n",
    "print(inventory.keys())\n",
    "if item_sold in inventory.keys() and (sold_qnt<=inventory[item_sold] and sold_qnt>0):\n",
    "    print(f\"{item_sold} Available in Inventory {inventory[item_sold]}\")\n",
    "    income=sold_qnt*(price[item_sold])\n",
    "    print(\"Income made by the shop owner:\",income)\n",
    "    inventory[item_sold]=(inventory[item_sold])-sold_qnt\n",
    "    print(f\"Remaining {item_sold}= {inventory[item_sold]}\")\n",
    "elif sold_qnt>inventory[item_sold]:\n",
    "    print(f\"Sorry, Only {inventory[item_sold]} are avilable\")\n",
    "else:\n",
    "    print(f\"Item {item_sold} is not currently available\")\n"
   ]
  },
  {
   "cell_type": "code",
   "execution_count": null,
   "id": "ff2f0197",
   "metadata": {},
   "outputs": [],
   "source": [
    "# with file handling\n",
    "with open(\"Inventory.txt\",'r+') as inv:\n",
    "    i_data=inv.read()\n",
    "    my_inventory=eval(i_data)\n",
    "    with open(\"Prices.txt\",'r+') as pri:\n",
    "        p_data=pri.read()\n",
    "        my_prices=eval(p_data)\n",
    "        item_sold=input(\"Enter the item sold \")\n",
    "        sold_qnt=int(input(\"Enter the qnt. item sold:\"))\n",
    "        if item_sold in my_inventory.keys() and (sold_qnt<=my_inventory[item_sold] and sold_qnt>0):\n",
    "            print(f\"Item Available in Inventory {my_inventory[item_sold]}\")\n",
    "            income=sold_qnt*(my_prices[item_sold])\n",
    "            print(\"Income made by the shop owner:\",income)\n",
    "            u_inventory=dict(my_inventory)\n",
    "            u_inventory[item_sold]=(my_inventory[item_sold])-sold_qnt\n",
    "            print(u_inventory)\n",
    "            with open(\"Inventory.txt\",'w')as in_2:\n",
    "                in_2.write(str(u_inventory))\n",
    "            my_inventory=dict(u_inventory)\n",
    "            print(f\"Remaining {item_sold}= {u_inventory[item_sold]}\")\n",
    "        elif sold_qnt>inventory[item_sold]:\n",
    "            print(f\"Sorry, Only {my_inventory[item_sold]} are avilable\")\n",
    "        else:\n",
    "            print(f\"Item {item_sold} is not currently available\")\n",
    "    \n"
   ]
  },
  {
   "cell_type": "code",
   "execution_count": null,
   "id": "03abcdd7",
   "metadata": {},
   "outputs": [],
   "source": []
  },
  {
   "cell_type": "code",
   "execution_count": null,
   "id": "313b0a4f",
   "metadata": {},
   "outputs": [],
   "source": []
  },
  {
   "cell_type": "code",
   "execution_count": null,
   "id": "e95949d4-3a60-4653-a474-2c09f254625d",
   "metadata": {},
   "outputs": [],
   "source": []
  }
 ],
 "metadata": {
  "kernelspec": {
   "display_name": "Python 3 (ipykernel)",
   "language": "python",
   "name": "python3"
  },
  "language_info": {
   "codemirror_mode": {
    "name": "ipython",
    "version": 3
   },
   "file_extension": ".py",
   "mimetype": "text/x-python",
   "name": "python",
   "nbconvert_exporter": "python",
   "pygments_lexer": "ipython3",
   "version": "3.10.12"
  }
 },
 "nbformat": 4,
 "nbformat_minor": 5
}
