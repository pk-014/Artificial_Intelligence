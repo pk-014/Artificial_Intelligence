{
 "cells": [
  {
   "cell_type": "markdown",
   "id": "8d83f754",
   "metadata": {},
   "source": [
    "# Neural Network - MLP - ScikitLearn"
   ]
  },
  {
   "cell_type": "code",
   "execution_count": 2,
   "id": "20db4d82",
   "metadata": {},
   "outputs": [],
   "source": [
    "import numpy as np\n",
    "import pandas as pd\n",
    "from sklearn.neural_network import MLPClassifier\n",
    "from sklearn.decomposition import PCA\n",
    "from sklearn.preprocessing import StandardScaler"
   ]
  },
  {
   "cell_type": "markdown",
   "id": "1e448734",
   "metadata": {},
   "source": [
    "### Data Loading"
   ]
  },
  {
   "cell_type": "code",
   "execution_count": 3,
   "id": "d256f994",
   "metadata": {},
   "outputs": [],
   "source": [
    "data = pd.read_csv(\"academic success.csv\", sep=\";\")"
   ]
  },
  {
   "cell_type": "code",
   "execution_count": 4,
   "id": "b04661ff",
   "metadata": {},
   "outputs": [
    {
     "data": {
      "text/html": [
       "<div>\n",
       "<style scoped>\n",
       "    .dataframe tbody tr th:only-of-type {\n",
       "        vertical-align: middle;\n",
       "    }\n",
       "\n",
       "    .dataframe tbody tr th {\n",
       "        vertical-align: top;\n",
       "    }\n",
       "\n",
       "    .dataframe thead th {\n",
       "        text-align: right;\n",
       "    }\n",
       "</style>\n",
       "<table border=\"1\" class=\"dataframe\">\n",
       "  <thead>\n",
       "    <tr style=\"text-align: right;\">\n",
       "      <th></th>\n",
       "      <th>Marital status</th>\n",
       "      <th>Application mode</th>\n",
       "      <th>Application order</th>\n",
       "      <th>Course</th>\n",
       "      <th>Daytime/evening attendance\\t</th>\n",
       "      <th>Previous qualification</th>\n",
       "      <th>Previous qualification (grade)</th>\n",
       "      <th>Nacionality</th>\n",
       "      <th>Mother's qualification</th>\n",
       "      <th>Father's qualification</th>\n",
       "      <th>...</th>\n",
       "      <th>Curricular units 2nd sem (credited)</th>\n",
       "      <th>Curricular units 2nd sem (enrolled)</th>\n",
       "      <th>Curricular units 2nd sem (evaluations)</th>\n",
       "      <th>Curricular units 2nd sem (approved)</th>\n",
       "      <th>Curricular units 2nd sem (grade)</th>\n",
       "      <th>Curricular units 2nd sem (without evaluations)</th>\n",
       "      <th>Unemployment rate</th>\n",
       "      <th>Inflation rate</th>\n",
       "      <th>GDP</th>\n",
       "      <th>Target</th>\n",
       "    </tr>\n",
       "  </thead>\n",
       "  <tbody>\n",
       "    <tr>\n",
       "      <th>0</th>\n",
       "      <td>1</td>\n",
       "      <td>17</td>\n",
       "      <td>5</td>\n",
       "      <td>171</td>\n",
       "      <td>1</td>\n",
       "      <td>1</td>\n",
       "      <td>122.0</td>\n",
       "      <td>1</td>\n",
       "      <td>19</td>\n",
       "      <td>12</td>\n",
       "      <td>...</td>\n",
       "      <td>0</td>\n",
       "      <td>0</td>\n",
       "      <td>0</td>\n",
       "      <td>0</td>\n",
       "      <td>0.000000</td>\n",
       "      <td>0</td>\n",
       "      <td>10.8</td>\n",
       "      <td>1.4</td>\n",
       "      <td>1.74</td>\n",
       "      <td>Dropout</td>\n",
       "    </tr>\n",
       "    <tr>\n",
       "      <th>1</th>\n",
       "      <td>1</td>\n",
       "      <td>15</td>\n",
       "      <td>1</td>\n",
       "      <td>9254</td>\n",
       "      <td>1</td>\n",
       "      <td>1</td>\n",
       "      <td>160.0</td>\n",
       "      <td>1</td>\n",
       "      <td>1</td>\n",
       "      <td>3</td>\n",
       "      <td>...</td>\n",
       "      <td>0</td>\n",
       "      <td>6</td>\n",
       "      <td>6</td>\n",
       "      <td>6</td>\n",
       "      <td>13.666667</td>\n",
       "      <td>0</td>\n",
       "      <td>13.9</td>\n",
       "      <td>-0.3</td>\n",
       "      <td>0.79</td>\n",
       "      <td>Graduate</td>\n",
       "    </tr>\n",
       "  </tbody>\n",
       "</table>\n",
       "<p>2 rows × 37 columns</p>\n",
       "</div>"
      ],
      "text/plain": [
       "   Marital status  Application mode  Application order  Course   \n",
       "0               1                17                  5     171  \\\n",
       "1               1                15                  1    9254   \n",
       "\n",
       "   Daytime/evening attendance\\t  Previous qualification   \n",
       "0                             1                       1  \\\n",
       "1                             1                       1   \n",
       "\n",
       "   Previous qualification (grade)  Nacionality  Mother's qualification   \n",
       "0                           122.0            1                      19  \\\n",
       "1                           160.0            1                       1   \n",
       "\n",
       "   Father's qualification  ...  Curricular units 2nd sem (credited)   \n",
       "0                      12  ...                                    0  \\\n",
       "1                       3  ...                                    0   \n",
       "\n",
       "   Curricular units 2nd sem (enrolled)   \n",
       "0                                    0  \\\n",
       "1                                    6   \n",
       "\n",
       "   Curricular units 2nd sem (evaluations)   \n",
       "0                                       0  \\\n",
       "1                                       6   \n",
       "\n",
       "   Curricular units 2nd sem (approved)  Curricular units 2nd sem (grade)   \n",
       "0                                    0                          0.000000  \\\n",
       "1                                    6                         13.666667   \n",
       "\n",
       "   Curricular units 2nd sem (without evaluations)  Unemployment rate   \n",
       "0                                               0               10.8  \\\n",
       "1                                               0               13.9   \n",
       "\n",
       "   Inflation rate   GDP    Target  \n",
       "0             1.4  1.74   Dropout  \n",
       "1            -0.3  0.79  Graduate  \n",
       "\n",
       "[2 rows x 37 columns]"
      ]
     },
     "execution_count": 4,
     "metadata": {},
     "output_type": "execute_result"
    }
   ],
   "source": [
    "data.head(2)"
   ]
  },
  {
   "cell_type": "code",
   "execution_count": 5,
   "id": "6bc31cb1",
   "metadata": {},
   "outputs": [
    {
     "name": "stdout",
     "output_type": "stream",
     "text": [
      "<class 'pandas.core.frame.DataFrame'>\n",
      "RangeIndex: 4424 entries, 0 to 4423\n",
      "Data columns (total 37 columns):\n",
      " #   Column                                          Non-Null Count  Dtype  \n",
      "---  ------                                          --------------  -----  \n",
      " 0   Marital status                                  4424 non-null   int64  \n",
      " 1   Application mode                                4424 non-null   int64  \n",
      " 2   Application order                               4424 non-null   int64  \n",
      " 3   Course                                          4424 non-null   int64  \n",
      " 4   Daytime/evening attendance\t                     4424 non-null   int64  \n",
      " 5   Previous qualification                          4424 non-null   int64  \n",
      " 6   Previous qualification (grade)                  4424 non-null   float64\n",
      " 7   Nacionality                                     4424 non-null   int64  \n",
      " 8   Mother's qualification                          4424 non-null   int64  \n",
      " 9   Father's qualification                          4424 non-null   int64  \n",
      " 10  Mother's occupation                             4424 non-null   int64  \n",
      " 11  Father's occupation                             4424 non-null   int64  \n",
      " 12  Admission grade                                 4424 non-null   float64\n",
      " 13  Displaced                                       4424 non-null   int64  \n",
      " 14  Educational special needs                       4424 non-null   int64  \n",
      " 15  Debtor                                          4424 non-null   int64  \n",
      " 16  Tuition fees up to date                         4424 non-null   int64  \n",
      " 17  Gender                                          4424 non-null   int64  \n",
      " 18  Scholarship holder                              4424 non-null   int64  \n",
      " 19  Age at enrollment                               4424 non-null   int64  \n",
      " 20  International                                   4424 non-null   int64  \n",
      " 21  Curricular units 1st sem (credited)             4424 non-null   int64  \n",
      " 22  Curricular units 1st sem (enrolled)             4424 non-null   int64  \n",
      " 23  Curricular units 1st sem (evaluations)          4424 non-null   int64  \n",
      " 24  Curricular units 1st sem (approved)             4424 non-null   int64  \n",
      " 25  Curricular units 1st sem (grade)                4424 non-null   float64\n",
      " 26  Curricular units 1st sem (without evaluations)  4424 non-null   int64  \n",
      " 27  Curricular units 2nd sem (credited)             4424 non-null   int64  \n",
      " 28  Curricular units 2nd sem (enrolled)             4424 non-null   int64  \n",
      " 29  Curricular units 2nd sem (evaluations)          4424 non-null   int64  \n",
      " 30  Curricular units 2nd sem (approved)             4424 non-null   int64  \n",
      " 31  Curricular units 2nd sem (grade)                4424 non-null   float64\n",
      " 32  Curricular units 2nd sem (without evaluations)  4424 non-null   int64  \n",
      " 33  Unemployment rate                               4424 non-null   float64\n",
      " 34  Inflation rate                                  4424 non-null   float64\n",
      " 35  GDP                                             4424 non-null   float64\n",
      " 36  Target                                          4424 non-null   object \n",
      "dtypes: float64(7), int64(29), object(1)\n",
      "memory usage: 1.2+ MB\n"
     ]
    }
   ],
   "source": [
    "data.info()"
   ]
  },
  {
   "cell_type": "code",
   "execution_count": 8,
   "id": "c2581d21",
   "metadata": {},
   "outputs": [
    {
     "data": {
      "text/plain": [
       "{'Dropout', 'Enrolled', 'Graduate'}"
      ]
     },
     "execution_count": 8,
     "metadata": {},
     "output_type": "execute_result"
    }
   ],
   "source": [
    "set(data['Target'].values)"
   ]
  },
  {
   "cell_type": "code",
   "execution_count": 9,
   "id": "8fba0b57",
   "metadata": {},
   "outputs": [
    {
     "data": {
      "text/plain": [
       "Target\n",
       "Graduate    2209\n",
       "Dropout     1421\n",
       "Enrolled     794\n",
       "Name: count, dtype: int64"
      ]
     },
     "execution_count": 9,
     "metadata": {},
     "output_type": "execute_result"
    }
   ],
   "source": [
    "data['Target'].value_counts()"
   ]
  },
  {
   "cell_type": "code",
   "execution_count": 10,
   "id": "47ec6fca",
   "metadata": {},
   "outputs": [],
   "source": [
    "import seaborn as sns"
   ]
  },
  {
   "cell_type": "code",
   "execution_count": 11,
   "id": "5fd15040",
   "metadata": {},
   "outputs": [
    {
     "data": {
      "text/plain": [
       "<Axes: xlabel='Target', ylabel='count'>"
      ]
     },
     "execution_count": 11,
     "metadata": {},
     "output_type": "execute_result"
    },
    {
     "data": {
      "image/png": "[encoded data removed]",
      "text/plain": [
       "<Figure size 640x480 with 1 Axes>"
      ]
     },
     "metadata": {},
     "output_type": "display_data"
    }
   ],
   "source": [
    "sns.countplot(data=data, x=data['Target'])"
   ]
  },
  {
   "cell_type": "markdown",
   "id": "8ef4b895",
   "metadata": {},
   "source": [
    "### Dimensionality Reduction"
   ]
  },
  {
   "cell_type": "code",
   "execution_count": 12,
   "id": "3be1fc82",
   "metadata": {},
   "outputs": [],
   "source": [
    "X = data.drop('Target', axis=1)\n",
    "y = data['Target']"
   ]
  },
  {
   "cell_type": "code",
   "execution_count": 13,
   "id": "e7a0e3dc",
   "metadata": {},
   "outputs": [],
   "source": [
    "scaler = StandardScaler()\n",
    "scaler.fit(X)\n",
    "scaled_data = scaler.transform(X)"
   ]
  },
  {
   "cell_type": "code",
   "execution_count": 14,
   "id": "25086246",
   "metadata": {},
   "outputs": [
    {
     "data": {
      "text/plain": [
       "array([[-0.29482875, -0.09547022,  2.49089589, ..., -0.28763846,\n",
       "         0.12438647,  0.76576084],\n",
       "       [-0.29482875, -0.20986898, -0.55406775, ...,  0.87622207,\n",
       "        -1.10522155,  0.34719942],\n",
       "       [-0.29482875, -1.01066035,  2.49089589, ..., -0.28763846,\n",
       "         0.12438647,  0.76576084],\n",
       "       ...,\n",
       "       [-0.29482875, -1.01066035, -0.55406775, ...,  0.87622207,\n",
       "        -1.10522155,  0.34719942],\n",
       "       [-0.29482875, -1.01066035, -0.55406775, ..., -0.81325289,\n",
       "        -1.46687097, -1.37551124],\n",
       "       [-0.29482875, -0.4958659 , -0.55406775, ...,  0.42569541,\n",
       "         1.7879738 , -0.74987207]])"
      ]
     },
     "execution_count": 14,
     "metadata": {},
     "output_type": "execute_result"
    }
   ],
   "source": [
    "scaled_data"
   ]
  },
  {
   "cell_type": "code",
   "execution_count": 26,
   "id": "07d6c46b",
   "metadata": {},
   "outputs": [],
   "source": [
    "pca = PCA(n_components=25)"
   ]
  },
  {
   "cell_type": "code",
   "execution_count": 27,
   "id": "a264c5d0",
   "metadata": {},
   "outputs": [
    {
     "data": {
      "text/html": [
       "<style>#sk-container-id-2 {color: black;background-color: white;}#sk-container-id-2 pre{padding: 0;}#sk-container-id-2 div.sk-toggleable {background-color: white;}#sk-container-id-2 label.sk-toggleable__label {cursor: pointer;display: block;width: 100%;margin-bottom: 0;padding: 0.3em;box-sizing: border-box;text-align: center;}#sk-container-id-2 label.sk-toggleable__label-arrow:before {content: \"▸\";float: left;margin-right: 0.25em;color: #696969;}#sk-container-id-2 label.sk-toggleable__label-arrow:hover:before {color: black;}#sk-container-id-2 div.sk-estimator:hover label.sk-toggleable__label-arrow:before {color: black;}#sk-container-id-2 div.sk-toggleable__content {max-height: 0;max-width: 0;overflow: hidden;text-align: left;background-color: #f0f8ff;}#sk-container-id-2 div.sk-toggleable__content pre {margin: 0.2em;color: black;border-radius: 0.25em;background-color: #f0f8ff;}#sk-container-id-2 input.sk-toggleable__control:checked~div.sk-toggleable__content {max-height: 200px;max-width: 100%;overflow: auto;}#sk-container-id-2 input.sk-toggleable__control:checked~label.sk-toggleable__label-arrow:before {content: \"▾\";}#sk-container-id-2 div.sk-estimator input.sk-toggleable__control:checked~label.sk-toggleable__label {background-color: #d4ebff;}#sk-container-id-2 div.sk-label input.sk-toggleable__control:checked~label.sk-toggleable__label {background-color: #d4ebff;}#sk-container-id-2 input.sk-hidden--visually {border: 0;clip: rect(1px 1px 1px 1px);clip: rect(1px, 1px, 1px, 1px);height: 1px;margin: -1px;overflow: hidden;padding: 0;position: absolute;width: 1px;}#sk-container-id-2 div.sk-estimator {font-family: monospace;background-color: #f0f8ff;border: 1px dotted black;border-radius: 0.25em;box-sizing: border-box;margin-bottom: 0.5em;}#sk-container-id-2 div.sk-estimator:hover {background-color: #d4ebff;}#sk-container-id-2 div.sk-parallel-item::after {content: \"\";width: 100%;border-bottom: 1px solid gray;flex-grow: 1;}#sk-container-id-2 div.sk-label:hover label.sk-toggleable__label {background-color: #d4ebff;}#sk-container-id-2 div.sk-serial::before {content: \"\";position: absolute;border-left: 1px solid gray;box-sizing: border-box;top: 0;bottom: 0;left: 50%;z-index: 0;}#sk-container-id-2 div.sk-serial {display: flex;flex-direction: column;align-items: center;background-color: white;padding-right: 0.2em;padding-left: 0.2em;position: relative;}#sk-container-id-2 div.sk-item {position: relative;z-index: 1;}#sk-container-id-2 div.sk-parallel {display: flex;align-items: stretch;justify-content: center;background-color: white;position: relative;}#sk-container-id-2 div.sk-item::before, #sk-container-id-2 div.sk-parallel-item::before {content: \"\";position: absolute;border-left: 1px solid gray;box-sizing: border-box;top: 0;bottom: 0;left: 50%;z-index: -1;}#sk-container-id-2 div.sk-parallel-item {display: flex;flex-direction: column;z-index: 1;position: relative;background-color: white;}#sk-container-id-2 div.sk-parallel-item:first-child::after {align-self: flex-end;width: 50%;}#sk-container-id-2 div.sk-parallel-item:last-child::after {align-self: flex-start;width: 50%;}#sk-container-id-2 div.sk-parallel-item:only-child::after {width: 0;}#sk-container-id-2 div.sk-dashed-wrapped {border: 1px dashed gray;margin: 0 0.4em 0.5em 0.4em;box-sizing: border-box;padding-bottom: 0.4em;background-color: white;}#sk-container-id-2 div.sk-label label {font-family: monospace;font-weight: bold;display: inline-block;line-height: 1.2em;}#sk-container-id-2 div.sk-label-container {text-align: center;}#sk-container-id-2 div.sk-container {/* jupyter's `normalize.less` sets `[hidden] { display: none; }` but bootstrap.min.css set `[hidden] { display: none !important; }` so we also need the `!important` here to be able to override the default hidden behavior on the sphinx rendered scikit-learn.org. See: https://github.com/scikit-learn/scikit-learn/issues/21755 */display: inline-block !important;position: relative;}#sk-container-id-2 div.sk-text-repr-fallback {display: none;}</style><div id=\"sk-container-id-2\" class=\"sk-top-container\"><div class=\"sk-text-repr-fallback\"><pre>PCA(n_components=25)</pre><b>In a Jupyter environment, please rerun this cell to show the HTML representation or trust the notebook. <br />On GitHub, the HTML representation is unable to render, please try loading this page with nbviewer.org.</b></div><div class=\"sk-container\" hidden><div class=\"sk-item\"><div class=\"sk-estimator sk-toggleable\"><input class=\"sk-toggleable__control sk-hidden--visually\" id=\"sk-estimator-id-2\" type=\"checkbox\" checked><label for=\"sk-estimator-id-2\" class=\"sk-toggleable__label sk-toggleable__label-arrow\">PCA</label><div class=\"sk-toggleable__content\"><pre>PCA(n_components=25)</pre></div></div></div></div></div>"
      ],
      "text/plain": [
       "PCA(n_components=25)"
      ]
     },
     "execution_count": 27,
     "metadata": {},
     "output_type": "execute_result"
    }
   ],
   "source": [
    "pca.fit(scaled_data)"
   ]
  },
  {
   "cell_type": "code",
   "execution_count": 28,
   "id": "79140d42",
   "metadata": {},
   "outputs": [],
   "source": [
    "x_pca = pca.transform(scaled_data)"
   ]
  },
  {
   "cell_type": "code",
   "execution_count": 29,
   "id": "d2e856fb",
   "metadata": {},
   "outputs": [],
   "source": [
    "variance_values = pca.explained_variance_ratio_.tolist()"
   ]
  },
  {
   "cell_type": "code",
   "execution_count": 30,
   "id": "8d153603",
   "metadata": {},
   "outputs": [
    {
     "name": "stdout",
     "output_type": "stream",
     "text": [
      "[0.1766639482370469, 0.09886989516715629, 0.058625585318584035, 0.05585338229824666, 0.05259359466100507, 0.04674366236631901, 0.04426996548937398, 0.04268044372561783, 0.0358818234670341, 0.034357782309443315, 0.03020782583851363, 0.028115384298441543, 0.027431248339792647, 0.025949506122819377, 0.024223877620302356, 0.022571083957376444, 0.021956203485722556, 0.020233799858920574, 0.01769753044550727, 0.016298881451814465, 0.01565796117688696, 0.014790858011020277, 0.012849995568449818, 0.012611763593062677, 0.011509604232465193]\n"
     ]
    }
   ],
   "source": [
    "print(variance_values)"
   ]
  },
  {
   "cell_type": "code",
   "execution_count": 31,
   "id": "ab8f732d",
   "metadata": {},
   "outputs": [
    {
     "name": "stdout",
     "output_type": "stream",
     "text": [
      "0.9486456070409229\n"
     ]
    }
   ],
   "source": [
    "# print(len(variance_values))\n",
    "print(sum(variance_values[:25]))"
   ]
  },
  {
   "cell_type": "code",
   "execution_count": 32,
   "id": "afeb3f69",
   "metadata": {},
   "outputs": [],
   "source": [
    "reduced_data = pd.DataFrame(x_pca)"
   ]
  },
  {
   "cell_type": "code",
   "execution_count": 33,
   "id": "588f2806",
   "metadata": {},
   "outputs": [
    {
     "data": {
      "text/html": [
       "<div>\n",
       "<style scoped>\n",
       "    .dataframe tbody tr th:only-of-type {\n",
       "        vertical-align: middle;\n",
       "    }\n",
       "\n",
       "    .dataframe tbody tr th {\n",
       "        vertical-align: top;\n",
       "    }\n",
       "\n",
       "    .dataframe thead th {\n",
       "        text-align: right;\n",
       "    }\n",
       "</style>\n",
       "<table border=\"1\" class=\"dataframe\">\n",
       "  <thead>\n",
       "    <tr style=\"text-align: right;\">\n",
       "      <th></th>\n",
       "      <th>0</th>\n",
       "      <th>1</th>\n",
       "      <th>2</th>\n",
       "      <th>3</th>\n",
       "      <th>4</th>\n",
       "      <th>5</th>\n",
       "      <th>6</th>\n",
       "      <th>7</th>\n",
       "      <th>8</th>\n",
       "      <th>9</th>\n",
       "      <th>...</th>\n",
       "      <th>15</th>\n",
       "      <th>16</th>\n",
       "      <th>17</th>\n",
       "      <th>18</th>\n",
       "      <th>19</th>\n",
       "      <th>20</th>\n",
       "      <th>21</th>\n",
       "      <th>22</th>\n",
       "      <th>23</th>\n",
       "      <th>24</th>\n",
       "    </tr>\n",
       "  </thead>\n",
       "  <tbody>\n",
       "    <tr>\n",
       "      <th>0</th>\n",
       "      <td>-6.101294</td>\n",
       "      <td>-0.296791</td>\n",
       "      <td>-1.428491</td>\n",
       "      <td>0.472800</td>\n",
       "      <td>0.801264</td>\n",
       "      <td>-2.060714</td>\n",
       "      <td>-2.721872</td>\n",
       "      <td>0.628532</td>\n",
       "      <td>0.250201</td>\n",
       "      <td>-1.355478</td>\n",
       "      <td>...</td>\n",
       "      <td>0.468315</td>\n",
       "      <td>2.309538</td>\n",
       "      <td>-0.343417</td>\n",
       "      <td>0.785448</td>\n",
       "      <td>1.431041</td>\n",
       "      <td>-0.460789</td>\n",
       "      <td>-0.427442</td>\n",
       "      <td>-0.388011</td>\n",
       "      <td>-0.732794</td>\n",
       "      <td>0.481512</td>\n",
       "    </tr>\n",
       "    <tr>\n",
       "      <th>1</th>\n",
       "      <td>-0.254507</td>\n",
       "      <td>-1.106861</td>\n",
       "      <td>-1.841772</td>\n",
       "      <td>0.603317</td>\n",
       "      <td>-1.205722</td>\n",
       "      <td>-0.779358</td>\n",
       "      <td>1.132180</td>\n",
       "      <td>-1.077095</td>\n",
       "      <td>0.807876</td>\n",
       "      <td>0.819564</td>\n",
       "      <td>...</td>\n",
       "      <td>0.306600</td>\n",
       "      <td>-0.193767</td>\n",
       "      <td>-0.117552</td>\n",
       "      <td>-0.237376</td>\n",
       "      <td>-2.169477</td>\n",
       "      <td>-0.232595</td>\n",
       "      <td>-1.532493</td>\n",
       "      <td>-0.648027</td>\n",
       "      <td>-0.479459</td>\n",
       "      <td>-0.641550</td>\n",
       "    </tr>\n",
       "    <tr>\n",
       "      <th>2</th>\n",
       "      <td>-3.954380</td>\n",
       "      <td>0.446635</td>\n",
       "      <td>0.007524</td>\n",
       "      <td>0.115662</td>\n",
       "      <td>2.210973</td>\n",
       "      <td>-0.530667</td>\n",
       "      <td>-2.253659</td>\n",
       "      <td>0.451021</td>\n",
       "      <td>0.717236</td>\n",
       "      <td>1.455800</td>\n",
       "      <td>...</td>\n",
       "      <td>1.983795</td>\n",
       "      <td>-1.131953</td>\n",
       "      <td>-0.550380</td>\n",
       "      <td>1.038827</td>\n",
       "      <td>-0.882714</td>\n",
       "      <td>-0.422281</td>\n",
       "      <td>-1.365841</td>\n",
       "      <td>0.623837</td>\n",
       "      <td>-0.184099</td>\n",
       "      <td>0.334814</td>\n",
       "    </tr>\n",
       "    <tr>\n",
       "      <th>3</th>\n",
       "      <td>0.421885</td>\n",
       "      <td>-0.958326</td>\n",
       "      <td>0.884233</td>\n",
       "      <td>-1.041023</td>\n",
       "      <td>0.816698</td>\n",
       "      <td>0.822866</td>\n",
       "      <td>-0.214387</td>\n",
       "      <td>0.478226</td>\n",
       "      <td>0.254595</td>\n",
       "      <td>0.238949</td>\n",
       "      <td>...</td>\n",
       "      <td>-1.411513</td>\n",
       "      <td>-0.267168</td>\n",
       "      <td>0.123997</td>\n",
       "      <td>-0.073968</td>\n",
       "      <td>-0.412655</td>\n",
       "      <td>-0.570284</td>\n",
       "      <td>0.814498</td>\n",
       "      <td>-0.116832</td>\n",
       "      <td>-0.162075</td>\n",
       "      <td>-0.305112</td>\n",
       "    </tr>\n",
       "    <tr>\n",
       "      <th>4</th>\n",
       "      <td>0.405696</td>\n",
       "      <td>2.791055</td>\n",
       "      <td>1.898494</td>\n",
       "      <td>-1.976661</td>\n",
       "      <td>-1.296870</td>\n",
       "      <td>1.376717</td>\n",
       "      <td>-0.428059</td>\n",
       "      <td>-0.231268</td>\n",
       "      <td>0.311194</td>\n",
       "      <td>-1.446288</td>\n",
       "      <td>...</td>\n",
       "      <td>-1.085220</td>\n",
       "      <td>0.787346</td>\n",
       "      <td>-1.109283</td>\n",
       "      <td>0.626915</td>\n",
       "      <td>-0.111079</td>\n",
       "      <td>0.696457</td>\n",
       "      <td>-0.652563</td>\n",
       "      <td>0.085399</td>\n",
       "      <td>-0.239961</td>\n",
       "      <td>2.046683</td>\n",
       "    </tr>\n",
       "    <tr>\n",
       "      <th>...</th>\n",
       "      <td>...</td>\n",
       "      <td>...</td>\n",
       "      <td>...</td>\n",
       "      <td>...</td>\n",
       "      <td>...</td>\n",
       "      <td>...</td>\n",
       "      <td>...</td>\n",
       "      <td>...</td>\n",
       "      <td>...</td>\n",
       "      <td>...</td>\n",
       "      <td>...</td>\n",
       "      <td>...</td>\n",
       "      <td>...</td>\n",
       "      <td>...</td>\n",
       "      <td>...</td>\n",
       "      <td>...</td>\n",
       "      <td>...</td>\n",
       "      <td>...</td>\n",
       "      <td>...</td>\n",
       "      <td>...</td>\n",
       "      <td>...</td>\n",
       "    </tr>\n",
       "    <tr>\n",
       "      <th>4419</th>\n",
       "      <td>-0.114633</td>\n",
       "      <td>-1.760668</td>\n",
       "      <td>-1.026119</td>\n",
       "      <td>-0.464817</td>\n",
       "      <td>0.990092</td>\n",
       "      <td>0.416123</td>\n",
       "      <td>0.501767</td>\n",
       "      <td>-1.178168</td>\n",
       "      <td>-2.359125</td>\n",
       "      <td>-0.509126</td>\n",
       "      <td>...</td>\n",
       "      <td>1.573871</td>\n",
       "      <td>0.974121</td>\n",
       "      <td>-1.004767</td>\n",
       "      <td>1.077571</td>\n",
       "      <td>1.514734</td>\n",
       "      <td>-1.178188</td>\n",
       "      <td>-0.047661</td>\n",
       "      <td>0.436121</td>\n",
       "      <td>-0.027897</td>\n",
       "      <td>0.291994</td>\n",
       "    </tr>\n",
       "    <tr>\n",
       "      <th>4420</th>\n",
       "      <td>-1.114667</td>\n",
       "      <td>-0.920789</td>\n",
       "      <td>-2.645382</td>\n",
       "      <td>10.437429</td>\n",
       "      <td>-2.712947</td>\n",
       "      <td>10.282026</td>\n",
       "      <td>-3.475630</td>\n",
       "      <td>0.314809</td>\n",
       "      <td>0.277905</td>\n",
       "      <td>1.504875</td>\n",
       "      <td>...</td>\n",
       "      <td>0.005329</td>\n",
       "      <td>0.424145</td>\n",
       "      <td>-0.648663</td>\n",
       "      <td>0.568675</td>\n",
       "      <td>-1.109662</td>\n",
       "      <td>-0.049268</td>\n",
       "      <td>-0.202445</td>\n",
       "      <td>0.715242</td>\n",
       "      <td>0.880262</td>\n",
       "      <td>-0.284624</td>\n",
       "    </tr>\n",
       "    <tr>\n",
       "      <th>4421</th>\n",
       "      <td>0.698829</td>\n",
       "      <td>-1.140783</td>\n",
       "      <td>0.565486</td>\n",
       "      <td>-0.830040</td>\n",
       "      <td>-1.621958</td>\n",
       "      <td>-0.148058</td>\n",
       "      <td>0.719275</td>\n",
       "      <td>1.588642</td>\n",
       "      <td>0.521886</td>\n",
       "      <td>1.217846</td>\n",
       "      <td>...</td>\n",
       "      <td>0.353940</td>\n",
       "      <td>-0.741182</td>\n",
       "      <td>0.603015</td>\n",
       "      <td>-0.952657</td>\n",
       "      <td>-0.509503</td>\n",
       "      <td>1.362321</td>\n",
       "      <td>-0.571827</td>\n",
       "      <td>0.328118</td>\n",
       "      <td>-0.367989</td>\n",
       "      <td>0.444070</td>\n",
       "    </tr>\n",
       "    <tr>\n",
       "      <th>4422</th>\n",
       "      <td>-0.512864</td>\n",
       "      <td>-2.001537</td>\n",
       "      <td>0.020485</td>\n",
       "      <td>-0.952604</td>\n",
       "      <td>-2.561476</td>\n",
       "      <td>-0.777385</td>\n",
       "      <td>0.923425</td>\n",
       "      <td>2.989603</td>\n",
       "      <td>0.894326</td>\n",
       "      <td>1.301908</td>\n",
       "      <td>...</td>\n",
       "      <td>-0.061121</td>\n",
       "      <td>-0.932644</td>\n",
       "      <td>0.201471</td>\n",
       "      <td>-1.337997</td>\n",
       "      <td>-0.719354</td>\n",
       "      <td>-0.283910</td>\n",
       "      <td>0.877133</td>\n",
       "      <td>-0.176754</td>\n",
       "      <td>-0.119912</td>\n",
       "      <td>-1.049405</td>\n",
       "    </tr>\n",
       "    <tr>\n",
       "      <th>4423</th>\n",
       "      <td>0.158970</td>\n",
       "      <td>-1.045258</td>\n",
       "      <td>-0.757875</td>\n",
       "      <td>3.030424</td>\n",
       "      <td>-3.293212</td>\n",
       "      <td>4.112822</td>\n",
       "      <td>-1.055178</td>\n",
       "      <td>3.072735</td>\n",
       "      <td>-1.010958</td>\n",
       "      <td>0.712891</td>\n",
       "      <td>...</td>\n",
       "      <td>-0.423933</td>\n",
       "      <td>-0.029099</td>\n",
       "      <td>0.088550</td>\n",
       "      <td>0.617840</td>\n",
       "      <td>-0.689952</td>\n",
       "      <td>0.675346</td>\n",
       "      <td>-0.169673</td>\n",
       "      <td>0.074653</td>\n",
       "      <td>-0.036447</td>\n",
       "      <td>0.297851</td>\n",
       "    </tr>\n",
       "  </tbody>\n",
       "</table>\n",
       "<p>4424 rows × 25 columns</p>\n",
       "</div>"
      ],
      "text/plain": [
       "            0         1         2          3         4          5         6    \n",
       "0    -6.101294 -0.296791 -1.428491   0.472800  0.801264  -2.060714 -2.721872  \\\n",
       "1    -0.254507 -1.106861 -1.841772   0.603317 -1.205722  -0.779358  1.132180   \n",
       "2    -3.954380  0.446635  0.007524   0.115662  2.210973  -0.530667 -2.253659   \n",
       "3     0.421885 -0.958326  0.884233  -1.041023  0.816698   0.822866 -0.214387   \n",
       "4     0.405696  2.791055  1.898494  -1.976661 -1.296870   1.376717 -0.428059   \n",
       "...        ...       ...       ...        ...       ...        ...       ...   \n",
       "4419 -0.114633 -1.760668 -1.026119  -0.464817  0.990092   0.416123  0.501767   \n",
       "4420 -1.114667 -0.920789 -2.645382  10.437429 -2.712947  10.282026 -3.475630   \n",
       "4421  0.698829 -1.140783  0.565486  -0.830040 -1.621958  -0.148058  0.719275   \n",
       "4422 -0.512864 -2.001537  0.020485  -0.952604 -2.561476  -0.777385  0.923425   \n",
       "4423  0.158970 -1.045258 -0.757875   3.030424 -3.293212   4.112822 -1.055178   \n",
       "\n",
       "            7         8         9   ...        15        16        17   \n",
       "0     0.628532  0.250201 -1.355478  ...  0.468315  2.309538 -0.343417  \\\n",
       "1    -1.077095  0.807876  0.819564  ...  0.306600 -0.193767 -0.117552   \n",
       "2     0.451021  0.717236  1.455800  ...  1.983795 -1.131953 -0.550380   \n",
       "3     0.478226  0.254595  0.238949  ... -1.411513 -0.267168  0.123997   \n",
       "4    -0.231268  0.311194 -1.446288  ... -1.085220  0.787346 -1.109283   \n",
       "...        ...       ...       ...  ...       ...       ...       ...   \n",
       "4419 -1.178168 -2.359125 -0.509126  ...  1.573871  0.974121 -1.004767   \n",
       "4420  0.314809  0.277905  1.504875  ...  0.005329  0.424145 -0.648663   \n",
       "4421  1.588642  0.521886  1.217846  ...  0.353940 -0.741182  0.603015   \n",
       "4422  2.989603  0.894326  1.301908  ... -0.061121 -0.932644  0.201471   \n",
       "4423  3.072735 -1.010958  0.712891  ... -0.423933 -0.029099  0.088550   \n",
       "\n",
       "            18        19        20        21        22        23        24  \n",
       "0     0.785448  1.431041 -0.460789 -0.427442 -0.388011 -0.732794  0.481512  \n",
       "1    -0.237376 -2.169477 -0.232595 -1.532493 -0.648027 -0.479459 -0.641550  \n",
       "2     1.038827 -0.882714 -0.422281 -1.365841  0.623837 -0.184099  0.334814  \n",
       "3    -0.073968 -0.412655 -0.570284  0.814498 -0.116832 -0.162075 -0.305112  \n",
       "4     0.626915 -0.111079  0.696457 -0.652563  0.085399 -0.239961  2.046683  \n",
       "...        ...       ...       ...       ...       ...       ...       ...  \n",
       "4419  1.077571  1.514734 -1.178188 -0.047661  0.436121 -0.027897  0.291994  \n",
       "4420  0.568675 -1.109662 -0.049268 -0.202445  0.715242  0.880262 -0.284624  \n",
       "4421 -0.952657 -0.509503  1.362321 -0.571827  0.328118 -0.367989  0.444070  \n",
       "4422 -1.337997 -0.719354 -0.283910  0.877133 -0.176754 -0.119912 -1.049405  \n",
       "4423  0.617840 -0.689952  0.675346 -0.169673  0.074653 -0.036447  0.297851  \n",
       "\n",
       "[4424 rows x 25 columns]"
      ]
     },
     "execution_count": 33,
     "metadata": {},
     "output_type": "execute_result"
    }
   ],
   "source": [
    "reduced_data"
   ]
  },
  {
   "cell_type": "markdown",
   "id": "a7add73d",
   "metadata": {},
   "source": [
    "### One Hot Encoding"
   ]
  },
  {
   "cell_type": "code",
   "execution_count": 34,
   "id": "cefb3580",
   "metadata": {},
   "outputs": [
    {
     "data": {
      "text/plain": [
       "0        Dropout\n",
       "1       Graduate\n",
       "2        Dropout\n",
       "3       Graduate\n",
       "4       Graduate\n",
       "          ...   \n",
       "4419    Graduate\n",
       "4420     Dropout\n",
       "4421     Dropout\n",
       "4422    Graduate\n",
       "4423    Graduate\n",
       "Name: Target, Length: 4424, dtype: object"
      ]
     },
     "execution_count": 34,
     "metadata": {},
     "output_type": "execute_result"
    }
   ],
   "source": [
    "y"
   ]
  },
  {
   "cell_type": "code",
   "execution_count": 35,
   "id": "983e8392",
   "metadata": {},
   "outputs": [],
   "source": [
    "# Encoding Labels\n",
    "from sklearn.preprocessing import OneHotEncoder"
   ]
  },
  {
   "cell_type": "code",
   "execution_count": 36,
   "id": "dc0c6afa",
   "metadata": {},
   "outputs": [],
   "source": [
    "encoder = OneHotEncoder()"
   ]
  },
  {
   "cell_type": "code",
   "execution_count": 37,
   "id": "c4ca4db0",
   "metadata": {},
   "outputs": [
    {
     "data": {
      "text/plain": [
       "pandas.core.series.Series"
      ]
     },
     "execution_count": 37,
     "metadata": {},
     "output_type": "execute_result"
    }
   ],
   "source": [
    "type(y)"
   ]
  },
  {
   "cell_type": "code",
   "execution_count": 38,
   "id": "e0867b4c",
   "metadata": {},
   "outputs": [
    {
     "name": "stdout",
     "output_type": "stream",
     "text": [
      "<class 'numpy.ndarray'>\n"
     ]
    }
   ],
   "source": [
    "y = y.values\n",
    "print(type(y))"
   ]
  },
  {
   "cell_type": "code",
   "execution_count": 39,
   "id": "864a0799",
   "metadata": {},
   "outputs": [
    {
     "data": {
      "text/plain": [
       "(4424,)"
      ]
     },
     "execution_count": 39,
     "metadata": {},
     "output_type": "execute_result"
    }
   ],
   "source": [
    "y.shape"
   ]
  },
  {
   "cell_type": "code",
   "execution_count": 40,
   "id": "11ea6afe",
   "metadata": {},
   "outputs": [
    {
     "data": {
      "text/plain": [
       "1"
      ]
     },
     "execution_count": 40,
     "metadata": {},
     "output_type": "execute_result"
    }
   ],
   "source": [
    "y.ndim"
   ]
  },
  {
   "cell_type": "code",
   "execution_count": 42,
   "id": "94e239d4",
   "metadata": {},
   "outputs": [
    {
     "name": "stdout",
     "output_type": "stream",
     "text": [
      "(4424, 1)\n"
     ]
    }
   ],
   "source": [
    "y = y.reshape(-1, 1)\n",
    "print(y.shape)"
   ]
  },
  {
   "cell_type": "code",
   "execution_count": 43,
   "id": "261e491d",
   "metadata": {},
   "outputs": [
    {
     "data": {
      "text/plain": [
       "2"
      ]
     },
     "execution_count": 43,
     "metadata": {},
     "output_type": "execute_result"
    }
   ],
   "source": [
    "y.ndim"
   ]
  },
  {
   "cell_type": "code",
   "execution_count": 44,
   "id": "e6cffb17",
   "metadata": {},
   "outputs": [
    {
     "data": {
      "text/plain": [
       "array([['Dropout'],\n",
       "       ['Graduate'],\n",
       "       ['Dropout'],\n",
       "       ...,\n",
       "       ['Dropout'],\n",
       "       ['Graduate'],\n",
       "       ['Graduate']], dtype=object)"
      ]
     },
     "execution_count": 44,
     "metadata": {},
     "output_type": "execute_result"
    }
   ],
   "source": [
    "y"
   ]
  },
  {
   "cell_type": "code",
   "execution_count": 45,
   "id": "d77ef4a5",
   "metadata": {},
   "outputs": [],
   "source": [
    "encoded_y = encoder.fit_transform(y)"
   ]
  },
  {
   "cell_type": "code",
   "execution_count": 46,
   "id": "95f26249",
   "metadata": {},
   "outputs": [
    {
     "data": {
      "text/plain": [
       "<4424x3 sparse matrix of type '<class 'numpy.float64'>'\n",
       "\twith 4424 stored elements in Compressed Sparse Row format>"
      ]
     },
     "execution_count": 46,
     "metadata": {},
     "output_type": "execute_result"
    }
   ],
   "source": [
    "encoded_y"
   ]
  },
  {
   "cell_type": "code",
   "execution_count": 47,
   "id": "1b1c49e8",
   "metadata": {},
   "outputs": [],
   "source": [
    "encoded_y = encoded_y.toarray()"
   ]
  },
  {
   "cell_type": "code",
   "execution_count": 48,
   "id": "27502f5c",
   "metadata": {},
   "outputs": [
    {
     "data": {
      "text/plain": [
       "array([[1., 0., 0.],\n",
       "       [0., 0., 1.],\n",
       "       [1., 0., 0.],\n",
       "       ...,\n",
       "       [1., 0., 0.],\n",
       "       [0., 0., 1.],\n",
       "       [0., 0., 1.]])"
      ]
     },
     "execution_count": 48,
     "metadata": {},
     "output_type": "execute_result"
    }
   ],
   "source": [
    "encoded_y"
   ]
  },
  {
   "cell_type": "markdown",
   "id": "932e9569",
   "metadata": {},
   "source": [
    "### MLP"
   ]
  },
  {
   "cell_type": "code",
   "execution_count": 49,
   "id": "add1a844",
   "metadata": {},
   "outputs": [
    {
     "data": {
      "text/plain": [
       "(4424, 25)"
      ]
     },
     "execution_count": 49,
     "metadata": {},
     "output_type": "execute_result"
    }
   ],
   "source": [
    "reduced_data.shape"
   ]
  },
  {
   "cell_type": "code",
   "execution_count": 50,
   "id": "a9229c49",
   "metadata": {},
   "outputs": [],
   "source": [
    "from sklearn.model_selection import train_test_split"
   ]
  },
  {
   "cell_type": "code",
   "execution_count": 51,
   "id": "c4322914",
   "metadata": {},
   "outputs": [],
   "source": [
    "X_train, X_test, y_train, y_test = train_test_split(reduced_data, encoded_y, test_size=0.2, random_state=1)"
   ]
  },
  {
   "cell_type": "code",
   "execution_count": 52,
   "id": "e5ab9e8e",
   "metadata": {},
   "outputs": [
    {
     "data": {
      "text/plain": [
       "array([[0., 0., 1.],\n",
       "       [0., 0., 1.],\n",
       "       [0., 0., 1.],\n",
       "       ...,\n",
       "       [0., 0., 1.],\n",
       "       [0., 0., 1.],\n",
       "       [0., 0., 1.]])"
      ]
     },
     "execution_count": 52,
     "metadata": {},
     "output_type": "execute_result"
    }
   ],
   "source": [
    "y_train"
   ]
  },
  {
   "cell_type": "code",
   "execution_count": 53,
   "id": "a22dc673",
   "metadata": {
    "scrolled": true
   },
   "outputs": [
    {
     "data": {
      "text/plain": [
       "(3539, 25)"
      ]
     },
     "execution_count": 53,
     "metadata": {},
     "output_type": "execute_result"
    }
   ],
   "source": [
    "X_train.shape"
   ]
  },
  {
   "cell_type": "code",
   "execution_count": 54,
   "id": "a04af8fc",
   "metadata": {},
   "outputs": [
    {
     "data": {
      "text/plain": [
       "pandas.core.frame.DataFrame"
      ]
     },
     "execution_count": 54,
     "metadata": {},
     "output_type": "execute_result"
    }
   ],
   "source": [
    "type(X_train)"
   ]
  },
  {
   "cell_type": "code",
   "execution_count": 55,
   "id": "1b618603",
   "metadata": {},
   "outputs": [
    {
     "data": {
      "text/plain": [
       "array([-6.1012936 , -0.2967909 , -1.42849061,  0.47279978,  0.80126415,\n",
       "       -2.06071405, -2.72187164,  0.62853171,  0.25020082, -1.3554775 ,\n",
       "        0.70277963, -0.47130554, -0.19406536,  0.58735258, -0.6595889 ,\n",
       "        0.46831529,  2.30953793, -0.34341672,  0.78544825,  1.43104149,\n",
       "       -0.46078876, -0.42744158, -0.38801135, -0.7327941 ,  0.48151202])"
      ]
     },
     "execution_count": 55,
     "metadata": {},
     "output_type": "execute_result"
    }
   ],
   "source": [
    "X_train.loc[0].values"
   ]
  },
  {
   "cell_type": "code",
   "execution_count": 56,
   "id": "3362f1c1",
   "metadata": {},
   "outputs": [],
   "source": [
    "clf = MLPClassifier(random_state=1, max_iter=500, solver='adam', activation='tanh', hidden_layer_sizes=200 )"
   ]
  },
  {
   "cell_type": "code",
   "execution_count": 57,
   "id": "e685c975",
   "metadata": {},
   "outputs": [
    {
     "name": "stderr",
     "output_type": "stream",
     "text": [
      "C:\\Users\\Tron\\miniconda3\\lib\\site-packages\\sklearn\\neural_network\\_multilayer_perceptron.py:686: ConvergenceWarning: Stochastic Optimizer: Maximum iterations (500) reached and the optimization hasn't converged yet.\n",
      "  warnings.warn(\n"
     ]
    },
    {
     "data": {
      "text/html": [
       "<style>#sk-container-id-3 {color: black;background-color: white;}#sk-container-id-3 pre{padding: 0;}#sk-container-id-3 div.sk-toggleable {background-color: white;}#sk-container-id-3 label.sk-toggleable__label {cursor: pointer;display: block;width: 100%;margin-bottom: 0;padding: 0.3em;box-sizing: border-box;text-align: center;}#sk-container-id-3 label.sk-toggleable__label-arrow:before {content: \"▸\";float: left;margin-right: 0.25em;color: #696969;}#sk-container-id-3 label.sk-toggleable__label-arrow:hover:before {color: black;}#sk-container-id-3 div.sk-estimator:hover label.sk-toggleable__label-arrow:before {color: black;}#sk-container-id-3 div.sk-toggleable__content {max-height: 0;max-width: 0;overflow: hidden;text-align: left;background-color: #f0f8ff;}#sk-container-id-3 div.sk-toggleable__content pre {margin: 0.2em;color: black;border-radius: 0.25em;background-color: #f0f8ff;}#sk-container-id-3 input.sk-toggleable__control:checked~div.sk-toggleable__content {max-height: 200px;max-width: 100%;overflow: auto;}#sk-container-id-3 input.sk-toggleable__control:checked~label.sk-toggleable__label-arrow:before {content: \"▾\";}#sk-container-id-3 div.sk-estimator input.sk-toggleable__control:checked~label.sk-toggleable__label {background-color: #d4ebff;}#sk-container-id-3 div.sk-label input.sk-toggleable__control:checked~label.sk-toggleable__label {background-color: #d4ebff;}#sk-container-id-3 input.sk-hidden--visually {border: 0;clip: rect(1px 1px 1px 1px);clip: rect(1px, 1px, 1px, 1px);height: 1px;margin: -1px;overflow: hidden;padding: 0;position: absolute;width: 1px;}#sk-container-id-3 div.sk-estimator {font-family: monospace;background-color: #f0f8ff;border: 1px dotted black;border-radius: 0.25em;box-sizing: border-box;margin-bottom: 0.5em;}#sk-container-id-3 div.sk-estimator:hover {background-color: #d4ebff;}#sk-container-id-3 div.sk-parallel-item::after {content: \"\";width: 100%;border-bottom: 1px solid gray;flex-grow: 1;}#sk-container-id-3 div.sk-label:hover label.sk-toggleable__label {background-color: #d4ebff;}#sk-container-id-3 div.sk-serial::before {content: \"\";position: absolute;border-left: 1px solid gray;box-sizing: border-box;top: 0;bottom: 0;left: 50%;z-index: 0;}#sk-container-id-3 div.sk-serial {display: flex;flex-direction: column;align-items: center;background-color: white;padding-right: 0.2em;padding-left: 0.2em;position: relative;}#sk-container-id-3 div.sk-item {position: relative;z-index: 1;}#sk-container-id-3 div.sk-parallel {display: flex;align-items: stretch;justify-content: center;background-color: white;position: relative;}#sk-container-id-3 div.sk-item::before, #sk-container-id-3 div.sk-parallel-item::before {content: \"\";position: absolute;border-left: 1px solid gray;box-sizing: border-box;top: 0;bottom: 0;left: 50%;z-index: -1;}#sk-container-id-3 div.sk-parallel-item {display: flex;flex-direction: column;z-index: 1;position: relative;background-color: white;}#sk-container-id-3 div.sk-parallel-item:first-child::after {align-self: flex-end;width: 50%;}#sk-container-id-3 div.sk-parallel-item:last-child::after {align-self: flex-start;width: 50%;}#sk-container-id-3 div.sk-parallel-item:only-child::after {width: 0;}#sk-container-id-3 div.sk-dashed-wrapped {border: 1px dashed gray;margin: 0 0.4em 0.5em 0.4em;box-sizing: border-box;padding-bottom: 0.4em;background-color: white;}#sk-container-id-3 div.sk-label label {font-family: monospace;font-weight: bold;display: inline-block;line-height: 1.2em;}#sk-container-id-3 div.sk-label-container {text-align: center;}#sk-container-id-3 div.sk-container {/* jupyter's `normalize.less` sets `[hidden] { display: none; }` but bootstrap.min.css set `[hidden] { display: none !important; }` so we also need the `!important` here to be able to override the default hidden behavior on the sphinx rendered scikit-learn.org. See: https://github.com/scikit-learn/scikit-learn/issues/21755 */display: inline-block !important;position: relative;}#sk-container-id-3 div.sk-text-repr-fallback {display: none;}</style><div id=\"sk-container-id-3\" class=\"sk-top-container\"><div class=\"sk-text-repr-fallback\"><pre>MLPClassifier(activation=&#x27;tanh&#x27;, hidden_layer_sizes=200, max_iter=500,\n",
       "              random_state=1)</pre><b>In a Jupyter environment, please rerun this cell to show the HTML representation or trust the notebook. <br />On GitHub, the HTML representation is unable to render, please try loading this page with nbviewer.org.</b></div><div class=\"sk-container\" hidden><div class=\"sk-item\"><div class=\"sk-estimator sk-toggleable\"><input class=\"sk-toggleable__control sk-hidden--visually\" id=\"sk-estimator-id-3\" type=\"checkbox\" checked><label for=\"sk-estimator-id-3\" class=\"sk-toggleable__label sk-toggleable__label-arrow\">MLPClassifier</label><div class=\"sk-toggleable__content\"><pre>MLPClassifier(activation=&#x27;tanh&#x27;, hidden_layer_sizes=200, max_iter=500,\n",
       "              random_state=1)</pre></div></div></div></div></div>"
      ],
      "text/plain": [
       "MLPClassifier(activation='tanh', hidden_layer_sizes=200, max_iter=500,\n",
       "              random_state=1)"
      ]
     },
     "execution_count": 57,
     "metadata": {},
     "output_type": "execute_result"
    }
   ],
   "source": [
    "clf.fit(X_train, y_train)"
   ]
  },
  {
   "cell_type": "code",
   "execution_count": 58,
   "id": "d5131ca6",
   "metadata": {},
   "outputs": [
    {
     "data": {
      "text/plain": [
       "0.6474576271186441"
      ]
     },
     "execution_count": 58,
     "metadata": {},
     "output_type": "execute_result"
    }
   ],
   "source": [
    "clf.score(X_test, y_test)"
   ]
  },
  {
   "cell_type": "code",
   "execution_count": null,
   "id": "e2ef643b",
   "metadata": {},
   "outputs": [],
   "source": []
  },
  {
   "cell_type": "code",
   "execution_count": null,
   "id": "43020e26",
   "metadata": {},
   "outputs": [],
   "source": []
  },
  {
   "cell_type": "code",
   "execution_count": null,
   "id": "41ea4565",
   "metadata": {},
   "outputs": [],
   "source": []
  }
 ],
 "metadata": {
  "kernelspec": {
   "display_name": "Python 3 (ipykernel)",
   "language": "python",
   "name": "python3"
  },
  "language_info": {
   "codemirror_mode": {
    "name": "ipython",
    "version": 3
   },
   "file_extension": ".py",
   "mimetype": "text/x-python",
   "name": "python",
   "nbconvert_exporter": "python",
   "pygments_lexer": "ipython3",
   "version": "3.10.10"
  }
 },
 "nbformat": 4,
 "nbformat_minor": 5
}
