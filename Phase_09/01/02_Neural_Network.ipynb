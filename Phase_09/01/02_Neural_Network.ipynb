{
 "cells": [
  {
   "cell_type": "markdown",
   "metadata": {},
   "source": [
    "<h1 style=\"color:blue; text-align:center;\"\"> Lecture 33 </h1>\n",
    "<hr style=\"height:5px;border-width:0;color:blue;background-color:blue\">"
   ]
  },
  {
   "cell_type": "markdown",
   "metadata": {},
   "source": [
    "## Neural Networks - Multilayer Perceptron"
   ]
  },
  {
   "cell_type": "markdown",
   "metadata": {},
   "source": [
    "### Imports"
   ]
  },
  {
   "cell_type": "code",
   "execution_count": 1,
   "metadata": {},
   "outputs": [
    {
     "name": "stderr",
     "output_type": "stream",
     "text": [
      "2023-07-27 09:06:17.395668: W tensorflow/stream_executor/platform/default/dso_loader.cc:64] Could not load dynamic library 'libcudart.so.11.0'; dlerror: libcudart.so.11.0: cannot open shared object file: No such file or directory\n",
      "2023-07-27 09:06:17.395716: I tensorflow/stream_executor/cuda/cudart_stub.cc:29] Ignore above cudart dlerror if you do not have a GPU set up on your machine.\n"
     ]
    }
   ],
   "source": [
    "from keras.models import Sequential\n",
    "from keras.layers import Dense\n",
    "import numpy"
   ]
  },
  {
   "cell_type": "markdown",
   "metadata": {},
   "source": [
    "### Seeding"
   ]
  },
  {
   "cell_type": "code",
   "execution_count": 2,
   "metadata": {},
   "outputs": [],
   "source": [
    "# fix random seed for reproducibility\n",
    "seed = 7\n",
    "numpy.random.seed(seed)"
   ]
  },
  {
   "cell_type": "markdown",
   "metadata": {},
   "source": [
    "### Data"
   ]
  },
  {
   "cell_type": "code",
   "execution_count": 3,
   "metadata": {},
   "outputs": [],
   "source": [
    "# load pima indians dataset\n",
    "dataset = numpy.loadtxt(\"pima-indians-diabetes.csv\", delimiter=\",\")"
   ]
  },
  {
   "cell_type": "code",
   "execution_count": 4,
   "metadata": {},
   "outputs": [
    {
     "data": {
      "text/plain": [
       "(768, 9)"
      ]
     },
     "execution_count": 4,
     "metadata": {},
     "output_type": "execute_result"
    }
   ],
   "source": [
    "dataset.shape"
   ]
  },
  {
   "cell_type": "code",
   "execution_count": 5,
   "metadata": {},
   "outputs": [],
   "source": [
    "# split into Feature-set (X) and Label/Trget/output (Y) variables\n",
    "X = dataset[:,0:8]\n",
    "Y = dataset[:,8]"
   ]
  },
  {
   "cell_type": "code",
   "execution_count": 6,
   "metadata": {},
   "outputs": [
    {
     "data": {
      "text/plain": [
       "(768, 8)"
      ]
     },
     "execution_count": 6,
     "metadata": {},
     "output_type": "execute_result"
    }
   ],
   "source": [
    "X.shape"
   ]
  },
  {
   "cell_type": "code",
   "execution_count": 7,
   "metadata": {},
   "outputs": [
    {
     "data": {
      "text/plain": [
       "(768,)"
      ]
     },
     "execution_count": 7,
     "metadata": {},
     "output_type": "execute_result"
    }
   ],
   "source": [
    "Y.shape"
   ]
  },
  {
   "cell_type": "code",
   "execution_count": 8,
   "metadata": {},
   "outputs": [
    {
     "data": {
      "text/plain": [
       "1"
      ]
     },
     "execution_count": 8,
     "metadata": {},
     "output_type": "execute_result"
    }
   ],
   "source": [
    "Y.ndim"
   ]
  },
  {
   "cell_type": "code",
   "execution_count": 9,
   "metadata": {},
   "outputs": [
    {
     "data": {
      "text/plain": [
       "array([1., 0., 1., 0., 1., 0., 1., 0., 1., 1., 0., 1., 0., 1., 1., 1., 1.,\n",
       "       1., 0., 1., 0., 0., 1., 1., 1., 1., 1., 0., 0., 0., 0., 1., 0., 0.,\n",
       "       0., 0., 0., 1., 1., 1., 0., 0., 0., 1., 0., 1., 0., 0., 1., 0., 0.,\n",
       "       0., 0., 1., 0., 0., 1., 0., 0., 0., 0., 1., 0., 0., 1., 0., 1., 0.,\n",
       "       0., 0., 1., 0., 1., 0., 0., 0., 0., 0., 1., 0., 0., 0., 0., 0., 1.,\n",
       "       0., 0., 0., 1., 0., 0., 0., 0., 1., 0., 0., 0., 0., 0., 1., 1., 0.,\n",
       "       0., 0., 0., 0., 0., 0., 0., 1., 1., 1., 0., 0., 1., 1., 1., 0., 0.,\n",
       "       0., 1., 0., 0., 0., 1., 1., 0., 0., 1., 1., 1., 1., 1., 0., 0., 0.,\n",
       "       0., 0., 0., 0., 0., 0., 0., 1., 0., 0., 0., 0., 0., 0., 0., 0., 1.,\n",
       "       0., 1., 1., 0., 0., 0., 1., 0., 0., 0., 0., 1., 1., 0., 0., 0., 0.,\n",
       "       1., 1., 0., 0., 0., 1., 0., 1., 0., 1., 0., 0., 0., 0., 0., 1., 1.,\n",
       "       1., 1., 1., 0., 0., 1., 1., 0., 1., 0., 1., 1., 1., 0., 0., 0., 0.,\n",
       "       0., 0., 1., 1., 0., 1., 0., 0., 0., 1., 1., 1., 1., 0., 1., 1., 1.,\n",
       "       1., 0., 0., 0., 0., 0., 1., 0., 0., 1., 1., 0., 0., 0., 1., 1., 1.,\n",
       "       1., 0., 0., 0., 1., 1., 0., 1., 0., 0., 0., 0., 0., 0., 0., 0., 1.,\n",
       "       1., 0., 0., 0., 1., 0., 1., 0., 0., 1., 0., 1., 0., 0., 1., 1., 0.,\n",
       "       0., 0., 0., 0., 1., 0., 0., 0., 1., 0., 0., 1., 1., 0., 0., 1., 0.,\n",
       "       0., 0., 1., 1., 1., 0., 0., 1., 0., 1., 0., 1., 1., 0., 1., 0., 0.,\n",
       "       1., 0., 1., 1., 0., 0., 1., 0., 1., 0., 0., 1., 0., 1., 0., 1., 1.,\n",
       "       1., 0., 0., 1., 0., 1., 0., 0., 0., 1., 0., 0., 0., 0., 1., 1., 1.,\n",
       "       0., 0., 0., 0., 0., 0., 0., 0., 0., 1., 0., 0., 0., 0., 0., 1., 1.,\n",
       "       1., 0., 1., 1., 0., 0., 1., 0., 0., 1., 0., 0., 1., 1., 0., 0., 0.,\n",
       "       0., 1., 0., 0., 1., 0., 0., 0., 0., 0., 0., 0., 1., 1., 1., 0., 0.,\n",
       "       1., 0., 0., 1., 0., 0., 1., 0., 1., 1., 0., 1., 0., 1., 0., 1., 0.,\n",
       "       1., 1., 0., 0., 0., 0., 1., 1., 0., 1., 0., 1., 0., 0., 0., 0., 1.,\n",
       "       1., 0., 1., 0., 1., 0., 0., 0., 0., 0., 1., 0., 0., 0., 0., 1., 0.,\n",
       "       0., 1., 1., 1., 0., 0., 1., 0., 0., 1., 0., 0., 0., 1., 0., 0., 1.,\n",
       "       0., 0., 0., 0., 0., 0., 0., 0., 0., 1., 0., 0., 0., 0., 0., 0., 0.,\n",
       "       1., 0., 0., 0., 1., 0., 0., 0., 1., 1., 0., 0., 0., 0., 0., 0., 0.,\n",
       "       1., 0., 0., 0., 0., 1., 0., 0., 0., 1., 0., 0., 0., 1., 0., 0., 0.,\n",
       "       1., 0., 0., 0., 0., 1., 1., 0., 0., 0., 0., 0., 0., 1., 0., 0., 0.,\n",
       "       0., 0., 0., 0., 0., 0., 0., 0., 1., 0., 0., 0., 1., 1., 1., 1., 0.,\n",
       "       0., 1., 1., 0., 0., 0., 0., 0., 0., 0., 0., 0., 0., 0., 0., 0., 1.,\n",
       "       1., 0., 0., 0., 0., 0., 0., 0., 1., 0., 0., 0., 0., 0., 0., 0., 1.,\n",
       "       0., 1., 1., 0., 0., 0., 1., 0., 1., 0., 1., 0., 1., 0., 1., 0., 0.,\n",
       "       1., 0., 0., 1., 0., 0., 0., 0., 1., 1., 0., 1., 0., 0., 0., 0., 1.,\n",
       "       1., 0., 1., 0., 0., 0., 1., 1., 0., 0., 0., 0., 0., 0., 0., 0., 0.,\n",
       "       0., 1., 0., 0., 0., 0., 1., 0., 0., 1., 0., 0., 0., 1., 0., 0., 0.,\n",
       "       1., 1., 1., 0., 0., 0., 0., 0., 0., 1., 0., 0., 0., 1., 0., 1., 1.,\n",
       "       1., 1., 0., 1., 1., 0., 0., 0., 0., 0., 0., 0., 1., 1., 0., 1., 0.,\n",
       "       0., 1., 0., 1., 0., 0., 0., 0., 0., 1., 0., 1., 0., 1., 0., 1., 1.,\n",
       "       0., 0., 0., 0., 1., 1., 0., 0., 0., 1., 0., 1., 1., 0., 0., 1., 0.,\n",
       "       0., 1., 1., 0., 0., 1., 0., 0., 1., 0., 0., 0., 0., 0., 0., 0., 1.,\n",
       "       1., 1., 0., 0., 0., 0., 0., 0., 1., 1., 0., 0., 1., 0., 0., 1., 0.,\n",
       "       1., 1., 1., 0., 0., 1., 1., 1., 0., 1., 0., 1., 0., 1., 0., 0., 0.,\n",
       "       0., 1., 0.])"
      ]
     },
     "execution_count": 9,
     "metadata": {},
     "output_type": "execute_result"
    }
   ],
   "source": [
    "Y"
   ]
  },
  {
   "cell_type": "code",
   "execution_count": 10,
   "metadata": {},
   "outputs": [
    {
     "data": {
      "text/plain": [
       "array([  6.   , 148.   ,  72.   ,  35.   ,   0.   ,  33.6  ,   0.627,\n",
       "        50.   ])"
      ]
     },
     "execution_count": 10,
     "metadata": {},
     "output_type": "execute_result"
    }
   ],
   "source": [
    "X[0]"
   ]
  },
  {
   "cell_type": "markdown",
   "metadata": {},
   "source": [
    "### Model Defining"
   ]
  },
  {
   "cell_type": "markdown",
   "metadata": {},
   "source": [
    "- Models in Keras are defined as a sequence of layers.\n",
    "- There are three ways to create Keras models:\n",
    "  * Sequential Model\n",
    "  * Model Subclassing\n",
    "  * Functional API\n",
    "  * https://keras.io/api/models/\n",
    "- We create a Sequential model and add layers one at a time until we are happy with our network topology.\n",
    "- The first thing to get right is to ensure the input layer has the right number of inputs i.e. In this case, X is (768, 8) that is, it has 8 features.\n",
    "- So the input_dimension is set to 8 in the first layer\n"
   ]
  },
  {
   "cell_type": "markdown",
   "metadata": {},
   "source": [
    "- How do we know the number of layers to use and their types? - By trial and error. "
   ]
  },
  {
   "cell_type": "markdown",
   "metadata": {},
   "source": [
    "- Fully Connected Layers: Defined by using DENSE class.\n",
    "- Initialization method: kernel_initializer='uniform' - It describes how we want to initialize the network weights. Uniform means a small random number generated from a uniform distribution. It is between 0 and 0.05 (Default in keras).\n",
    "- Activation Function: ReLu and first two layers and Sigmoid on the last layer. In older practices, tanh or sigmoid was used but these days ReLu is preffered."
   ]
  },
  {
   "cell_type": "code",
   "execution_count": 11,
   "metadata": {},
   "outputs": [
    {
     "name": "stderr",
     "output_type": "stream",
     "text": [
      "2023-07-27 09:22:09.251400: W tensorflow/stream_executor/platform/default/dso_loader.cc:64] Could not load dynamic library 'libcuda.so.1'; dlerror: libcuda.so.1: cannot open shared object file: No such file or directory\n",
      "2023-07-27 09:22:09.251448: W tensorflow/stream_executor/cuda/cuda_driver.cc:269] failed call to cuInit: UNKNOWN ERROR (303)\n",
      "2023-07-27 09:22:09.251480: I tensorflow/stream_executor/cuda/cuda_diagnostics.cc:156] kernel driver does not appear to be running on this host (tron): /proc/driver/nvidia/version does not exist\n",
      "2023-07-27 09:22:09.251922: I tensorflow/core/platform/cpu_feature_guard.cc:151] This TensorFlow binary is optimized with oneAPI Deep Neural Network Library (oneDNN) to use the following CPU instructions in performance-critical operations:  AVX2 FMA\n",
      "To enable them in other operations, rebuild TensorFlow with the appropriate compiler flags.\n"
     ]
    }
   ],
   "source": [
    "# create model\n",
    "model = Sequential()\n",
    "model.add(Dense(units=12, input_dim=8, kernel_initializer='uniform', activation='relu'))\n",
    "model.add(Dense(units=8, kernel_initializer='uniform', activation='relu'))\n",
    "model.add(Dense(units=1, kernel_initializer='uniform', activation='sigmoid'))"
   ]
  },
  {
   "cell_type": "markdown",
   "metadata": {},
   "source": [
    "### Model Compilation"
   ]
  },
  {
   "cell_type": "markdown",
   "metadata": {},
   "source": [
    "- Compiling the model uses the efficient numerical libraries under the covers (the so-called backend) such as TensorFlow.\n",
    "- The backend automatically chooses the best way to represent the network for training and making predictions to run on your hardware.\n",
    "- When compiling, some additional properties are required to be specified to train the network such as:\n",
    "    - Loss function = loss = binary_crossentropy\n",
    "    - Solver/Optimizer = adam\n",
    "    - metrics = for evaluaiton purposes"
   ]
  },
  {
   "cell_type": "code",
   "execution_count": 12,
   "metadata": {},
   "outputs": [],
   "source": [
    "model.compile(loss='binary_crossentropy', optimizer='adam', metrics=['accuracy'])"
   ]
  },
  {
   "cell_type": "code",
   "execution_count": 13,
   "metadata": {},
   "outputs": [
    {
     "name": "stdout",
     "output_type": "stream",
     "text": [
      "Model: \"sequential\"\n",
      "_________________________________________________________________\n",
      " Layer (type)                Output Shape              Param #   \n",
      "=================================================================\n",
      " dense (Dense)               (None, 12)                108       \n",
      "                                                                 \n",
      " dense_1 (Dense)             (None, 8)                 104       \n",
      "                                                                 \n",
      " dense_2 (Dense)             (None, 1)                 9         \n",
      "                                                                 \n",
      "=================================================================\n",
      "Total params: 221\n",
      "Trainable params: 221\n",
      "Non-trainable params: 0\n",
      "_________________________________________________________________\n"
     ]
    }
   ],
   "source": [
    "model.summary()"
   ]
  },
  {
   "cell_type": "markdown",
   "metadata": {},
   "source": [
    "### Fit the Model"
   ]
  },
  {
   "cell_type": "markdown",
   "metadata": {},
   "source": [
    "- The training process will run for a fixed number of iterations through the dataset called epochs i.e. nb_epoch\n",
    "- We can also set the number of instances that are evaluated before a weight update in the network is performed called the batch size and set using the batch size argument.\n",
    "- "
   ]
  },
  {
   "cell_type": "code",
   "execution_count": null,
   "metadata": {},
   "outputs": [],
   "source": [
    "model.fit(X, Y, epochs=50, batch_size=10)"
   ]
  },
  {
   "cell_type": "code",
   "execution_count": null,
   "metadata": {},
   "outputs": [],
   "source": [
    "scores = model.evaluate(X, Y)\n",
    "scores"
   ]
  },
  {
   "cell_type": "code",
   "execution_count": null,
   "metadata": {},
   "outputs": [],
   "source": [
    "print(\"%s: %.2f%%\" % (model.metrics_names[1], scores[1]*100))"
   ]
  },
  {
   "cell_type": "markdown",
   "metadata": {},
   "source": [
    "### Validation Split"
   ]
  },
  {
   "cell_type": "markdown",
   "metadata": {},
   "source": [
    "- Keras can separate a portion of your training data into a validation dataset and evaluate the performance of your model on that validation dataset each epoch.\n",
    "- validation split argument is set in fit method for this purpose.\n",
    "- validation split value is between 0 and 1."
   ]
  },
  {
   "cell_type": "code",
   "execution_count": null,
   "metadata": {},
   "outputs": [],
   "source": [
    "model.fit(X, Y, epochs=150, batch_size=10, validation_split=0.1)"
   ]
  },
  {
   "cell_type": "markdown",
   "metadata": {},
   "source": [
    "### Splits\n",
    "- Test-Train with Validation\n",
    "- Test: for virgin-data (unseen)\n",
    "- Validation: testing during the training after each epoch"
   ]
  },
  {
   "cell_type": "code",
   "execution_count": 20,
   "metadata": {},
   "outputs": [],
   "source": [
    "from sklearn.model_selection import train_test_split\n"
   ]
  },
  {
   "cell_type": "code",
   "execution_count": 21,
   "metadata": {},
   "outputs": [],
   "source": [
    "# split into 67% for train and 33% for test\n",
    "X_train, X_test, y_train, y_test = train_test_split(X, Y, test_size=0.2, random_state=seed)"
   ]
  },
  {
   "cell_type": "code",
   "execution_count": 29,
   "metadata": {},
   "outputs": [
    {
     "name": "stdout",
     "output_type": "stream",
     "text": [
      "Epoch 1/150\n",
      "56/56 [==============================] - 1s 6ms/step - loss: 0.6842 - accuracy: 0.6540 - val_loss: 0.6866 - val_accuracy: 0.5968\n",
      "Epoch 2/150\n",
      "56/56 [==============================] - 0s 4ms/step - loss: 0.6636 - accuracy: 0.6630 - val_loss: 0.6893 - val_accuracy: 0.5968\n",
      "Epoch 3/150\n",
      "56/56 [==============================] - 0s 3ms/step - loss: 0.6545 - accuracy: 0.6630 - val_loss: 0.6848 - val_accuracy: 0.5968\n",
      "Epoch 4/150\n",
      "56/56 [==============================] - 0s 3ms/step - loss: 0.6497 - accuracy: 0.6558 - val_loss: 0.6839 - val_accuracy: 0.5968\n",
      "Epoch 5/150\n",
      "56/56 [==============================] - 0s 3ms/step - loss: 0.6436 - accuracy: 0.6667 - val_loss: 0.6653 - val_accuracy: 0.6129\n",
      "Epoch 6/150\n",
      "56/56 [==============================] - 0s 3ms/step - loss: 0.6403 - accuracy: 0.6649 - val_loss: 0.6705 - val_accuracy: 0.6129\n",
      "Epoch 7/150\n",
      "56/56 [==============================] - 0s 3ms/step - loss: 0.6329 - accuracy: 0.6667 - val_loss: 0.6605 - val_accuracy: 0.6129\n",
      "Epoch 8/150\n",
      "56/56 [==============================] - 0s 3ms/step - loss: 0.6241 - accuracy: 0.6793 - val_loss: 0.6639 - val_accuracy: 0.6290\n",
      "Epoch 9/150\n",
      "56/56 [==============================] - 0s 3ms/step - loss: 0.6173 - accuracy: 0.6884 - val_loss: 0.6397 - val_accuracy: 0.6129\n",
      "Epoch 10/150\n",
      "56/56 [==============================] - 0s 3ms/step - loss: 0.6121 - accuracy: 0.6938 - val_loss: 0.6246 - val_accuracy: 0.6452\n",
      "Epoch 11/150\n",
      "56/56 [==============================] - 0s 3ms/step - loss: 0.6037 - accuracy: 0.6703 - val_loss: 0.6643 - val_accuracy: 0.5806\n",
      "Epoch 12/150\n",
      "56/56 [==============================] - 0s 4ms/step - loss: 0.6037 - accuracy: 0.6902 - val_loss: 0.6434 - val_accuracy: 0.6290\n",
      "Epoch 13/150\n",
      "56/56 [==============================] - 0s 3ms/step - loss: 0.5936 - accuracy: 0.6957 - val_loss: 0.6129 - val_accuracy: 0.6613\n",
      "Epoch 14/150\n",
      "56/56 [==============================] - 0s 3ms/step - loss: 0.5892 - accuracy: 0.6866 - val_loss: 0.6181 - val_accuracy: 0.7097\n",
      "Epoch 15/150\n",
      "56/56 [==============================] - 0s 4ms/step - loss: 0.5927 - accuracy: 0.6848 - val_loss: 0.6767 - val_accuracy: 0.6129\n",
      "Epoch 16/150\n",
      "56/56 [==============================] - 0s 4ms/step - loss: 0.5952 - accuracy: 0.6812 - val_loss: 0.6293 - val_accuracy: 0.6452\n",
      "Epoch 17/150\n",
      "56/56 [==============================] - 0s 4ms/step - loss: 0.5907 - accuracy: 0.6884 - val_loss: 0.6216 - val_accuracy: 0.6774\n",
      "Epoch 18/150\n",
      "56/56 [==============================] - 0s 4ms/step - loss: 0.5845 - accuracy: 0.6884 - val_loss: 0.6073 - val_accuracy: 0.6935\n",
      "Epoch 19/150\n",
      "56/56 [==============================] - 0s 4ms/step - loss: 0.5840 - accuracy: 0.6902 - val_loss: 0.6040 - val_accuracy: 0.6613\n",
      "Epoch 20/150\n",
      "56/56 [==============================] - 0s 3ms/step - loss: 0.5803 - accuracy: 0.6938 - val_loss: 0.6158 - val_accuracy: 0.6935\n",
      "Epoch 21/150\n",
      "56/56 [==============================] - 0s 4ms/step - loss: 0.5796 - accuracy: 0.6884 - val_loss: 0.6215 - val_accuracy: 0.6774\n",
      "Epoch 22/150\n",
      "56/56 [==============================] - 0s 4ms/step - loss: 0.5802 - accuracy: 0.7029 - val_loss: 0.6075 - val_accuracy: 0.6774\n",
      "Epoch 23/150\n",
      "56/56 [==============================] - 0s 4ms/step - loss: 0.5784 - accuracy: 0.7029 - val_loss: 0.6187 - val_accuracy: 0.6774\n",
      "Epoch 24/150\n",
      "56/56 [==============================] - 0s 3ms/step - loss: 0.5781 - accuracy: 0.6993 - val_loss: 0.6081 - val_accuracy: 0.6935\n",
      "Epoch 25/150\n",
      "56/56 [==============================] - 0s 4ms/step - loss: 0.5720 - accuracy: 0.6975 - val_loss: 0.6231 - val_accuracy: 0.6935\n",
      "Epoch 26/150\n",
      "56/56 [==============================] - 0s 4ms/step - loss: 0.5755 - accuracy: 0.7011 - val_loss: 0.6211 - val_accuracy: 0.6774\n",
      "Epoch 27/150\n",
      "56/56 [==============================] - 0s 3ms/step - loss: 0.5697 - accuracy: 0.6993 - val_loss: 0.6060 - val_accuracy: 0.6935\n",
      "Epoch 28/150\n",
      "56/56 [==============================] - 0s 3ms/step - loss: 0.5724 - accuracy: 0.6957 - val_loss: 0.6161 - val_accuracy: 0.6935\n",
      "Epoch 29/150\n",
      "56/56 [==============================] - 0s 3ms/step - loss: 0.5711 - accuracy: 0.6902 - val_loss: 0.6132 - val_accuracy: 0.7258\n",
      "Epoch 30/150\n",
      "56/56 [==============================] - 0s 4ms/step - loss: 0.5746 - accuracy: 0.6793 - val_loss: 0.6070 - val_accuracy: 0.6774\n",
      "Epoch 31/150\n",
      "56/56 [==============================] - 0s 3ms/step - loss: 0.5673 - accuracy: 0.7047 - val_loss: 0.6032 - val_accuracy: 0.6935\n",
      "Epoch 32/150\n",
      "56/56 [==============================] - 0s 3ms/step - loss: 0.5724 - accuracy: 0.6957 - val_loss: 0.6151 - val_accuracy: 0.6774\n",
      "Epoch 33/150\n",
      "56/56 [==============================] - 0s 3ms/step - loss: 0.5645 - accuracy: 0.6993 - val_loss: 0.6787 - val_accuracy: 0.6129\n",
      "Epoch 34/150\n",
      "56/56 [==============================] - 0s 3ms/step - loss: 0.5680 - accuracy: 0.6938 - val_loss: 0.6152 - val_accuracy: 0.6935\n",
      "Epoch 35/150\n",
      "56/56 [==============================] - 0s 3ms/step - loss: 0.5622 - accuracy: 0.6957 - val_loss: 0.6072 - val_accuracy: 0.7097\n",
      "Epoch 36/150\n",
      "56/56 [==============================] - 0s 3ms/step - loss: 0.5693 - accuracy: 0.7083 - val_loss: 0.6319 - val_accuracy: 0.6613\n",
      "Epoch 37/150\n",
      "56/56 [==============================] - 0s 3ms/step - loss: 0.5698 - accuracy: 0.6920 - val_loss: 0.6086 - val_accuracy: 0.6774\n",
      "Epoch 38/150\n",
      "56/56 [==============================] - 0s 3ms/step - loss: 0.5671 - accuracy: 0.7011 - val_loss: 0.6508 - val_accuracy: 0.6290\n",
      "Epoch 39/150\n",
      "56/56 [==============================] - 0s 3ms/step - loss: 0.5641 - accuracy: 0.7083 - val_loss: 0.6058 - val_accuracy: 0.6935\n",
      "Epoch 40/150\n",
      "56/56 [==============================] - 0s 3ms/step - loss: 0.5638 - accuracy: 0.7138 - val_loss: 0.6032 - val_accuracy: 0.7097\n",
      "Epoch 41/150\n",
      "56/56 [==============================] - 0s 3ms/step - loss: 0.5669 - accuracy: 0.7011 - val_loss: 0.6518 - val_accuracy: 0.6613\n",
      "Epoch 42/150\n",
      "56/56 [==============================] - 0s 3ms/step - loss: 0.5580 - accuracy: 0.7011 - val_loss: 0.6371 - val_accuracy: 0.6452\n",
      "Epoch 43/150\n",
      "56/56 [==============================] - 0s 3ms/step - loss: 0.5538 - accuracy: 0.7065 - val_loss: 0.6341 - val_accuracy: 0.6613\n",
      "Epoch 44/150\n",
      "56/56 [==============================] - 0s 3ms/step - loss: 0.5589 - accuracy: 0.6957 - val_loss: 0.6464 - val_accuracy: 0.6290\n",
      "Epoch 45/150\n",
      "56/56 [==============================] - 0s 3ms/step - loss: 0.5606 - accuracy: 0.7101 - val_loss: 0.6171 - val_accuracy: 0.7097\n",
      "Epoch 46/150\n",
      "56/56 [==============================] - 0s 3ms/step - loss: 0.5523 - accuracy: 0.7192 - val_loss: 0.6123 - val_accuracy: 0.6935\n",
      "Epoch 47/150\n",
      "56/56 [==============================] - 0s 3ms/step - loss: 0.5496 - accuracy: 0.7065 - val_loss: 0.6569 - val_accuracy: 0.6774\n",
      "Epoch 48/150\n",
      "56/56 [==============================] - 0s 3ms/step - loss: 0.5552 - accuracy: 0.7138 - val_loss: 0.6111 - val_accuracy: 0.6774\n",
      "Epoch 49/150\n",
      "56/56 [==============================] - 0s 3ms/step - loss: 0.5693 - accuracy: 0.7047 - val_loss: 0.6307 - val_accuracy: 0.6613\n",
      "Epoch 50/150\n",
      "56/56 [==============================] - 0s 3ms/step - loss: 0.5537 - accuracy: 0.7156 - val_loss: 0.6199 - val_accuracy: 0.6613\n",
      "Epoch 51/150\n",
      "56/56 [==============================] - 0s 3ms/step - loss: 0.5492 - accuracy: 0.7210 - val_loss: 0.6061 - val_accuracy: 0.7419\n",
      "Epoch 52/150\n",
      "56/56 [==============================] - 0s 3ms/step - loss: 0.5518 - accuracy: 0.7174 - val_loss: 0.5983 - val_accuracy: 0.7419\n",
      "Epoch 53/150\n",
      "56/56 [==============================] - 0s 4ms/step - loss: 0.5524 - accuracy: 0.7083 - val_loss: 0.6118 - val_accuracy: 0.6774\n",
      "Epoch 54/150\n",
      "56/56 [==============================] - 0s 4ms/step - loss: 0.5510 - accuracy: 0.7029 - val_loss: 0.6269 - val_accuracy: 0.6613\n",
      "Epoch 55/150\n",
      "56/56 [==============================] - 0s 3ms/step - loss: 0.5584 - accuracy: 0.7138 - val_loss: 0.6258 - val_accuracy: 0.6774\n",
      "Epoch 56/150\n",
      "56/56 [==============================] - 0s 3ms/step - loss: 0.5507 - accuracy: 0.7120 - val_loss: 0.6115 - val_accuracy: 0.6774\n",
      "Epoch 57/150\n",
      "56/56 [==============================] - 0s 3ms/step - loss: 0.5451 - accuracy: 0.7391 - val_loss: 0.6136 - val_accuracy: 0.6774\n",
      "Epoch 58/150\n",
      "56/56 [==============================] - 0s 3ms/step - loss: 0.5457 - accuracy: 0.7156 - val_loss: 0.6254 - val_accuracy: 0.6774\n"
     ]
    },
    {
     "name": "stdout",
     "output_type": "stream",
     "text": [
      "Epoch 59/150\n",
      "56/56 [==============================] - 0s 3ms/step - loss: 0.5498 - accuracy: 0.7138 - val_loss: 0.6147 - val_accuracy: 0.6935\n",
      "Epoch 60/150\n",
      "56/56 [==============================] - 0s 3ms/step - loss: 0.5416 - accuracy: 0.7065 - val_loss: 0.6148 - val_accuracy: 0.6774\n",
      "Epoch 61/150\n",
      "56/56 [==============================] - 0s 3ms/step - loss: 0.5391 - accuracy: 0.7428 - val_loss: 0.6074 - val_accuracy: 0.7097\n",
      "Epoch 62/150\n",
      "56/56 [==============================] - 0s 3ms/step - loss: 0.5442 - accuracy: 0.7156 - val_loss: 0.6289 - val_accuracy: 0.6452\n",
      "Epoch 63/150\n",
      "56/56 [==============================] - 0s 3ms/step - loss: 0.5459 - accuracy: 0.7283 - val_loss: 0.6038 - val_accuracy: 0.7419\n",
      "Epoch 64/150\n",
      "56/56 [==============================] - 0s 3ms/step - loss: 0.5443 - accuracy: 0.7101 - val_loss: 0.5991 - val_accuracy: 0.7258\n",
      "Epoch 65/150\n",
      "56/56 [==============================] - 0s 3ms/step - loss: 0.5448 - accuracy: 0.7228 - val_loss: 0.6016 - val_accuracy: 0.7581\n",
      "Epoch 66/150\n",
      "56/56 [==============================] - 0s 3ms/step - loss: 0.5360 - accuracy: 0.7192 - val_loss: 0.6392 - val_accuracy: 0.6774\n",
      "Epoch 67/150\n",
      "56/56 [==============================] - 0s 4ms/step - loss: 0.5450 - accuracy: 0.7192 - val_loss: 0.6353 - val_accuracy: 0.6290\n",
      "Epoch 68/150\n",
      "56/56 [==============================] - 0s 3ms/step - loss: 0.5390 - accuracy: 0.7409 - val_loss: 0.6289 - val_accuracy: 0.6613\n",
      "Epoch 69/150\n",
      "56/56 [==============================] - 0s 3ms/step - loss: 0.5377 - accuracy: 0.7192 - val_loss: 0.6062 - val_accuracy: 0.7097\n",
      "Epoch 70/150\n",
      "56/56 [==============================] - 0s 3ms/step - loss: 0.5351 - accuracy: 0.7264 - val_loss: 0.6197 - val_accuracy: 0.6613\n",
      "Epoch 71/150\n",
      "56/56 [==============================] - 0s 3ms/step - loss: 0.5426 - accuracy: 0.7120 - val_loss: 0.6079 - val_accuracy: 0.6935\n",
      "Epoch 72/150\n",
      "56/56 [==============================] - 0s 3ms/step - loss: 0.5349 - accuracy: 0.7355 - val_loss: 0.6187 - val_accuracy: 0.6613\n",
      "Epoch 73/150\n",
      "56/56 [==============================] - 0s 3ms/step - loss: 0.5268 - accuracy: 0.7428 - val_loss: 0.6509 - val_accuracy: 0.7097\n",
      "Epoch 74/150\n",
      "56/56 [==============================] - 0s 3ms/step - loss: 0.5393 - accuracy: 0.7283 - val_loss: 0.5963 - val_accuracy: 0.7419\n",
      "Epoch 75/150\n",
      "56/56 [==============================] - 0s 3ms/step - loss: 0.5323 - accuracy: 0.7156 - val_loss: 0.6419 - val_accuracy: 0.6935\n",
      "Epoch 76/150\n",
      "56/56 [==============================] - 0s 3ms/step - loss: 0.5329 - accuracy: 0.7246 - val_loss: 0.5899 - val_accuracy: 0.7581\n",
      "Epoch 77/150\n",
      "56/56 [==============================] - 0s 3ms/step - loss: 0.5355 - accuracy: 0.7264 - val_loss: 0.6225 - val_accuracy: 0.7258\n",
      "Epoch 78/150\n",
      "56/56 [==============================] - 0s 3ms/step - loss: 0.5300 - accuracy: 0.7373 - val_loss: 0.5917 - val_accuracy: 0.7581\n",
      "Epoch 79/150\n",
      "56/56 [==============================] - 0s 3ms/step - loss: 0.5299 - accuracy: 0.7355 - val_loss: 0.6112 - val_accuracy: 0.7258\n",
      "Epoch 80/150\n",
      "56/56 [==============================] - 0s 3ms/step - loss: 0.5284 - accuracy: 0.7355 - val_loss: 0.5872 - val_accuracy: 0.7742\n",
      "Epoch 81/150\n",
      "56/56 [==============================] - 0s 4ms/step - loss: 0.5566 - accuracy: 0.7101 - val_loss: 0.6118 - val_accuracy: 0.6774\n",
      "Epoch 82/150\n",
      "56/56 [==============================] - 0s 3ms/step - loss: 0.5269 - accuracy: 0.7228 - val_loss: 0.5805 - val_accuracy: 0.7419\n",
      "Epoch 83/150\n",
      "56/56 [==============================] - 0s 3ms/step - loss: 0.5353 - accuracy: 0.7246 - val_loss: 0.5997 - val_accuracy: 0.7097\n",
      "Epoch 84/150\n",
      "56/56 [==============================] - 0s 3ms/step - loss: 0.5307 - accuracy: 0.7228 - val_loss: 0.6031 - val_accuracy: 0.7258\n",
      "Epoch 85/150\n",
      "56/56 [==============================] - 0s 3ms/step - loss: 0.5284 - accuracy: 0.7409 - val_loss: 0.5861 - val_accuracy: 0.7258\n",
      "Epoch 86/150\n",
      "56/56 [==============================] - 0s 3ms/step - loss: 0.5533 - accuracy: 0.6957 - val_loss: 0.5886 - val_accuracy: 0.7419\n",
      "Epoch 87/150\n",
      "56/56 [==============================] - 0s 3ms/step - loss: 0.5243 - accuracy: 0.7391 - val_loss: 0.6082 - val_accuracy: 0.6774\n",
      "Epoch 88/150\n",
      "56/56 [==============================] - 0s 3ms/step - loss: 0.5250 - accuracy: 0.7446 - val_loss: 0.6243 - val_accuracy: 0.6774\n",
      "Epoch 89/150\n",
      "56/56 [==============================] - 0s 3ms/step - loss: 0.5246 - accuracy: 0.7301 - val_loss: 0.6158 - val_accuracy: 0.6935\n",
      "Epoch 90/150\n",
      "56/56 [==============================] - 0s 3ms/step - loss: 0.5381 - accuracy: 0.7355 - val_loss: 0.5939 - val_accuracy: 0.7258\n",
      "Epoch 91/150\n",
      "56/56 [==============================] - 0s 3ms/step - loss: 0.5327 - accuracy: 0.7264 - val_loss: 0.5759 - val_accuracy: 0.7581\n",
      "Epoch 92/150\n",
      "56/56 [==============================] - 0s 3ms/step - loss: 0.5330 - accuracy: 0.7355 - val_loss: 0.5855 - val_accuracy: 0.7419\n",
      "Epoch 93/150\n",
      "56/56 [==============================] - 0s 4ms/step - loss: 0.5235 - accuracy: 0.7319 - val_loss: 0.5784 - val_accuracy: 0.7742\n",
      "Epoch 94/150\n",
      "56/56 [==============================] - 0s 4ms/step - loss: 0.5240 - accuracy: 0.7301 - val_loss: 0.5740 - val_accuracy: 0.7742\n",
      "Epoch 95/150\n",
      "56/56 [==============================] - 0s 4ms/step - loss: 0.5253 - accuracy: 0.7337 - val_loss: 0.5806 - val_accuracy: 0.7419\n",
      "Epoch 96/150\n",
      "56/56 [==============================] - 0s 3ms/step - loss: 0.5184 - accuracy: 0.7391 - val_loss: 0.5829 - val_accuracy: 0.7419\n",
      "Epoch 97/150\n",
      "56/56 [==============================] - 0s 3ms/step - loss: 0.5171 - accuracy: 0.7409 - val_loss: 0.5986 - val_accuracy: 0.7419\n",
      "Epoch 98/150\n",
      "56/56 [==============================] - 0s 4ms/step - loss: 0.5191 - accuracy: 0.7301 - val_loss: 0.5814 - val_accuracy: 0.7419\n",
      "Epoch 99/150\n",
      "56/56 [==============================] - 0s 3ms/step - loss: 0.5217 - accuracy: 0.7355 - val_loss: 0.5957 - val_accuracy: 0.7258\n",
      "Epoch 100/150\n",
      "56/56 [==============================] - 0s 3ms/step - loss: 0.5134 - accuracy: 0.7428 - val_loss: 0.5969 - val_accuracy: 0.7258\n",
      "Epoch 101/150\n",
      "56/56 [==============================] - 0s 3ms/step - loss: 0.5177 - accuracy: 0.7355 - val_loss: 0.5944 - val_accuracy: 0.7258\n",
      "Epoch 102/150\n",
      "56/56 [==============================] - 0s 3ms/step - loss: 0.5174 - accuracy: 0.7464 - val_loss: 0.6397 - val_accuracy: 0.6774\n",
      "Epoch 103/150\n",
      "56/56 [==============================] - 0s 3ms/step - loss: 0.5258 - accuracy: 0.7301 - val_loss: 0.5747 - val_accuracy: 0.7581\n",
      "Epoch 104/150\n",
      "56/56 [==============================] - 0s 4ms/step - loss: 0.5262 - accuracy: 0.7264 - val_loss: 0.5655 - val_accuracy: 0.7419\n",
      "Epoch 105/150\n",
      "56/56 [==============================] - 0s 3ms/step - loss: 0.5150 - accuracy: 0.7409 - val_loss: 0.5685 - val_accuracy: 0.7419\n",
      "Epoch 106/150\n",
      "56/56 [==============================] - 0s 3ms/step - loss: 0.5101 - accuracy: 0.7355 - val_loss: 0.5991 - val_accuracy: 0.7097\n",
      "Epoch 107/150\n",
      "56/56 [==============================] - 0s 3ms/step - loss: 0.5083 - accuracy: 0.7500 - val_loss: 0.6310 - val_accuracy: 0.6613\n",
      "Epoch 108/150\n",
      "56/56 [==============================] - 0s 4ms/step - loss: 0.5096 - accuracy: 0.7391 - val_loss: 0.5687 - val_accuracy: 0.7419\n",
      "Epoch 109/150\n",
      "56/56 [==============================] - 0s 3ms/step - loss: 0.5098 - accuracy: 0.7428 - val_loss: 0.5741 - val_accuracy: 0.7258\n",
      "Epoch 110/150\n",
      "56/56 [==============================] - 0s 3ms/step - loss: 0.5151 - accuracy: 0.7264 - val_loss: 0.6372 - val_accuracy: 0.6613\n",
      "Epoch 111/150\n",
      "56/56 [==============================] - 0s 3ms/step - loss: 0.5161 - accuracy: 0.7464 - val_loss: 0.5888 - val_accuracy: 0.7419\n",
      "Epoch 112/150\n",
      "56/56 [==============================] - 0s 3ms/step - loss: 0.5117 - accuracy: 0.7518 - val_loss: 0.5808 - val_accuracy: 0.7419\n",
      "Epoch 113/150\n",
      "56/56 [==============================] - 0s 3ms/step - loss: 0.5076 - accuracy: 0.7428 - val_loss: 0.5608 - val_accuracy: 0.7581\n",
      "Epoch 114/150\n",
      "56/56 [==============================] - 0s 3ms/step - loss: 0.5051 - accuracy: 0.7591 - val_loss: 0.5766 - val_accuracy: 0.7258\n",
      "Epoch 115/150\n",
      "56/56 [==============================] - 0s 3ms/step - loss: 0.5219 - accuracy: 0.7409 - val_loss: 0.5953 - val_accuracy: 0.7419\n",
      "Epoch 116/150\n"
     ]
    },
    {
     "name": "stdout",
     "output_type": "stream",
     "text": [
      "56/56 [==============================] - 0s 4ms/step - loss: 0.5097 - accuracy: 0.7428 - val_loss: 0.5747 - val_accuracy: 0.7419\n",
      "Epoch 117/150\n",
      "56/56 [==============================] - 0s 4ms/step - loss: 0.5106 - accuracy: 0.7264 - val_loss: 0.6098 - val_accuracy: 0.6935\n",
      "Epoch 118/150\n",
      "56/56 [==============================] - 0s 5ms/step - loss: 0.5059 - accuracy: 0.7409 - val_loss: 0.5729 - val_accuracy: 0.7581\n",
      "Epoch 119/150\n",
      "56/56 [==============================] - 0s 3ms/step - loss: 0.5060 - accuracy: 0.7536 - val_loss: 0.5690 - val_accuracy: 0.7581\n",
      "Epoch 120/150\n",
      "56/56 [==============================] - 0s 3ms/step - loss: 0.5007 - accuracy: 0.7391 - val_loss: 0.5725 - val_accuracy: 0.7581\n",
      "Epoch 121/150\n",
      "56/56 [==============================] - 0s 3ms/step - loss: 0.5031 - accuracy: 0.7500 - val_loss: 0.5642 - val_accuracy: 0.7419\n",
      "Epoch 122/150\n",
      "56/56 [==============================] - 0s 3ms/step - loss: 0.5043 - accuracy: 0.7409 - val_loss: 0.5783 - val_accuracy: 0.7419\n",
      "Epoch 123/150\n",
      "56/56 [==============================] - 0s 3ms/step - loss: 0.5011 - accuracy: 0.7446 - val_loss: 0.5932 - val_accuracy: 0.7419\n",
      "Epoch 124/150\n",
      "56/56 [==============================] - 0s 3ms/step - loss: 0.5028 - accuracy: 0.7319 - val_loss: 0.5658 - val_accuracy: 0.7581\n",
      "Epoch 125/150\n",
      "56/56 [==============================] - 0s 3ms/step - loss: 0.4980 - accuracy: 0.7591 - val_loss: 0.5760 - val_accuracy: 0.7419\n",
      "Epoch 126/150\n",
      "56/56 [==============================] - 0s 3ms/step - loss: 0.4948 - accuracy: 0.7500 - val_loss: 0.5498 - val_accuracy: 0.7581\n",
      "Epoch 127/150\n",
      "56/56 [==============================] - 0s 3ms/step - loss: 0.4970 - accuracy: 0.7699 - val_loss: 0.5963 - val_accuracy: 0.6935\n",
      "Epoch 128/150\n",
      "56/56 [==============================] - 0s 3ms/step - loss: 0.4972 - accuracy: 0.7518 - val_loss: 0.5515 - val_accuracy: 0.7581\n",
      "Epoch 129/150\n",
      "56/56 [==============================] - 0s 3ms/step - loss: 0.4941 - accuracy: 0.7464 - val_loss: 0.5618 - val_accuracy: 0.7419\n",
      "Epoch 130/150\n",
      "56/56 [==============================] - 0s 3ms/step - loss: 0.5086 - accuracy: 0.7446 - val_loss: 0.5779 - val_accuracy: 0.7581\n",
      "Epoch 131/150\n",
      "56/56 [==============================] - 0s 3ms/step - loss: 0.5017 - accuracy: 0.7572 - val_loss: 0.5622 - val_accuracy: 0.7258\n",
      "Epoch 132/150\n",
      "56/56 [==============================] - 0s 4ms/step - loss: 0.4950 - accuracy: 0.7464 - val_loss: 0.5731 - val_accuracy: 0.7258\n",
      "Epoch 133/150\n",
      "56/56 [==============================] - 0s 4ms/step - loss: 0.4930 - accuracy: 0.7717 - val_loss: 0.5816 - val_accuracy: 0.7419\n",
      "Epoch 134/150\n",
      "56/56 [==============================] - 0s 3ms/step - loss: 0.4957 - accuracy: 0.7500 - val_loss: 0.5641 - val_accuracy: 0.7258\n",
      "Epoch 135/150\n",
      "56/56 [==============================] - 0s 3ms/step - loss: 0.4989 - accuracy: 0.7428 - val_loss: 0.6038 - val_accuracy: 0.7258\n",
      "Epoch 136/150\n",
      "56/56 [==============================] - 0s 3ms/step - loss: 0.4926 - accuracy: 0.7554 - val_loss: 0.5935 - val_accuracy: 0.7419\n",
      "Epoch 137/150\n",
      "56/56 [==============================] - 0s 3ms/step - loss: 0.4936 - accuracy: 0.7464 - val_loss: 0.5541 - val_accuracy: 0.7581\n",
      "Epoch 138/150\n",
      "56/56 [==============================] - 0s 3ms/step - loss: 0.4961 - accuracy: 0.7591 - val_loss: 0.5621 - val_accuracy: 0.7258\n",
      "Epoch 139/150\n",
      "56/56 [==============================] - 0s 3ms/step - loss: 0.4965 - accuracy: 0.7645 - val_loss: 0.5708 - val_accuracy: 0.7258\n",
      "Epoch 140/150\n",
      "56/56 [==============================] - 0s 3ms/step - loss: 0.4879 - accuracy: 0.7681 - val_loss: 0.5594 - val_accuracy: 0.7419\n",
      "Epoch 141/150\n",
      "56/56 [==============================] - 0s 3ms/step - loss: 0.4852 - accuracy: 0.7609 - val_loss: 0.5671 - val_accuracy: 0.7258\n",
      "Epoch 142/150\n",
      "56/56 [==============================] - 0s 3ms/step - loss: 0.4999 - accuracy: 0.7591 - val_loss: 0.5475 - val_accuracy: 0.7581\n",
      "Epoch 143/150\n",
      "56/56 [==============================] - 0s 3ms/step - loss: 0.4980 - accuracy: 0.7536 - val_loss: 0.5653 - val_accuracy: 0.7581\n",
      "Epoch 144/150\n",
      "56/56 [==============================] - 0s 3ms/step - loss: 0.4880 - accuracy: 0.7536 - val_loss: 0.5459 - val_accuracy: 0.7419\n",
      "Epoch 145/150\n",
      "56/56 [==============================] - 0s 3ms/step - loss: 0.4921 - accuracy: 0.7554 - val_loss: 0.5759 - val_accuracy: 0.7258\n",
      "Epoch 146/150\n",
      "56/56 [==============================] - 0s 3ms/step - loss: 0.4882 - accuracy: 0.7536 - val_loss: 0.6456 - val_accuracy: 0.6774\n",
      "Epoch 147/150\n",
      "56/56 [==============================] - 0s 3ms/step - loss: 0.4936 - accuracy: 0.7663 - val_loss: 0.5525 - val_accuracy: 0.7581\n",
      "Epoch 148/150\n",
      "56/56 [==============================] - 0s 3ms/step - loss: 0.4803 - accuracy: 0.7554 - val_loss: 0.5800 - val_accuracy: 0.7419\n",
      "Epoch 149/150\n",
      "56/56 [==============================] - 0s 3ms/step - loss: 0.4895 - accuracy: 0.7409 - val_loss: 0.5598 - val_accuracy: 0.7258\n",
      "Epoch 150/150\n",
      "56/56 [==============================] - 0s 3ms/step - loss: 0.4799 - accuracy: 0.7663 - val_loss: 0.5829 - val_accuracy: 0.7419\n"
     ]
    },
    {
     "data": {
      "text/plain": [
       "<keras.callbacks.History at 0x7f9e65a3e790>"
      ]
     },
     "execution_count": 29,
     "metadata": {},
     "output_type": "execute_result"
    }
   ],
   "source": [
    "model = Sequential()\n",
    "model.add(Dense(12, input_dim=8, kernel_initializer= 'uniform' , activation= 'relu' ))\n",
    "model.add(Dense(8, kernel_initializer= 'uniform' , activation= 'relu' ))\n",
    "model.add(Dense(1, kernel_initializer= 'uniform' , activation= 'sigmoid' ))\n",
    "# Compile model\n",
    "model.compile(loss= 'binary_crossentropy' , optimizer= 'adam' , metrics=[ 'accuracy' ])\n",
    "# Fit the model - with validation split\n",
    "model.fit(X_train, y_train, validation_split=0.1, epochs=150, batch_size=10)"
   ]
  },
  {
   "cell_type": "code",
   "execution_count": 30,
   "metadata": {
    "scrolled": true
   },
   "outputs": [
    {
     "data": {
      "text/plain": [
       "array([[0.0425005 ],\n",
       "       [0.62972367],\n",
       "       [0.06301394],\n",
       "       [0.18379906],\n",
       "       [0.3346761 ],\n",
       "       [0.545433  ],\n",
       "       [0.06625932],\n",
       "       [0.49742988],\n",
       "       [0.6912948 ],\n",
       "       [0.2514456 ],\n",
       "       [0.7346288 ],\n",
       "       [0.01528293],\n",
       "       [0.4589619 ],\n",
       "       [0.8243148 ],\n",
       "       [0.21507064],\n",
       "       [0.2264831 ],\n",
       "       [0.10339203],\n",
       "       [0.22606832],\n",
       "       [0.12882113],\n",
       "       [0.18069318],\n",
       "       [0.2764929 ],\n",
       "       [0.16026068],\n",
       "       [0.7852293 ],\n",
       "       [0.30811626],\n",
       "       [0.10103565],\n",
       "       [0.1611866 ],\n",
       "       [0.13093615],\n",
       "       [0.40695342],\n",
       "       [0.41869116],\n",
       "       [0.26310003],\n",
       "       [0.37442014],\n",
       "       [0.15987965],\n",
       "       [0.21901059],\n",
       "       [0.4296844 ],\n",
       "       [0.00934619],\n",
       "       [0.33667582],\n",
       "       [0.41277793],\n",
       "       [0.1403152 ],\n",
       "       [0.68877816],\n",
       "       [0.52105814],\n",
       "       [0.60537034],\n",
       "       [0.672892  ],\n",
       "       [0.24254292],\n",
       "       [0.07476613],\n",
       "       [0.3727173 ],\n",
       "       [0.18976763],\n",
       "       [0.320742  ],\n",
       "       [0.2174018 ],\n",
       "       [0.35529655],\n",
       "       [0.8109197 ],\n",
       "       [0.43190834],\n",
       "       [0.262489  ],\n",
       "       [0.37417895],\n",
       "       [0.02418891],\n",
       "       [0.46649906],\n",
       "       [0.16230601],\n",
       "       [0.14848402],\n",
       "       [0.08236358],\n",
       "       [0.09522527],\n",
       "       [0.34340096],\n",
       "       [0.08574486],\n",
       "       [0.6755378 ],\n",
       "       [0.05743995],\n",
       "       [0.5461473 ],\n",
       "       [0.2275697 ],\n",
       "       [0.42031392],\n",
       "       [0.07179102],\n",
       "       [0.49690166],\n",
       "       [0.62141794],\n",
       "       [0.5462243 ],\n",
       "       [0.5773645 ],\n",
       "       [0.6919303 ],\n",
       "       [0.16842774],\n",
       "       [0.21351287],\n",
       "       [0.21663514],\n",
       "       [0.16455749],\n",
       "       [0.3619256 ],\n",
       "       [0.16527951],\n",
       "       [0.08900979],\n",
       "       [0.12431976],\n",
       "       [0.09226125],\n",
       "       [0.4677859 ],\n",
       "       [0.34776688],\n",
       "       [0.10457373],\n",
       "       [0.34939435],\n",
       "       [0.14231005],\n",
       "       [0.673857  ],\n",
       "       [0.02660674],\n",
       "       [0.56506866],\n",
       "       [0.2829374 ],\n",
       "       [0.6481881 ],\n",
       "       [0.15258753],\n",
       "       [0.51098025],\n",
       "       [0.6533804 ],\n",
       "       [0.35889757],\n",
       "       [0.46800882],\n",
       "       [0.14665881],\n",
       "       [0.03168112],\n",
       "       [0.41472062],\n",
       "       [0.08191562],\n",
       "       [0.418476  ],\n",
       "       [0.2590946 ],\n",
       "       [0.12323257],\n",
       "       [0.06579241],\n",
       "       [0.22244063],\n",
       "       [0.22287858],\n",
       "       [0.10821301],\n",
       "       [0.47690526],\n",
       "       [0.17020115],\n",
       "       [0.6883924 ],\n",
       "       [0.04264796],\n",
       "       [0.8196285 ],\n",
       "       [0.15682814],\n",
       "       [0.04243141],\n",
       "       [0.5474893 ],\n",
       "       [0.47430968],\n",
       "       [0.23737064],\n",
       "       [0.16357371],\n",
       "       [0.5609628 ],\n",
       "       [0.36151674],\n",
       "       [0.21701536],\n",
       "       [0.07934284],\n",
       "       [0.2237078 ],\n",
       "       [0.13316485],\n",
       "       [0.04628685],\n",
       "       [0.5686889 ],\n",
       "       [0.01294595],\n",
       "       [0.43765467],\n",
       "       [0.3256845 ],\n",
       "       [0.3289482 ],\n",
       "       [0.11847138],\n",
       "       [0.6323682 ],\n",
       "       [0.06562027],\n",
       "       [0.15240687],\n",
       "       [0.15859148],\n",
       "       [0.1229504 ],\n",
       "       [0.01060516],\n",
       "       [0.36614865],\n",
       "       [0.06759024],\n",
       "       [0.6396164 ],\n",
       "       [0.22116148],\n",
       "       [0.45662943],\n",
       "       [0.3830667 ],\n",
       "       [0.45783865],\n",
       "       [0.24716967],\n",
       "       [0.11701933],\n",
       "       [0.343423  ],\n",
       "       [0.01830161],\n",
       "       [0.8407631 ],\n",
       "       [0.28038573],\n",
       "       [0.04568642],\n",
       "       [0.17153662],\n",
       "       [0.16524655],\n",
       "       [0.1554158 ]], dtype=float32)"
      ]
     },
     "execution_count": 30,
     "metadata": {},
     "output_type": "execute_result"
    }
   ],
   "source": [
    "# On test test\n",
    "prediction =  model.predict(X_test)\n",
    "prediction"
   ]
  },
  {
   "cell_type": "code",
   "execution_count": 31,
   "metadata": {},
   "outputs": [],
   "source": [
    "import numpy as np\n",
    "threshold = 0.5\n",
    "prediction = np.where(prediction > threshold, 1,0)"
   ]
  },
  {
   "cell_type": "code",
   "execution_count": 32,
   "metadata": {},
   "outputs": [
    {
     "data": {
      "text/plain": [
       "array([[0],\n",
       "       [1],\n",
       "       [0],\n",
       "       [0],\n",
       "       [0],\n",
       "       [1],\n",
       "       [0],\n",
       "       [0],\n",
       "       [1],\n",
       "       [0]])"
      ]
     },
     "execution_count": 32,
     "metadata": {},
     "output_type": "execute_result"
    }
   ],
   "source": [
    "prediction[:10]"
   ]
  },
  {
   "cell_type": "code",
   "execution_count": 33,
   "metadata": {},
   "outputs": [],
   "source": [
    "from sklearn.metrics import classification_report as cr"
   ]
  },
  {
   "cell_type": "code",
   "execution_count": 36,
   "metadata": {},
   "outputs": [
    {
     "name": "stdout",
     "output_type": "stream",
     "text": [
      "              precision    recall  f1-score   support\n",
      "\n",
      "         0.0       0.75      0.96      0.84        97\n",
      "         1.0       0.87      0.46      0.60        57\n",
      "\n",
      "    accuracy                           0.77       154\n",
      "   macro avg       0.81      0.71      0.72       154\n",
      "weighted avg       0.79      0.77      0.75       154\n",
      "\n"
     ]
    }
   ],
   "source": [
    "report = cr(y_true=y_test, y_pred=prediction, zero_division=1)\n",
    "print(report)"
   ]
  },
  {
   "cell_type": "code",
   "execution_count": 39,
   "metadata": {},
   "outputs": [
    {
     "name": "stdout",
     "output_type": "stream",
     "text": [
      "500\n",
      "268\n"
     ]
    }
   ],
   "source": [
    "zero = 0\n",
    "one = 0\n",
    "for i in Y:\n",
    "    if i==0:\n",
    "        zero = zero + 1\n",
    "    else:\n",
    "        one = one + 1\n",
    "print(zero)\n",
    "print(one)"
   ]
  },
  {
   "cell_type": "code",
   "execution_count": 34,
   "metadata": {},
   "outputs": [],
   "source": [
    "from sklearn.metrics import accuracy_score"
   ]
  },
  {
   "cell_type": "code",
   "execution_count": 35,
   "metadata": {},
   "outputs": [
    {
     "data": {
      "text/plain": [
       "0.7727272727272727"
      ]
     },
     "execution_count": 35,
     "metadata": {},
     "output_type": "execute_result"
    }
   ],
   "source": [
    "acc_score = accuracy_score(y_true=y_test, y_pred=prediction)\n",
    "acc_score"
   ]
  },
  {
   "cell_type": "markdown",
   "metadata": {},
   "source": [
    "#### K-Fold Cross Validation"
   ]
  },
  {
   "cell_type": "code",
   "execution_count": 15,
   "metadata": {},
   "outputs": [],
   "source": [
    "from sklearn.model_selection import StratifiedKFold"
   ]
  },
  {
   "cell_type": "code",
   "execution_count": 16,
   "metadata": {},
   "outputs": [],
   "source": [
    "# define 10-fold cross validation test harness\n",
    "kfold = StratifiedKFold(n_splits=10, shuffle=True, random_state=seed)"
   ]
  },
  {
   "cell_type": "code",
   "execution_count": 17,
   "metadata": {},
   "outputs": [
    {
     "name": "stdout",
     "output_type": "stream",
     "text": [
      "10\n"
     ]
    }
   ],
   "source": [
    "print(kfold.n_splits)"
   ]
  },
  {
   "cell_type": "code",
   "execution_count": 18,
   "metadata": {},
   "outputs": [
    {
     "name": "stdout",
     "output_type": "stream",
     "text": [
      "[  0   1   2   5   6   7   8   9  10  11  12  13  14  15  16  17  19  20\n",
      "  21  22  23  24  26  27  28  29  31  32  33  34  35  36  37  38  39  40\n",
      "  41  42  43  44  45  46  47  48  49  50  51  52  53  54  55  56  57  58\n",
      "  59  60  61  62  65  67  68  69  70  71  72  73  74  75  76  77  78  79\n",
      "  80  81  83  84  85  86  87  88  89  90  91  92  93  94  95  96  97  98\n",
      "  99 100 101 102 103 104 105 106 107 108 109 110 111 112 113 114 115 116\n",
      " 117 118 119 120 121 122 123 125 126 127 128 129 130 131 132 133 134 135\n",
      " 136 137 138 139 140 141 142 143 144 145 146 147 148 149 150 151 152 153\n",
      " 154 155 156 157 158 159 160 161 162 163 164 165 166 167 168 169 170 171\n",
      " 172 173 174 175 176 177 179 180 182 183 184 186 187 188 189 190 191 193\n",
      " 194 195 196 197 198 199 200 201 203 204 205 206 207 208 209 210 211 213\n",
      " 214 215 216 217 218 220 222 223 224 225 226 228 229 230 231 232 233 234\n",
      " 235 236 238 239 240 241 242 243 244 245 246 247 248 249 250 251 252 253\n",
      " 254 255 256 258 259 260 261 262 263 264 265 266 267 269 270 271 272 273\n",
      " 274 275 276 277 278 279 280 281 282 283 284 285 286 288 289 290 291 292\n",
      " 293 295 296 297 298 299 300 301 302 303 304 305 306 308 309 310 311 312\n",
      " 313 314 315 316 317 318 319 320 321 322 323 324 325 326 327 328 329 330\n",
      " 331 332 333 336 337 338 339 340 341 342 343 344 345 348 349 350 351 352\n",
      " 353 354 355 356 357 358 361 362 363 366 367 368 369 370 371 374 375 376\n",
      " 378 379 380 381 382 383 385 386 388 389 390 391 392 393 394 395 396 397\n",
      " 398 399 400 401 402 403 404 405 406 407 408 409 411 413 414 415 416 417\n",
      " 418 419 420 422 424 425 426 427 429 430 431 432 433 434 435 436 437 438\n",
      " 439 440 441 442 443 444 446 448 449 450 451 452 453 455 456 457 458 459\n",
      " 460 461 462 463 464 465 466 467 468 469 470 471 472 473 474 475 476 477\n",
      " 478 480 481 482 483 484 486 487 488 489 490 491 492 494 495 496 497 498\n",
      " 499 500 501 502 503 506 507 509 511 513 514 515 516 517 518 519 520 521\n",
      " 522 523 524 525 527 528 529 530 531 532 533 534 535 537 538 539 540 541\n",
      " 542 543 544 545 546 547 548 549 550 552 553 554 555 556 557 558 559 560\n",
      " 561 562 563 564 565 567 568 569 570 571 572 574 575 576 577 578 579 580\n",
      " 581 582 583 584 585 586 587 588 589 590 591 592 593 594 595 596 597 598\n",
      " 600 601 602 603 604 605 606 607 608 609 610 612 613 614 615 616 617 618\n",
      " 619 620 621 622 623 624 625 626 627 628 629 630 631 632 633 634 635 636\n",
      " 637 638 639 640 641 642 643 644 645 646 648 649 650 651 652 653 655 656\n",
      " 657 658 659 660 661 662 663 666 667 669 670 671 672 673 674 675 676 677\n",
      " 678 680 681 682 683 684 685 686 688 689 690 691 692 693 694 695 696 697\n",
      " 698 699 700 701 702 703 704 705 706 707 708 711 713 714 715 716 717 718\n",
      " 720 721 722 723 724 725 726 727 728 729 730 731 732 733 734 735 736 738\n",
      " 739 740 741 742 743 745 746 747 748 749 751 752 753 754 755 756 757 758\n",
      " 760 761 762 763 764 766 767]\n",
      "[  3   4  18  25  30  63  64  66  82 124 178 181 185 192 202 212 219 221\n",
      " 227 237 257 268 287 294 307 334 335 346 347 359 360 364 365 372 373 377\n",
      " 384 387 410 412 421 423 428 445 447 454 479 485 493 504 505 508 510 512\n",
      " 526 536 551 566 573 599 611 647 654 664 665 668 679 687 709 710 712 719\n",
      " 737 744 750 759 765]\n"
     ]
    }
   ],
   "source": [
    "# kfold.split returns a generator object - that is why it is made to run in a loop\n",
    "for train, test in kfold.split(X, Y):\n",
    "    print(train)\n",
    "    print(test)\n",
    "    break"
   ]
  },
  {
   "cell_type": "markdown",
   "metadata": {},
   "source": [
    "- on each run/fold we need to redefine the model"
   ]
  },
  {
   "cell_type": "code",
   "execution_count": null,
   "metadata": {},
   "outputs": [],
   "source": []
  },
  {
   "cell_type": "code",
   "execution_count": 19,
   "metadata": {},
   "outputs": [
    {
     "name": "stdout",
     "output_type": "stream",
     "text": [
      "accuracy: 79.22%\n",
      "accuracy: 79.22%\n",
      "accuracy: 75.32%\n",
      "accuracy: 80.52%\n",
      "WARNING:tensorflow:5 out of the last 13 calls to <function Model.make_test_function.<locals>.test_function at 0x7f9e78185a60> triggered tf.function retracing. Tracing is expensive and the excessive number of tracings could be due to (1) creating @tf.function repeatedly in a loop, (2) passing tensors with different shapes, (3) passing Python objects instead of tensors. For (1), please define your @tf.function outside of the loop. For (2), @tf.function has experimental_relax_shapes=True option that relaxes argument shapes that can avoid unnecessary retracing. For (3), please refer to https://www.tensorflow.org/guide/function#controlling_retracing and https://www.tensorflow.org/api_docs/python/tf/function for  more details.\n",
      "accuracy: 68.83%\n",
      "WARNING:tensorflow:5 out of the last 13 calls to <function Model.make_test_function.<locals>.test_function at 0x7f9e786ab4c0> triggered tf.function retracing. Tracing is expensive and the excessive number of tracings could be due to (1) creating @tf.function repeatedly in a loop, (2) passing tensors with different shapes, (3) passing Python objects instead of tensors. For (1), please define your @tf.function outside of the loop. For (2), @tf.function has experimental_relax_shapes=True option that relaxes argument shapes that can avoid unnecessary retracing. For (3), please refer to https://www.tensorflow.org/guide/function#controlling_retracing and https://www.tensorflow.org/api_docs/python/tf/function for  more details.\n",
      "accuracy: 63.64%\n",
      "accuracy: 77.92%\n",
      "accuracy: 76.62%\n",
      "accuracy: 76.32%\n",
      "accuracy: 81.58%\n",
      "75.92% (+/- 5.30%)\n"
     ]
    }
   ],
   "source": [
    "cross_valid_scores = []\n",
    "for train, test in kfold.split(X, Y):\n",
    "    # create model\n",
    "    model = Sequential()\n",
    "    model.add(Dense(12, input_dim=8, kernel_initializer= 'uniform' , activation= 'relu' ))\n",
    "    model.add(Dense(8, kernel_initializer= 'uniform' , activation= 'relu' ))\n",
    "    model.add(Dense(1, kernel_initializer= 'uniform' , activation= 'sigmoid' ))\n",
    "    # Compile model\n",
    "    model.compile(loss= 'binary_crossentropy' , optimizer= 'adam' , metrics=[ 'accuracy' ])\n",
    "    # Fit the model\n",
    "    model.fit(X[train], Y[train], epochs=150, batch_size=10, verbose=0)\n",
    "    # evaluate the model\n",
    "    scores = model.evaluate(X[test], Y[test], verbose=0)\n",
    "    print(\"%s: %.2f%%\" % (model.metrics_names[1], scores[1]*100))\n",
    "    cross_valid_scores.append(scores[1] * 100)\n",
    "\n",
    "print(\"%.2f%% (+/- %.2f%%)\" % (numpy.mean(cross_valid_scores), numpy.std(cross_valid_scores)))"
   ]
  },
  {
   "cell_type": "markdown",
   "metadata": {},
   "source": [
    "### Multi-class Classification"
   ]
  },
  {
   "cell_type": "code",
   "execution_count": 40,
   "metadata": {},
   "outputs": [],
   "source": [
    "# Multiclass Classification with the Iris Flowers Dataset\n",
    "import pandas\n",
    "from keras.utils import np_utils\n",
    "from sklearn.preprocessing import LabelEncoder"
   ]
  },
  {
   "cell_type": "code",
   "execution_count": 41,
   "metadata": {},
   "outputs": [
    {
     "data": {
      "text/html": [
       "<div>\n",
       "<style scoped>\n",
       "    .dataframe tbody tr th:only-of-type {\n",
       "        vertical-align: middle;\n",
       "    }\n",
       "\n",
       "    .dataframe tbody tr th {\n",
       "        vertical-align: top;\n",
       "    }\n",
       "\n",
       "    .dataframe thead th {\n",
       "        text-align: right;\n",
       "    }\n",
       "</style>\n",
       "<table border=\"1\" class=\"dataframe\">\n",
       "  <thead>\n",
       "    <tr style=\"text-align: right;\">\n",
       "      <th></th>\n",
       "      <th>0</th>\n",
       "      <th>1</th>\n",
       "      <th>2</th>\n",
       "      <th>3</th>\n",
       "      <th>4</th>\n",
       "    </tr>\n",
       "  </thead>\n",
       "  <tbody>\n",
       "    <tr>\n",
       "      <th>0</th>\n",
       "      <td>5.1</td>\n",
       "      <td>3.5</td>\n",
       "      <td>1.4</td>\n",
       "      <td>0.2</td>\n",
       "      <td>Iris-setosa</td>\n",
       "    </tr>\n",
       "    <tr>\n",
       "      <th>1</th>\n",
       "      <td>4.9</td>\n",
       "      <td>3.0</td>\n",
       "      <td>1.4</td>\n",
       "      <td>0.2</td>\n",
       "      <td>Iris-setosa</td>\n",
       "    </tr>\n",
       "    <tr>\n",
       "      <th>2</th>\n",
       "      <td>4.7</td>\n",
       "      <td>3.2</td>\n",
       "      <td>1.3</td>\n",
       "      <td>0.2</td>\n",
       "      <td>Iris-setosa</td>\n",
       "    </tr>\n",
       "    <tr>\n",
       "      <th>3</th>\n",
       "      <td>4.6</td>\n",
       "      <td>3.1</td>\n",
       "      <td>1.5</td>\n",
       "      <td>0.2</td>\n",
       "      <td>Iris-setosa</td>\n",
       "    </tr>\n",
       "    <tr>\n",
       "      <th>4</th>\n",
       "      <td>5.0</td>\n",
       "      <td>3.6</td>\n",
       "      <td>1.4</td>\n",
       "      <td>0.2</td>\n",
       "      <td>Iris-setosa</td>\n",
       "    </tr>\n",
       "  </tbody>\n",
       "</table>\n",
       "</div>"
      ],
      "text/plain": [
       "     0    1    2    3            4\n",
       "0  5.1  3.5  1.4  0.2  Iris-setosa\n",
       "1  4.9  3.0  1.4  0.2  Iris-setosa\n",
       "2  4.7  3.2  1.3  0.2  Iris-setosa\n",
       "3  4.6  3.1  1.5  0.2  Iris-setosa\n",
       "4  5.0  3.6  1.4  0.2  Iris-setosa"
      ]
     },
     "execution_count": 41,
     "metadata": {},
     "output_type": "execute_result"
    }
   ],
   "source": [
    "# load dataset\n",
    "dataframe = pandas.read_csv(\"iris.csv\", header=None)\n",
    "dataframe.head(5)"
   ]
  },
  {
   "cell_type": "code",
   "execution_count": 42,
   "metadata": {},
   "outputs": [],
   "source": [
    "dataset = dataframe.values\n",
    "X = dataset[:,0:4].astype(float)\n",
    "Y = dataset[:,4]"
   ]
  },
  {
   "cell_type": "code",
   "execution_count": 45,
   "metadata": {},
   "outputs": [],
   "source": [
    "# encode class values as integers\n",
    "encoder = LabelEncoder()\n",
    "encoder.fit(Y)\n",
    "encoded_Y = encoder.transform(Y)\n",
    "# convert integers to dummy variables (i.e. one hot encoded)\n",
    "dummy_y = np_utils.to_categorical(encoded_Y)"
   ]
  },
  {
   "cell_type": "code",
   "execution_count": 46,
   "metadata": {
    "scrolled": false
   },
   "outputs": [
    {
     "data": {
      "text/plain": [
       "array([[1., 0., 0.],\n",
       "       [1., 0., 0.],\n",
       "       [1., 0., 0.]], dtype=float32)"
      ]
     },
     "execution_count": 46,
     "metadata": {},
     "output_type": "execute_result"
    }
   ],
   "source": [
    "dummy_y[:3]"
   ]
  },
  {
   "cell_type": "markdown",
   "metadata": {},
   "source": [
    "----------\n",
    "- Because we used a one-hot encoding, the output layer must create 3 output values, one for each class.\n",
    "----------"
   ]
  },
  {
   "cell_type": "code",
   "execution_count": 47,
   "metadata": {},
   "outputs": [],
   "source": [
    "# create model\n",
    "model = Sequential()\n",
    "model.add(Dense(12, input_dim=4, kernel_initializer= 'uniform' , activation= 'relu' ))\n",
    "model.add(Dense(6, input_dim=4, kernel_initializer= 'uniform' , activation= 'relu' ))\n",
    "model.add(Dense(3, kernel_initializer= 'uniform' , activation= 'softmax' ))\n",
    "# Compile model\n",
    "model.compile(loss= 'categorical_crossentropy' , optimizer= 'adam' , metrics=[ 'accuracy' ])"
   ]
  },
  {
   "cell_type": "code",
   "execution_count": 48,
   "metadata": {
    "scrolled": false
   },
   "outputs": [
    {
     "name": "stdout",
     "output_type": "stream",
     "text": [
      "Epoch 1/75\n",
      "14/14 [==============================] - 1s 18ms/step - loss: 1.0982 - accuracy: 0.3704 - val_loss: 1.1082 - val_accuracy: 0.0000e+00\n",
      "Epoch 2/75\n",
      "14/14 [==============================] - 0s 7ms/step - loss: 1.0965 - accuracy: 0.3704 - val_loss: 1.1144 - val_accuracy: 0.0000e+00\n",
      "Epoch 3/75\n",
      "14/14 [==============================] - 0s 5ms/step - loss: 1.0945 - accuracy: 0.3704 - val_loss: 1.1217 - val_accuracy: 0.0000e+00\n",
      "Epoch 4/75\n",
      "14/14 [==============================] - 0s 5ms/step - loss: 1.0901 - accuracy: 0.3704 - val_loss: 1.1259 - val_accuracy: 0.0000e+00\n",
      "Epoch 5/75\n",
      "14/14 [==============================] - 0s 5ms/step - loss: 1.0823 - accuracy: 0.3704 - val_loss: 1.1324 - val_accuracy: 0.0000e+00\n",
      "Epoch 6/75\n",
      "14/14 [==============================] - 0s 5ms/step - loss: 1.0700 - accuracy: 0.3704 - val_loss: 1.1394 - val_accuracy: 0.0000e+00\n",
      "Epoch 7/75\n",
      "14/14 [==============================] - 0s 5ms/step - loss: 1.0495 - accuracy: 0.3926 - val_loss: 1.1443 - val_accuracy: 0.0000e+00\n",
      "Epoch 8/75\n",
      "14/14 [==============================] - 0s 5ms/step - loss: 1.0215 - accuracy: 0.4074 - val_loss: 1.1455 - val_accuracy: 0.0000e+00\n",
      "Epoch 9/75\n",
      "14/14 [==============================] - 0s 5ms/step - loss: 0.9852 - accuracy: 0.4444 - val_loss: 1.1363 - val_accuracy: 0.0000e+00\n",
      "Epoch 10/75\n",
      "14/14 [==============================] - 0s 5ms/step - loss: 0.9394 - accuracy: 0.5185 - val_loss: 1.1253 - val_accuracy: 0.0000e+00\n",
      "Epoch 11/75\n",
      "14/14 [==============================] - 0s 5ms/step - loss: 0.8878 - accuracy: 0.5704 - val_loss: 1.1051 - val_accuracy: 0.0000e+00\n",
      "Epoch 12/75\n",
      "14/14 [==============================] - 0s 5ms/step - loss: 0.8375 - accuracy: 0.5630 - val_loss: 1.0750 - val_accuracy: 0.0000e+00\n",
      "Epoch 13/75\n",
      "14/14 [==============================] - 0s 5ms/step - loss: 0.7829 - accuracy: 0.6963 - val_loss: 1.0409 - val_accuracy: 0.0000e+00\n",
      "Epoch 14/75\n",
      "14/14 [==============================] - 0s 6ms/step - loss: 0.7360 - accuracy: 0.7037 - val_loss: 1.0004 - val_accuracy: 0.0000e+00\n",
      "Epoch 15/75\n",
      "14/14 [==============================] - 0s 6ms/step - loss: 0.6940 - accuracy: 0.8370 - val_loss: 0.9508 - val_accuracy: 0.8667\n",
      "Epoch 16/75\n",
      "14/14 [==============================] - 0s 6ms/step - loss: 0.6574 - accuracy: 0.9333 - val_loss: 0.9049 - val_accuracy: 1.0000\n",
      "Epoch 17/75\n",
      "14/14 [==============================] - 0s 6ms/step - loss: 0.6241 - accuracy: 0.8296 - val_loss: 0.8511 - val_accuracy: 1.0000\n",
      "Epoch 18/75\n",
      "14/14 [==============================] - 0s 5ms/step - loss: 0.5937 - accuracy: 0.7852 - val_loss: 0.8242 - val_accuracy: 1.0000\n",
      "Epoch 19/75\n",
      "14/14 [==============================] - 0s 5ms/step - loss: 0.5681 - accuracy: 0.7778 - val_loss: 0.7899 - val_accuracy: 1.0000\n",
      "Epoch 20/75\n",
      "14/14 [==============================] - 0s 5ms/step - loss: 0.5457 - accuracy: 0.8148 - val_loss: 0.7692 - val_accuracy: 1.0000\n",
      "Epoch 21/75\n",
      "14/14 [==============================] - 0s 6ms/step - loss: 0.5264 - accuracy: 0.8296 - val_loss: 0.7490 - val_accuracy: 1.0000\n",
      "Epoch 22/75\n",
      "14/14 [==============================] - 0s 5ms/step - loss: 0.5110 - accuracy: 0.8815 - val_loss: 0.7395 - val_accuracy: 1.0000\n",
      "Epoch 23/75\n",
      "14/14 [==============================] - 0s 5ms/step - loss: 0.4975 - accuracy: 0.8741 - val_loss: 0.7230 - val_accuracy: 1.0000\n",
      "Epoch 24/75\n",
      "14/14 [==============================] - 0s 6ms/step - loss: 0.4865 - accuracy: 0.9259 - val_loss: 0.7290 - val_accuracy: 0.8000\n",
      "Epoch 25/75\n",
      "14/14 [==============================] - 0s 6ms/step - loss: 0.4777 - accuracy: 0.9259 - val_loss: 0.7255 - val_accuracy: 0.6000\n",
      "Epoch 26/75\n",
      "14/14 [==============================] - 0s 5ms/step - loss: 0.4708 - accuracy: 0.9259 - val_loss: 0.7159 - val_accuracy: 0.7333\n",
      "Epoch 27/75\n",
      "14/14 [==============================] - 0s 7ms/step - loss: 0.4644 - accuracy: 0.9111 - val_loss: 0.7232 - val_accuracy: 0.2667\n",
      "Epoch 28/75\n",
      "14/14 [==============================] - 0s 7ms/step - loss: 0.4598 - accuracy: 0.7630 - val_loss: 0.7461 - val_accuracy: 0.0000e+00\n",
      "Epoch 29/75\n",
      "14/14 [==============================] - 0s 8ms/step - loss: 0.4548 - accuracy: 0.7407 - val_loss: 0.7368 - val_accuracy: 0.0000e+00\n",
      "Epoch 30/75\n",
      "14/14 [==============================] - 0s 7ms/step - loss: 0.4511 - accuracy: 0.7407 - val_loss: 0.7399 - val_accuracy: 0.0000e+00\n",
      "Epoch 31/75\n",
      "14/14 [==============================] - 0s 5ms/step - loss: 0.4479 - accuracy: 0.7407 - val_loss: 0.7345 - val_accuracy: 0.0000e+00\n",
      "Epoch 32/75\n",
      "14/14 [==============================] - 0s 5ms/step - loss: 0.4450 - accuracy: 0.7481 - val_loss: 0.7343 - val_accuracy: 0.0000e+00\n",
      "Epoch 33/75\n",
      "14/14 [==============================] - 0s 5ms/step - loss: 0.4425 - accuracy: 0.7481 - val_loss: 0.7291 - val_accuracy: 0.0000e+00\n",
      "Epoch 34/75\n",
      "14/14 [==============================] - 0s 5ms/step - loss: 0.4406 - accuracy: 0.7407 - val_loss: 0.7420 - val_accuracy: 0.0000e+00\n",
      "Epoch 35/75\n",
      "14/14 [==============================] - 0s 6ms/step - loss: 0.4373 - accuracy: 0.7556 - val_loss: 0.7230 - val_accuracy: 0.0000e+00\n",
      "Epoch 36/75\n",
      "14/14 [==============================] - 0s 6ms/step - loss: 0.4332 - accuracy: 0.7852 - val_loss: 0.7101 - val_accuracy: 0.2000\n",
      "Epoch 37/75\n",
      "14/14 [==============================] - 0s 5ms/step - loss: 0.4258 - accuracy: 0.7630 - val_loss: 0.7192 - val_accuracy: 0.0667\n",
      "Epoch 38/75\n",
      "14/14 [==============================] - 0s 6ms/step - loss: 0.4118 - accuracy: 0.8074 - val_loss: 0.7167 - val_accuracy: 0.3333\n",
      "Epoch 39/75\n",
      "14/14 [==============================] - 0s 6ms/step - loss: 0.3984 - accuracy: 0.8815 - val_loss: 0.7011 - val_accuracy: 0.4667\n",
      "Epoch 40/75\n",
      "14/14 [==============================] - 0s 5ms/step - loss: 0.3858 - accuracy: 0.8815 - val_loss: 0.7082 - val_accuracy: 0.4000\n",
      "Epoch 41/75\n",
      "14/14 [==============================] - 0s 5ms/step - loss: 0.3746 - accuracy: 0.8667 - val_loss: 0.6905 - val_accuracy: 0.6000\n",
      "Epoch 42/75\n",
      "14/14 [==============================] - 0s 5ms/step - loss: 0.3643 - accuracy: 0.9111 - val_loss: 0.6638 - val_accuracy: 0.6000\n",
      "Epoch 43/75\n",
      "14/14 [==============================] - 0s 6ms/step - loss: 0.3542 - accuracy: 0.8963 - val_loss: 0.6795 - val_accuracy: 0.6000\n",
      "Epoch 44/75\n",
      "14/14 [==============================] - 0s 6ms/step - loss: 0.3425 - accuracy: 0.9407 - val_loss: 0.6313 - val_accuracy: 0.8000\n",
      "Epoch 45/75\n",
      "14/14 [==============================] - 0s 7ms/step - loss: 0.3312 - accuracy: 0.9481 - val_loss: 0.6183 - val_accuracy: 0.8667\n",
      "Epoch 46/75\n",
      "14/14 [==============================] - 0s 6ms/step - loss: 0.3214 - accuracy: 0.9407 - val_loss: 0.6371 - val_accuracy: 0.6000\n",
      "Epoch 47/75\n",
      "14/14 [==============================] - 0s 6ms/step - loss: 0.3075 - accuracy: 0.9481 - val_loss: 0.5234 - val_accuracy: 0.9333\n",
      "Epoch 48/75\n",
      "14/14 [==============================] - 0s 6ms/step - loss: 0.2908 - accuracy: 0.9407 - val_loss: 0.5754 - val_accuracy: 0.8667\n",
      "Epoch 49/75\n",
      "14/14 [==============================] - 0s 5ms/step - loss: 0.2716 - accuracy: 0.9630 - val_loss: 0.4442 - val_accuracy: 0.9333\n",
      "Epoch 50/75\n",
      "14/14 [==============================] - 0s 4ms/step - loss: 0.2599 - accuracy: 0.9481 - val_loss: 0.5478 - val_accuracy: 0.8667\n",
      "Epoch 51/75\n",
      "14/14 [==============================] - 0s 5ms/step - loss: 0.2460 - accuracy: 0.9556 - val_loss: 0.4561 - val_accuracy: 0.9333\n",
      "Epoch 52/75\n",
      "14/14 [==============================] - 0s 5ms/step - loss: 0.2386 - accuracy: 0.9556 - val_loss: 0.4415 - val_accuracy: 0.9333\n",
      "Epoch 53/75\n",
      "14/14 [==============================] - 0s 5ms/step - loss: 0.2221 - accuracy: 0.9481 - val_loss: 0.4298 - val_accuracy: 0.9333\n",
      "Epoch 54/75\n",
      "14/14 [==============================] - 0s 5ms/step - loss: 0.2128 - accuracy: 0.9704 - val_loss: 0.3421 - val_accuracy: 1.0000\n",
      "Epoch 55/75\n",
      "14/14 [==============================] - 0s 5ms/step - loss: 0.2040 - accuracy: 0.9556 - val_loss: 0.4125 - val_accuracy: 0.9333\n",
      "Epoch 56/75\n",
      "14/14 [==============================] - 0s 5ms/step - loss: 0.1976 - accuracy: 0.9630 - val_loss: 0.3443 - val_accuracy: 0.9333\n",
      "Epoch 57/75\n",
      "14/14 [==============================] - 0s 5ms/step - loss: 0.1890 - accuracy: 0.9556 - val_loss: 0.3822 - val_accuracy: 0.9333\n",
      "Epoch 58/75\n"
     ]
    },
    {
     "name": "stdout",
     "output_type": "stream",
     "text": [
      "14/14 [==============================] - 0s 5ms/step - loss: 0.1812 - accuracy: 0.9704 - val_loss: 0.2950 - val_accuracy: 1.0000\n",
      "Epoch 59/75\n",
      "14/14 [==============================] - 0s 5ms/step - loss: 0.1778 - accuracy: 0.9481 - val_loss: 0.3803 - val_accuracy: 0.9333\n",
      "Epoch 60/75\n",
      "14/14 [==============================] - 0s 5ms/step - loss: 0.1699 - accuracy: 0.9704 - val_loss: 0.2669 - val_accuracy: 1.0000\n",
      "Epoch 61/75\n",
      "14/14 [==============================] - 0s 4ms/step - loss: 0.1641 - accuracy: 0.9704 - val_loss: 0.3354 - val_accuracy: 0.9333\n",
      "Epoch 62/75\n",
      "14/14 [==============================] - 0s 5ms/step - loss: 0.1601 - accuracy: 0.9481 - val_loss: 0.3237 - val_accuracy: 0.9333\n",
      "Epoch 63/75\n",
      "14/14 [==============================] - 0s 5ms/step - loss: 0.1526 - accuracy: 0.9630 - val_loss: 0.2567 - val_accuracy: 1.0000\n",
      "Epoch 64/75\n",
      "14/14 [==============================] - 0s 5ms/step - loss: 0.1481 - accuracy: 0.9704 - val_loss: 0.2570 - val_accuracy: 0.9333\n",
      "Epoch 65/75\n",
      "14/14 [==============================] - 0s 5ms/step - loss: 0.1437 - accuracy: 0.9704 - val_loss: 0.2885 - val_accuracy: 0.9333\n",
      "Epoch 66/75\n",
      "14/14 [==============================] - 0s 5ms/step - loss: 0.1424 - accuracy: 0.9630 - val_loss: 0.2400 - val_accuracy: 0.9333\n",
      "Epoch 67/75\n",
      "14/14 [==============================] - 0s 5ms/step - loss: 0.1402 - accuracy: 0.9630 - val_loss: 0.2642 - val_accuracy: 0.9333\n",
      "Epoch 68/75\n",
      "14/14 [==============================] - 0s 6ms/step - loss: 0.1373 - accuracy: 0.9778 - val_loss: 0.2036 - val_accuracy: 1.0000\n",
      "Epoch 69/75\n",
      "14/14 [==============================] - 0s 5ms/step - loss: 0.1290 - accuracy: 0.9704 - val_loss: 0.2589 - val_accuracy: 0.9333\n",
      "Epoch 70/75\n",
      "14/14 [==============================] - 0s 5ms/step - loss: 0.1279 - accuracy: 0.9630 - val_loss: 0.1996 - val_accuracy: 1.0000\n",
      "Epoch 71/75\n",
      "14/14 [==============================] - 0s 5ms/step - loss: 0.1243 - accuracy: 0.9704 - val_loss: 0.2126 - val_accuracy: 0.9333\n",
      "Epoch 72/75\n",
      "14/14 [==============================] - 0s 5ms/step - loss: 0.1219 - accuracy: 0.9778 - val_loss: 0.2204 - val_accuracy: 0.9333\n",
      "Epoch 73/75\n",
      "14/14 [==============================] - 0s 7ms/step - loss: 0.1186 - accuracy: 0.9704 - val_loss: 0.1934 - val_accuracy: 1.0000\n",
      "Epoch 74/75\n",
      "14/14 [==============================] - 0s 6ms/step - loss: 0.1210 - accuracy: 0.9704 - val_loss: 0.1720 - val_accuracy: 1.0000\n",
      "Epoch 75/75\n",
      "14/14 [==============================] - 0s 6ms/step - loss: 0.1151 - accuracy: 0.9704 - val_loss: 0.2382 - val_accuracy: 0.9333\n"
     ]
    }
   ],
   "source": [
    "history = model.fit(X, dummy_y, epochs=75, batch_size=10, validation_split=0.1, shuffle=True).history"
   ]
  },
  {
   "cell_type": "code",
   "execution_count": 49,
   "metadata": {},
   "outputs": [
    {
     "data": {
      "text/plain": [
       "dict_keys(['loss', 'accuracy', 'val_loss', 'val_accuracy'])"
      ]
     },
     "execution_count": 49,
     "metadata": {},
     "output_type": "execute_result"
    }
   ],
   "source": [
    "# history is a dictionary\n",
    "history.keys()"
   ]
  },
  {
   "cell_type": "code",
   "execution_count": 50,
   "metadata": {},
   "outputs": [
    {
     "data": {
      "text/plain": [
       "[0.37037035822868347,\n",
       " 0.37037035822868347,\n",
       " 0.37037035822868347,\n",
       " 0.37037035822868347,\n",
       " 0.37037035822868347,\n",
       " 0.37037035822868347,\n",
       " 0.39259257912635803,\n",
       " 0.40740740299224854,\n",
       " 0.4444444477558136,\n",
       " 0.5185185074806213,\n",
       " 0.5703703761100769,\n",
       " 0.5629629492759705,\n",
       " 0.6962962746620178,\n",
       " 0.7037037014961243,\n",
       " 0.8370370268821716,\n",
       " 0.9333333373069763,\n",
       " 0.8296296000480652,\n",
       " 0.7851851582527161,\n",
       " 0.7777777910232544,\n",
       " 0.8148148059844971,\n",
       " 0.8296296000480652,\n",
       " 0.8814814686775208,\n",
       " 0.8740741014480591,\n",
       " 0.9259259104728699,\n",
       " 0.9259259104728699,\n",
       " 0.9259259104728699,\n",
       " 0.9111111164093018,\n",
       " 0.7629629373550415,\n",
       " 0.7407407164573669,\n",
       " 0.7407407164573669,\n",
       " 0.7407407164573669,\n",
       " 0.7481481432914734,\n",
       " 0.7481481432914734,\n",
       " 0.7407407164573669,\n",
       " 0.7555555701255798,\n",
       " 0.7851851582527161,\n",
       " 0.7629629373550415,\n",
       " 0.8074073791503906,\n",
       " 0.8814814686775208,\n",
       " 0.8814814686775208,\n",
       " 0.8666666746139526,\n",
       " 0.9111111164093018,\n",
       " 0.8962963223457336,\n",
       " 0.9407407641410828,\n",
       " 0.9481481313705444,\n",
       " 0.9407407641410828,\n",
       " 0.9481481313705444,\n",
       " 0.9407407641410828,\n",
       " 0.9629629850387573,\n",
       " 0.9481481313705444,\n",
       " 0.9555555582046509,\n",
       " 0.9555555582046509,\n",
       " 0.9481481313705444,\n",
       " 0.970370352268219,\n",
       " 0.9555555582046509,\n",
       " 0.9629629850387573,\n",
       " 0.9555555582046509,\n",
       " 0.970370352268219,\n",
       " 0.9481481313705444,\n",
       " 0.970370352268219,\n",
       " 0.970370352268219,\n",
       " 0.9481481313705444,\n",
       " 0.9629629850387573,\n",
       " 0.970370352268219,\n",
       " 0.970370352268219,\n",
       " 0.9629629850387573,\n",
       " 0.9629629850387573,\n",
       " 0.9777777791023254,\n",
       " 0.970370352268219,\n",
       " 0.9629629850387573,\n",
       " 0.970370352268219,\n",
       " 0.9777777791023254,\n",
       " 0.970370352268219,\n",
       " 0.970370352268219,\n",
       " 0.970370352268219]"
      ]
     },
     "execution_count": 50,
     "metadata": {},
     "output_type": "execute_result"
    }
   ],
   "source": [
    "history['accuracy']"
   ]
  },
  {
   "cell_type": "markdown",
   "metadata": {},
   "source": [
    "#### Visualizing the Training"
   ]
  },
  {
   "cell_type": "code",
   "execution_count": null,
   "metadata": {},
   "outputs": [],
   "source": [
    "### Plotting history"
   ]
  },
  {
   "cell_type": "code",
   "execution_count": null,
   "metadata": {},
   "outputs": [],
   "source": [
    "# !python -m pip install plot-keras-history"
   ]
  },
  {
   "cell_type": "code",
   "execution_count": 51,
   "metadata": {},
   "outputs": [],
   "source": [
    "from plot_keras_history import plot_history\n",
    "import matplotlib.pyplot as plt"
   ]
  },
  {
   "cell_type": "code",
   "execution_count": 52,
   "metadata": {},
   "outputs": [
    {
     "data": {
      "text/plain": [
       "(<Figure size 720x360 with 2 Axes>,\n",
       " array([<AxesSubplot:title={'center':'Loss'}, xlabel='Epochs', ylabel='Loss'>,\n",
       "        <AxesSubplot:title={'center':'Accuracy'}, xlabel='Epochs', ylabel='Accuracy'>],\n",
       "       dtype=object))"
      ]
     },
     "execution_count": 52,
     "metadata": {},
     "output_type": "execute_result"
    },
    {
     "data": {
      "image/png": "[encoded data removed]",
      "text/plain": [
       "<Figure size 720x360 with 2 Axes>"
      ]
     },
     "metadata": {
      "needs_background": "light"
     },
     "output_type": "display_data"
    }
   ],
   "source": [
    "plot_history(history)"
   ]
  },
  {
   "cell_type": "code",
   "execution_count": null,
   "metadata": {},
   "outputs": [],
   "source": []
  },
  {
   "cell_type": "code",
   "execution_count": null,
   "metadata": {},
   "outputs": [],
   "source": []
  }
 ],
 "metadata": {
  "kernelspec": {
   "display_name": "Python 3 (ipykernel)",
   "language": "python",
   "name": "python3"
  },
  "language_info": {
   "codemirror_mode": {
    "name": "ipython",
    "version": 3
   },
   "file_extension": ".py",
   "mimetype": "text/x-python",
   "name": "python",
   "nbconvert_exporter": "python",
   "pygments_lexer": "ipython3",
   "version": "3.9.12"
  }
 },
 "nbformat": 4,
 "nbformat_minor": 2
}
