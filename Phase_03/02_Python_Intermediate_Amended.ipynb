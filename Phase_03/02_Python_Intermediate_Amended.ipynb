{
 "cells": [
  {
   "cell_type": "markdown",
   "id": "5a504245",
   "metadata": {},
   "source": [
    "# <center>Python Intermediate</center>"
   ]
  },
  {
   "cell_type": "markdown",
   "id": "c5013303",
   "metadata": {},
   "source": [
    "## Topics Covered"
   ]
  },
  {
   "cell_type": "markdown",
   "id": "f60da71f",
   "metadata": {},
   "source": [
    "1- List Comprehension\n",
    "\n",
    "2- Generators\n",
    "\n",
    "3- Lambda Expression\n",
    "\n",
    "4- Map & Filter\n",
    "\n",
    "5- Conditional (Ternary) Expression\n",
    "\n",
    "6-Object Oriented Python\n",
    " - Classes and Objects\n",
    " - Data Encapsulation, Hiding and Abstraction\n",
    " - Constructors: Default, Argument\n",
    " - Inheritence\n",
    " - Multi-level Inheritence\n",
    " - Multiple Inheritence\n",
    " - Polymorphism\n",
    " - Operator Overloading\n",
    " - Method Overloading\n",
    " - Method Overriding\n",
    "\n",
    "7- Tuple Unpacking\n",
    "\n",
    "8- Python, CPython and Cython\n",
    "\n",
    "9- PEP-8 Style Guide"
   ]
  },
  {
   "cell_type": "markdown",
   "id": "a23eaa7e",
   "metadata": {},
   "source": [
    "<h1 style=\"color:blue; text-align:center;\"\"> Lecture 7 </h1>\n",
    "<hr style=\"height:5px;border-width:0;color:blue;background-color:blue\">"
   ]
  },
  {
   "cell_type": "markdown",
   "id": "64302419",
   "metadata": {},
   "source": [
    "## 1- List Comprehension"
   ]
  },
  {
   "cell_type": "code",
   "execution_count": 2,
   "id": "64584e5b",
   "metadata": {},
   "outputs": [
    {
     "name": "stdout",
     "output_type": "stream",
     "text": [
      "[1, 4, 9, 16]\n",
      "[1, 4, 9, 16]\n"
     ]
    }
   ],
   "source": [
    "x = [1,2,3,4]\n",
    "\n",
    "out = []\n",
    "for item in x:\n",
    "    out.append(item**2)\n",
    "print(out)\n",
    "\n",
    "out = [item**2 for item in x]\n",
    "print(out)"
   ]
  },
  {
   "cell_type": "markdown",
   "id": "1cb53b15",
   "metadata": {},
   "source": [
    "## 2- Generator"
   ]
  },
  {
   "cell_type": "code",
   "execution_count": 10,
   "id": "7eaa7d8b",
   "metadata": {},
   "outputs": [],
   "source": [
    "def file_reader(file_name):\n",
    "    for row in open(file_name, \"r\"):\n",
    "        yield row\n",
    "\n",
    "# yield is similar to return, but instead of terminating the function, it simply pauses execution \n",
    "# until another value is required."
   ]
  },
  {
   "cell_type": "code",
   "execution_count": 11,
   "id": "ec2e0df0",
   "metadata": {},
   "outputs": [],
   "source": [
    "gen_obj = file_reader('data.txt')"
   ]
  },
  {
   "cell_type": "code",
   "execution_count": 12,
   "id": "a9f95f64",
   "metadata": {},
   "outputs": [
    {
     "data": {
      "text/plain": [
       "<generator object file_reader at 0x000001B1C5065430>"
      ]
     },
     "execution_count": 12,
     "metadata": {},
     "output_type": "execute_result"
    }
   ],
   "source": [
    "gen_obj"
   ]
  },
  {
   "cell_type": "code",
   "execution_count": 13,
   "id": "f1297c8e",
   "metadata": {},
   "outputs": [
    {
     "name": "stdout",
     "output_type": "stream",
     "text": [
      "1 2 3 4\n",
      "\n",
      "2 3 4 5\n",
      "\n",
      "6 7 8 9\n",
      "\n",
      "10 11 12 13\n",
      "\n",
      "14 15 16 17\n",
      "\n"
     ]
    }
   ],
   "source": [
    "for line in gen_obj:\n",
    "    print(line)"
   ]
  },
  {
   "cell_type": "code",
   "execution_count": 21,
   "id": "3979300c",
   "metadata": {},
   "outputs": [
    {
     "name": "stdout",
     "output_type": "stream",
     "text": [
      "1\n",
      "2\n",
      "3\n"
     ]
    }
   ],
   "source": [
    "# Multiple yeilds\n",
    "def multiple_yeild_generator():\n",
    "    yield 1\n",
    "    yield 2\n",
    "    yield 3\n",
    "\n",
    "# generator object creation\n",
    "x = multiple_yeild_generator()\n",
    "\n",
    "# Calling the generator object using next\n",
    "print(next(x)) # In Python 3, __next__()\n",
    "print(next(x))\n",
    "print(next(x))"
   ]
  },
  {
   "cell_type": "markdown",
   "id": "92c56349",
   "metadata": {},
   "source": [
    "### Generator Expression"
   ]
  },
  {
   "cell_type": "code",
   "execution_count": 3,
   "id": "eef154e2",
   "metadata": {},
   "outputs": [
    {
     "name": "stdout",
     "output_type": "stream",
     "text": [
      "[1, 9, 36, 100]\n",
      "<generator object <genexpr> at 0x7f8fc44170d0>\n"
     ]
    }
   ],
   "source": [
    "# Initialize the list\n",
    "my_list = [1, 3, 6, 10]\n",
    "\n",
    "# square each term using list comprehension\n",
    "list_ = [x**2 for x in my_list]\n",
    "\n",
    "# same thing can be done using a generator expression\n",
    "# generator expressions are surrounded by parenthesis ()\n",
    "generator = (x**2 for x in my_list)\n",
    "\n",
    "print(list_)\n",
    "print(generator)"
   ]
  },
  {
   "cell_type": "code",
   "execution_count": 4,
   "id": "b3c1c26c",
   "metadata": {},
   "outputs": [
    {
     "name": "stdout",
     "output_type": "stream",
     "text": [
      "1\n",
      "9\n",
      "36\n"
     ]
    },
    {
     "data": {
      "text/plain": [
       "100"
      ]
     },
     "execution_count": 4,
     "metadata": {},
     "output_type": "execute_result"
    }
   ],
   "source": [
    "# Initialize the list\n",
    "my_list = [1, 3, 6, 10]\n",
    "\n",
    "a = (x**2 for x in my_list)\n",
    "print(next(a))\n",
    "\n",
    "print(next(a))\n",
    "\n",
    "print(next(a))\n",
    "\n",
    "next(a)"
   ]
  },
  {
   "cell_type": "markdown",
   "id": "23e9b52a",
   "metadata": {},
   "source": [
    "## 3- Lambda Expression"
   ]
  },
  {
   "cell_type": "markdown",
   "id": "b121fdbb",
   "metadata": {},
   "source": [
    "Python provides a convenient mechanism for creating anonymous functions called Lambda Expressions and permits invoking them using their reference. Lambda expressions are ideally used when we have something simple to be done (something that can fit within a single expression), and we are more interested in quickly getting the job done rather than formally naming the function.\n",
    "\n",
    "**Syntax:** lambda parameters: expression\n",
    "\n",
    "A lambda can receive 0 or more parameters (just like functions) and end up returning the value of the expression on execution."
   ]
  },
  {
   "cell_type": "code",
   "execution_count": 2,
   "id": "6bca9f2f",
   "metadata": {},
   "outputs": [
    {
     "data": {
      "text/plain": [
       "4"
      ]
     },
     "execution_count": 2,
     "metadata": {},
     "output_type": "execute_result"
    }
   ],
   "source": [
    "# A normal function\n",
    "def times2(var):\n",
    "    return var*2\n",
    "\n",
    "times2(2)"
   ]
  },
  {
   "cell_type": "code",
   "execution_count": 3,
   "id": "63352070",
   "metadata": {},
   "outputs": [
    {
     "data": {
      "text/plain": [
       "<function __main__.<lambda>(var)>"
      ]
     },
     "execution_count": 3,
     "metadata": {},
     "output_type": "execute_result"
    }
   ],
   "source": [
    "lambda var: var*2"
   ]
  },
  {
   "cell_type": "code",
   "execution_count": 1,
   "id": "06584d37",
   "metadata": {},
   "outputs": [
    {
     "data": {
      "text/plain": [
       "8"
      ]
     },
     "execution_count": 1,
     "metadata": {},
     "output_type": "execute_result"
    }
   ],
   "source": [
    "(lambda var: var*2)(4)"
   ]
  },
  {
   "cell_type": "code",
   "execution_count": 3,
   "id": "6d3605a1",
   "metadata": {},
   "outputs": [
    {
     "data": {
      "text/plain": [
       "8"
      ]
     },
     "execution_count": 3,
     "metadata": {},
     "output_type": "execute_result"
    }
   ],
   "source": [
    "double = lambda var: var*2\n",
    "double(4)"
   ]
  },
  {
   "cell_type": "markdown",
   "id": "b36019d9",
   "metadata": {},
   "source": [
    "## 4- Map and Filter"
   ]
  },
  {
   "cell_type": "markdown",
   "id": "9cf32cdc",
   "metadata": {},
   "source": [
    "**map** The map function maps or transforms each element of an iterable resulting in a new iterable containing the transformed elements. The number of the elements in the output sequence will be equal to the number of elements in the input sequence.\n",
    "- Syntax: map(function, sequence)\n",
    "\n",
    "**filter** As the name suggests, the filter() function filters a sequence – it's elements are passed through a filtering function and only those elements that pass a criteria are allowed to pass through while the rest are “blocked”.\n",
    "- Syntax: filter(function, sequence)"
   ]
  },
  {
   "cell_type": "markdown",
   "id": "69ba18ae",
   "metadata": {},
   "source": [
    "### Map"
   ]
  },
  {
   "cell_type": "code",
   "execution_count": 6,
   "id": "06f056d1",
   "metadata": {},
   "outputs": [
    {
     "name": "stdout",
     "output_type": "stream",
     "text": [
      "<map object at 0x000001DFFA4B0940>\n",
      "[2, 12, 8, 18, 14]\n"
     ]
    }
   ],
   "source": [
    "def f(x): return 2*x\n",
    "\n",
    "L=[1,6,4,9,7]\n",
    "\n",
    "M = map(f,L)\n",
    "print(M)\n",
    "\n",
    "M = list(M)\n",
    "print(M)"
   ]
  },
  {
   "cell_type": "markdown",
   "id": "e5db5a90",
   "metadata": {},
   "source": [
    "#### Map & Lambda"
   ]
  },
  {
   "cell_type": "code",
   "execution_count": 8,
   "id": "386538b3",
   "metadata": {},
   "outputs": [
    {
     "data": {
      "text/plain": [
       "[2, 12, 8, 18, 14]"
      ]
     },
     "execution_count": 8,
     "metadata": {},
     "output_type": "execute_result"
    }
   ],
   "source": [
    "# Map with Lambda\n",
    "list(map(lambda var: var*2,L))"
   ]
  },
  {
   "cell_type": "markdown",
   "id": "585b1ead",
   "metadata": {},
   "source": [
    "### Filter"
   ]
  },
  {
   "cell_type": "code",
   "execution_count": 11,
   "id": "fb811374",
   "metadata": {},
   "outputs": [
    {
     "name": "stdout",
     "output_type": "stream",
     "text": [
      "<filter object at 0x000001DFFA5B04F0>\n",
      "[6, 4]\n"
     ]
    }
   ],
   "source": [
    "print(filter(lambda item: item%2 == 0,L))\n",
    "print(list(filter(lambda item: item%2 == 0,L)))"
   ]
  },
  {
   "cell_type": "markdown",
   "id": "33c36272",
   "metadata": {},
   "source": [
    "## 5- Conditional (Ternary) Expression\n",
    "Syntax: expression1 if condition else expression2"
   ]
  },
  {
   "cell_type": "code",
   "execution_count": 43,
   "id": "cc924cf5",
   "metadata": {},
   "outputs": [
    {
     "name": "stdout",
     "output_type": "stream",
     "text": [
      "7\n",
      "Allah Hafiz\n"
     ]
    }
   ],
   "source": [
    "v = input()\n",
    "print(\"Assalm u Alikum\") if int(v) < 5 else print(\"Allah Hafiz\")"
   ]
  },
  {
   "cell_type": "markdown",
   "id": "9c6539d3",
   "metadata": {},
   "source": [
    "## 6- Object Oriented Python"
   ]
  },
  {
   "cell_type": "markdown",
   "id": "9085db56",
   "metadata": {},
   "source": [
    "### Classes and Objects\n",
    "- Data Encapsulation, Hiding and Abstraction\n",
    "- Constructor: Default/No-Argument Costructor, Argument Constructor"
   ]
  },
  {
   "cell_type": "markdown",
   "id": "0163601d",
   "metadata": {},
   "source": [
    "**Class**\n",
    "A class can be defined as a design according to which objects can be later instantiated. The starting point of Object Oriented Modelling is the class. The class is the design of an entity that exists in the real world. This design comprises of attributes (everything an entity has) and behaviour (everything an entity can do).\n",
    "\n",
    "**Object**\n",
    "An object is an instance of a class.\n",
    "\n",
    "**Data Encapsulation**\n",
    "Data Encapsulation refers to the encapsulation of data and the code that acts on the data into a single unit. Since a class packs together attributes (data) and behaviour code that acts on the data), we claim that classes make data encapsulation possible.\n",
    "\n",
    "**Data Hiding**\n",
    "An unwritten law in OOP is that all objects have to relate to reality at all times. Since an object in an instance of a class and a class is the design of an entity in the real world, we expect every object in our program to represent a valid real-world entity at all times. This law also entails ensuring that the attributes of an object are never meddled with in a way that it represents something absurd in reality. One of the ways\n",
    "of enforcing this is by hiding data that belongs to an object from the external world so that no one can accidentally tamper with it – a concept called Data Hiding.\n",
    "\n",
    "**Data Abstraction**\n",
    "Data Abstraction refers to the hiding of implementation details while revealing a simple interface. The first advantage of Data Abstraction is that it makes the object easy to use as the users need to only be aware of the interface and need not know any implementation details. Secondly, when the implementation is insulated from the\n",
    "usage via the interface, it makes it possible to later change the implementation without affecting the usage by keeping the interface consistent. This adds a lot of value in practical programming, especially during the maintenance of the software.\n",
    "\n",
    "**For further reading:** Learning Python by B. Nagesh Rao, Chapter 12."
   ]
  },
  {
   "cell_type": "code",
   "execution_count": 15,
   "id": "8aaba24f",
   "metadata": {},
   "outputs": [],
   "source": [
    "# This class describes a person, with a name and an age. We will supply a constructor, and a method to get the full name.\n",
    "\n",
    "class Person:\n",
    "    def __init__(self, first, last, age):\n",
    "        self.first = first\n",
    "        self.last = last\n",
    "        self.age = age\n",
    "    \n",
    "    def full_name(self):\n",
    "        return self.first + ' ' + self.last"
   ]
  },
  {
   "cell_type": "code",
   "execution_count": 16,
   "id": "1752cfa5",
   "metadata": {},
   "outputs": [
    {
     "name": "stdout",
     "output_type": "stream",
     "text": [
      "abc\n",
      "23\n"
     ]
    }
   ],
   "source": [
    "# Now we can create an instance of a Person, and work with the attributes of the class.\n",
    "person = Person('abc', 'xyz', 23)\n",
    "print(person.first)\n",
    "print (person.age)"
   ]
  },
  {
   "cell_type": "markdown",
   "id": "a302c9d3",
   "metadata": {},
   "source": [
    "### Constructors and Destructors"
   ]
  },
  {
   "cell_type": "markdown",
   "id": "7adac45a",
   "metadata": {},
   "source": [
    "In OOP, a constructor is a member function of a class that is automatically invoked\n",
    "when an instance of that class is created in order to initialize the object to a valid\n",
    "state. A destructor is a member function of a class that is automatically invoked when\n",
    "an instance is destroyed in order to perform any clean-up required.\n",
    "Python does not have exact implementations for these, but does provide something\n",
    "very similar. This section focuses on Python's version of constructors and destructors."
   ]
  },
  {
   "cell_type": "markdown",
   "id": "cb328e27",
   "metadata": {},
   "source": [
    "### Constructors"
   ]
  },
  {
   "cell_type": "markdown",
   "id": "a3d8f97e",
   "metadata": {},
   "source": [
    "A constructor in Python is an instance method that is automatically invoked when an\n",
    "instance is created and permits the programmer to perform any initialization required\n",
    "to ensure that the instance is in a valid state.\n",
    "A constructor is identified in Python by it's special name: __init__. Note that the\n",
    "leading underscores do not make this instance method private as the method name\n",
    "does not end with at most 1 underscore – it in fact ends with 2 underscores!\n",
    "The following code snippet demonstrates how constructors can be designed and how\n",
    "they are automatically invoked when objects are instantiated:"
   ]
  },
  {
   "cell_type": "code",
   "execution_count": 7,
   "id": "98bdd281",
   "metadata": {},
   "outputs": [
    {
     "name": "stdout",
     "output_type": "stream",
     "text": [
      "Constructor called!\n",
      "Constructor called!\n"
     ]
    }
   ],
   "source": [
    "class A:\n",
    "    def __init__(self):\n",
    "        print(\"Constructor called!\")\n",
    "a=A()\n",
    "#Constructor called!\n",
    "b=A()\n",
    "#Constructor called!"
   ]
  },
  {
   "cell_type": "markdown",
   "id": "5c6f3751",
   "metadata": {},
   "source": [
    "### Destructors"
   ]
  },
  {
   "cell_type": "markdown",
   "id": "1e8ed43e",
   "metadata": {},
   "source": [
    "A destructor in Python is an instance method that is automatically invoked when an\n",
    "object is going to be destroyed and eliminated and permits the programmer to perform\n",
    "any desired clean-up.\n",
    "A destructor is identified in Python by it's special name: __del__.\n",
    "The following code snippet demonstrates the working of destructors in Python:"
   ]
  },
  {
   "cell_type": "code",
   "execution_count": 10,
   "id": "ca3122a3",
   "metadata": {},
   "outputs": [
    {
     "name": "stdout",
     "output_type": "stream",
     "text": [
      "Destructor called!\n",
      "Destructor called!\n"
     ]
    }
   ],
   "source": [
    "class A:\n",
    "    def __del__(self):\n",
    "        print(\"Destructor called!\")\n",
    "\n",
    "a=A()\n",
    "del a\n",
    "#Destructor called!\n",
    "b=A()\n",
    "del b\n",
    "#Destructor called!"
   ]
  },
  {
   "cell_type": "code",
   "execution_count": 12,
   "id": "415b89dd",
   "metadata": {},
   "outputs": [
    {
     "name": "stdout",
     "output_type": "stream",
     "text": [
      "Destructor called!\n"
     ]
    }
   ],
   "source": [
    "class A:\n",
    "    def __del__(self):\n",
    "        print(\"Destructor called!\")\n",
    "\n",
    "a=A()\n",
    "b=a\n",
    "del a\n",
    "del b\n",
    "#Destructor called!"
   ]
  },
  {
   "cell_type": "markdown",
   "id": "9d1509c8",
   "metadata": {},
   "source": [
    "### Instance Variables and Methods"
   ]
  },
  {
   "cell_type": "markdown",
   "id": "1c574476",
   "metadata": {},
   "source": [
    "### Instance Variables"
   ]
  },
  {
   "cell_type": "markdown",
   "id": "33c302be",
   "metadata": {},
   "source": [
    "Instance Variables are variables that belong to an object.\n",
    "\n",
    "For C/C++/Java programmers:\n",
    "Unlike languages like C++ and Java where the class definition specifies the\n",
    "instance variables, in Python the class can only specify the Class Variables (which\n",
    "are like static data members in C++ and static fields in Java)."
   ]
  },
  {
   "cell_type": "markdown",
   "id": "9f5beddb",
   "metadata": {},
   "source": [
    "Python uses the Perl style, wherein the object can create whatever instance variables\n",
    "it desires. In fact, it is possible for different objects of the same class to have different\n",
    "instance variables, though doing so might not be a good idea! This creation of\n",
    "instance variables is typically done using methods, as will be demonstrated in an\n",
    "example soon.\n",
    "Instance variables can also be deleted using the del statement!\n",
    "In our Date example, we want the Date objects to have day, month and year as\n",
    "instance variables – we want each Date object to have it's own value for these. These\n",
    "instance variables can be created in the setDate() method as shown below:"
   ]
  },
  {
   "cell_type": "code",
   "execution_count": 21,
   "id": "627403f0",
   "metadata": {},
   "outputs": [
    {
     "data": {
      "text/plain": [
       "2"
      ]
     },
     "execution_count": 21,
     "metadata": {},
     "output_type": "execute_result"
    }
   ],
   "source": [
    "class Date:\n",
    "    def setDate(self,d,m,y):\n",
    "        self.day,self.month,self.year = d,m,y\n",
    "        \n",
    "d=Date()\n",
    "d.setDate(1,2,2000)"
   ]
  },
  {
   "cell_type": "code",
   "execution_count": 22,
   "id": "53ba002f",
   "metadata": {},
   "outputs": [
    {
     "data": {
      "text/plain": [
       "<__main__.Date at 0x7f87b57d9760>"
      ]
     },
     "execution_count": 22,
     "metadata": {},
     "output_type": "execute_result"
    }
   ],
   "source": [
    "d"
   ]
  },
  {
   "cell_type": "code",
   "execution_count": 23,
   "id": "b83a1b99",
   "metadata": {},
   "outputs": [
    {
     "data": {
      "text/plain": [
       "1"
      ]
     },
     "execution_count": 23,
     "metadata": {},
     "output_type": "execute_result"
    }
   ],
   "source": [
    "d.day"
   ]
  },
  {
   "cell_type": "code",
   "execution_count": 24,
   "id": "2dafd211",
   "metadata": {},
   "outputs": [
    {
     "data": {
      "text/plain": [
       "2"
      ]
     },
     "execution_count": 24,
     "metadata": {},
     "output_type": "execute_result"
    }
   ],
   "source": [
    "d.month"
   ]
  },
  {
   "cell_type": "code",
   "execution_count": 25,
   "id": "405caa48",
   "metadata": {},
   "outputs": [
    {
     "data": {
      "text/plain": [
       "2000"
      ]
     },
     "execution_count": 25,
     "metadata": {},
     "output_type": "execute_result"
    }
   ],
   "source": [
    "d.year"
   ]
  },
  {
   "cell_type": "markdown",
   "id": "06f30d92",
   "metadata": {},
   "source": [
    "### Instance Methods"
   ]
  },
  {
   "cell_type": "markdown",
   "id": "5defc4a4",
   "metadata": {},
   "source": [
    "In the previous example, we have already seen the method setDate() in action. We\n",
    "have seen that methods are functions of the class that use invoking objects, and can\n",
    "access their corresponding invoking objects using the first parameter – typically called\n",
    "self.\n",
    "Let us add more instance methods to our Date class:"
   ]
  },
  {
   "cell_type": "code",
   "execution_count": 28,
   "id": "2f9d1d81",
   "metadata": {},
   "outputs": [
    {
     "name": "stdout",
     "output_type": "stream",
     "text": [
      "1-2-2000\n"
     ]
    }
   ],
   "source": [
    "class Date:\n",
    "    def setDate(self,d,m,y):\n",
    "        self.day,self.month,self.year = d,m,y    \n",
    "    def getDay(self): return self.day\n",
    "    def getMonth(self): return self.month\n",
    "    def getYear(self): return self.year\n",
    "\n",
    "d = Date()\n",
    "d.setDate(1,2,2000)\n",
    "print(\"{}-{}-{}\".format(d.getDay(),d.getMonth(),d.getYear()))"
   ]
  },
  {
   "cell_type": "code",
   "execution_count": 32,
   "id": "a0fb7158",
   "metadata": {},
   "outputs": [
    {
     "name": "stdout",
     "output_type": "stream",
     "text": [
      "1-2-2000\n"
     ]
    }
   ],
   "source": [
    "#It would be a good idea to delegate the printing of the Date object to the object itself via a method print():\n",
    "\n",
    "class Date:\n",
    "    def setDate(self,d,m,y):\n",
    "        self.day,self.month,self.year = d,m,y\n",
    "    def getDay(self): return self.day\n",
    "    def getMonth(self): return self.month\n",
    "    def getYear(self): return self.year\n",
    "    def print(self):\n",
    "        print(\"{}-{}-{}\".format(self.getDay(),self.getMonth(),self.getYear()))\n",
    "\n",
    "d = Date()\n",
    "d.setDate(1,2,2000)\n",
    "d.print()"
   ]
  },
  {
   "cell_type": "markdown",
   "id": "4e385fb8",
   "metadata": {},
   "source": [
    "### Class Variables and Functions"
   ]
  },
  {
   "cell_type": "markdown",
   "id": "0c8a143f",
   "metadata": {},
   "source": [
    "### Class Variables"
   ]
  },
  {
   "cell_type": "markdown",
   "id": "99ca6a14",
   "metadata": {},
   "source": [
    "As already introduced, class variables are variables that belong to the class and are\n",
    "shared across instances of that class. They are accessible using the class name (the\n",
    "class object) or any instance of that class. The following code snippets demonstrate\n",
    "these features:"
   ]
  },
  {
   "cell_type": "code",
   "execution_count": 58,
   "id": "ef1c5b44",
   "metadata": {},
   "outputs": [
    {
     "data": {
      "text/plain": [
       "10"
      ]
     },
     "execution_count": 58,
     "metadata": {},
     "output_type": "execute_result"
    }
   ],
   "source": [
    "class A:\n",
    "    x=10\n",
    "\n",
    "A.x"
   ]
  },
  {
   "cell_type": "markdown",
   "id": "4ea3d1e7",
   "metadata": {},
   "source": [
    "We have created a class A with a class variable x initialized to 10. We can access this\n",
    "using A.x, where A is the class object (class name for us) and x is the class variable.\n",
    "Let us create objects now:"
   ]
  },
  {
   "cell_type": "code",
   "execution_count": 59,
   "id": "4ab9d85d",
   "metadata": {},
   "outputs": [],
   "source": [
    "#(continuation)\n",
    "a=A()\n",
    "b=A()"
   ]
  },
  {
   "cell_type": "code",
   "execution_count": 60,
   "id": "1826900f",
   "metadata": {},
   "outputs": [
    {
     "data": {
      "text/plain": [
       "10"
      ]
     },
     "execution_count": 60,
     "metadata": {},
     "output_type": "execute_result"
    }
   ],
   "source": [
    "a.x"
   ]
  },
  {
   "cell_type": "code",
   "execution_count": 63,
   "id": "986dc53e",
   "metadata": {},
   "outputs": [
    {
     "data": {
      "text/plain": [
       "10"
      ]
     },
     "execution_count": 63,
     "metadata": {},
     "output_type": "execute_result"
    }
   ],
   "source": [
    "b.x"
   ]
  },
  {
   "cell_type": "markdown",
   "id": "8e6ca103",
   "metadata": {},
   "source": [
    "We have created 2 objects a and b, and can see that they both have access to the\n",
    "class variable x, and provide us the same value 10. Let us attempt to make an\n",
    "assignment to the class variable using an instance:"
   ]
  },
  {
   "cell_type": "code",
   "execution_count": 64,
   "id": "cf33c52a",
   "metadata": {},
   "outputs": [
    {
     "data": {
      "text/plain": [
       "10"
      ]
     },
     "execution_count": 64,
     "metadata": {},
     "output_type": "execute_result"
    }
   ],
   "source": [
    "a.x=20\n",
    "A.x"
   ]
  },
  {
   "cell_type": "code",
   "execution_count": 65,
   "id": "1ad836a8",
   "metadata": {},
   "outputs": [
    {
     "data": {
      "text/plain": [
       "20"
      ]
     },
     "execution_count": 65,
     "metadata": {},
     "output_type": "execute_result"
    }
   ],
   "source": [
    "a.x"
   ]
  },
  {
   "cell_type": "code",
   "execution_count": 66,
   "id": "8a787be1",
   "metadata": {},
   "outputs": [
    {
     "data": {
      "text/plain": [
       "10"
      ]
     },
     "execution_count": 66,
     "metadata": {},
     "output_type": "execute_result"
    }
   ],
   "source": [
    "b.x"
   ]
  },
  {
   "cell_type": "markdown",
   "id": "7077bd42",
   "metadata": {},
   "source": [
    "When an assignment is made to a variable using an instance, the variable is assumed\n",
    "to be an instance variable. Thus, the statement a.x=20 ends up creating an instance\n",
    "variable x in the instance a and assigns the value 20 to it without disturbing the class\n",
    "variable x that is accessible via A as well as b. Any attempt to access the variable x\n",
    "using the instance a will give preference to the instance variable x in the instance a.\n",
    "Let us now make an assignment to the class variable using the class object:"
   ]
  },
  {
   "cell_type": "code",
   "execution_count": 67,
   "id": "abeb8beb",
   "metadata": {},
   "outputs": [
    {
     "data": {
      "text/plain": [
       "30"
      ]
     },
     "execution_count": 67,
     "metadata": {},
     "output_type": "execute_result"
    }
   ],
   "source": [
    "#(continuation)\n",
    "\n",
    "A.x=30\n",
    "A.x"
   ]
  },
  {
   "cell_type": "code",
   "execution_count": 68,
   "id": "a24ddebe",
   "metadata": {},
   "outputs": [
    {
     "data": {
      "text/plain": [
       "20"
      ]
     },
     "execution_count": 68,
     "metadata": {},
     "output_type": "execute_result"
    }
   ],
   "source": [
    "a.x"
   ]
  },
  {
   "cell_type": "code",
   "execution_count": 69,
   "id": "fbc0904c",
   "metadata": {},
   "outputs": [
    {
     "data": {
      "text/plain": [
       "30"
      ]
     },
     "execution_count": 69,
     "metadata": {},
     "output_type": "execute_result"
    }
   ],
   "source": [
    "b.x"
   ]
  },
  {
   "cell_type": "markdown",
   "id": "cf0a871f",
   "metadata": {},
   "source": [
    "We can see that when we change the class variable using the class object, the\n",
    "change is visible using the class object as well as all instances of that class, except\n",
    "those instances that also have an instance variable with the same name (in our case,\n",
    "the instance variable x in the instance a)."
   ]
  },
  {
   "cell_type": "markdown",
   "id": "84700fbb",
   "metadata": {},
   "source": [
    "### Class Functions"
   ]
  },
  {
   "cell_type": "markdown",
   "id": "10d0dc94",
   "metadata": {},
   "source": [
    "Just as how variables defined in a class automatically become class variables,\n",
    "functions defined within a class also become class functions. They are methods only\n",
    "when an object is used to invoke the function, in which case a reference to the\n",
    "invoking object is passed automatically as the first argument and is typically received\n",
    "as the self parameter. Class functions can be invoked only through the class object\n",
    "and obviously do not receive any invoking object reference as self.\n",
    "The following code snippets will help demonstrate these features:"
   ]
  },
  {
   "cell_type": "code",
   "execution_count": 71,
   "id": "4985301a",
   "metadata": {},
   "outputs": [
    {
     "data": {
      "text/plain": [
       "10"
      ]
     },
     "execution_count": 71,
     "metadata": {},
     "output_type": "execute_result"
    }
   ],
   "source": [
    "class A:\n",
    "    x=10\n",
    "    \n",
    "    def increment():\n",
    "        A.x=A.x+1\n",
    "\n",
    "A.x"
   ]
  },
  {
   "cell_type": "code",
   "execution_count": 72,
   "id": "18d2ffaf",
   "metadata": {},
   "outputs": [
    {
     "data": {
      "text/plain": [
       "11"
      ]
     },
     "execution_count": 72,
     "metadata": {},
     "output_type": "execute_result"
    }
   ],
   "source": [
    "A.increment()\n",
    "A.x"
   ]
  },
  {
   "cell_type": "markdown",
   "id": "e10e9e83",
   "metadata": {},
   "source": [
    "We define a class A with a class variable x that is initialized to 10. We define a\n",
    "function increment() that increments the value of this class variable. The function is\n",
    "invoked using the class object (A) and not by using any object of the class A."
   ]
  },
  {
   "cell_type": "code",
   "execution_count": 73,
   "id": "94661840",
   "metadata": {},
   "outputs": [],
   "source": [
    "a=A()\n",
    "b=A()"
   ]
  },
  {
   "cell_type": "code",
   "execution_count": 74,
   "id": "14674de0",
   "metadata": {},
   "outputs": [
    {
     "data": {
      "text/plain": [
       "11"
      ]
     },
     "execution_count": 74,
     "metadata": {},
     "output_type": "execute_result"
    }
   ],
   "source": [
    "a.x"
   ]
  },
  {
   "cell_type": "code",
   "execution_count": 75,
   "id": "ed48cdb0",
   "metadata": {},
   "outputs": [
    {
     "data": {
      "text/plain": [
       "11"
      ]
     },
     "execution_count": 75,
     "metadata": {},
     "output_type": "execute_result"
    }
   ],
   "source": [
    "b.x"
   ]
  },
  {
   "cell_type": "markdown",
   "id": "ac643998",
   "metadata": {},
   "source": [
    "We then create 2 objects of the class A (a and b) and observe that they too give us\n",
    "the incremented value of the class variable x.\n",
    "We cannot however invoke the class function increment() using any of the objects\n",
    "a and b as class functions are not methods:"
   ]
  },
  {
   "cell_type": "code",
   "execution_count": 80,
   "id": "c66a4e00",
   "metadata": {},
   "outputs": [
    {
     "ename": "TypeError",
     "evalue": "increment() takes 0 positional arguments but 1 was given",
     "output_type": "error",
     "traceback": [
      "\u001b[0;31m---------------------------------------------------------------------------\u001b[0m",
      "\u001b[0;31mTypeError\u001b[0m                                 Traceback (most recent call last)",
      "\u001b[0;32m/tmp/ipykernel_55864/3824338182.py\u001b[0m in \u001b[0;36m<module>\u001b[0;34m\u001b[0m\n\u001b[0;32m----> 1\u001b[0;31m \u001b[0ma\u001b[0m\u001b[0;34m.\u001b[0m\u001b[0mincrement\u001b[0m\u001b[0;34m(\u001b[0m\u001b[0;34m)\u001b[0m\u001b[0;34m\u001b[0m\u001b[0;34m\u001b[0m\u001b[0m\n\u001b[0m\u001b[1;32m      2\u001b[0m \u001b[0;34m\u001b[0m\u001b[0m\n\u001b[1;32m      3\u001b[0m \u001b[0;31m#Traceback (most recent call last):\u001b[0m\u001b[0;34m\u001b[0m\u001b[0;34m\u001b[0m\u001b[0m\n\u001b[1;32m      4\u001b[0m \u001b[0;31m#File \"<stdin>\", line 1, in <module>\u001b[0m\u001b[0;34m\u001b[0m\u001b[0;34m\u001b[0m\u001b[0m\n\u001b[1;32m      5\u001b[0m \u001b[0;31m#TypeError: increment() takes 0 positional arguments but 1 was given\u001b[0m\u001b[0;34m\u001b[0m\u001b[0;34m\u001b[0m\u001b[0m\n",
      "\u001b[0;31mTypeError\u001b[0m: increment() takes 0 positional arguments but 1 was given"
     ]
    }
   ],
   "source": [
    "a.increment()\n",
    "\n",
    "#Traceback (most recent call last):\n",
    "#File \"<stdin>\", line 1, in <module>\n",
    "#TypeError: increment() takes 0 positional arguments but 1 was given"
   ]
  },
  {
   "cell_type": "markdown",
   "id": "e4815b20",
   "metadata": {},
   "source": [
    "### Instance Methods as special Class Functions"
   ]
  },
  {
   "cell_type": "markdown",
   "id": "17dde466",
   "metadata": {},
   "source": [
    "Having understood class functions, we can view methods from a new perspective\n",
    "now: methods are class functions that accept a reference to the invoking object as the\n",
    "first argument! The following code snippet will illustrate this:"
   ]
  },
  {
   "cell_type": "code",
   "execution_count": 83,
   "id": "4430ff81",
   "metadata": {},
   "outputs": [
    {
     "name": "stdout",
     "output_type": "stream",
     "text": [
      "Hello\n"
     ]
    }
   ],
   "source": [
    "class A:\n",
    "    def f(self):\n",
    "        print(\"Hello\")\n",
    "\n",
    "a=A()\n",
    "a.f()"
   ]
  },
  {
   "cell_type": "code",
   "execution_count": 84,
   "id": "642abb5c",
   "metadata": {},
   "outputs": [
    {
     "name": "stdout",
     "output_type": "stream",
     "text": [
      "Hello\n"
     ]
    }
   ],
   "source": [
    "A.f(a)"
   ]
  },
  {
   "cell_type": "markdown",
   "id": "0475d848",
   "metadata": {},
   "source": [
    "### Inheritence"
   ]
  },
  {
   "cell_type": "markdown",
   "id": "ff31caf5",
   "metadata": {},
   "source": [
    "A powerful feature of object-oriented programming is the ability to create a new class by extending an existing class. When extending a class, we call the original class the parent class and the new class the child class.\n",
    "Inheritance is the mechanism wherein a class acquires all the features and properties\n",
    "of another class (or classes). Inheritance has the following uses:\n",
    "1. Re-usability – it helps reduce effort by reusing existing code.\n",
    "2. Extensibility – it helps add new code or apply changes without tampering with existing code.\n",
    "3. Compartmentalisation – it helps manage code better by compartmentalising classes.\n",
    "\n",
    "Types of Inheritence are:\n",
    "1. Simple Inheritence\n",
    "2. Hierarchical Inheritence\n",
    "3. Multi-level Inheritence\n",
    "4. Multiple Inheritence"
   ]
  },
  {
   "cell_type": "markdown",
   "id": "15df3474",
   "metadata": {},
   "source": [
    "#### Simple Inheritence"
   ]
  },
  {
   "cell_type": "code",
   "execution_count": 24,
   "id": "5d1a4d9e",
   "metadata": {
    "scrolled": true
   },
   "outputs": [
    {
     "name": "stdout",
     "output_type": "stream",
     "text": [
      "WISE\n",
      "Abdullah\n",
      "Mansoor\n",
      "26\n",
      "Abdullah Mansoor\n"
     ]
    }
   ],
   "source": [
    "class Employee(Person):\n",
    "    def __init__(self, first, last, age, company):\n",
    "        super(Employee, self).__init__(first, last, age)\n",
    "        self.company_name = company\n",
    "\n",
    "employe = Employee(first='Abdullah',last='Mansoor',age=26,company='WISE')\n",
    "print(employe.company_name)\n",
    "print(employe.first)\n",
    "print(employe.last)\n",
    "print(employe.age)\n",
    "print(employe.full_name())"
   ]
  },
  {
   "cell_type": "markdown",
   "id": "e1d85e7c",
   "metadata": {},
   "source": [
    "#### Multi-level Inheritence"
   ]
  },
  {
   "cell_type": "markdown",
   "id": "9e44d2ad",
   "metadata": {},
   "source": [
    "- When a class inherits from a class that inherits from another class, thereby forming an inheritance chain."
   ]
  },
  {
   "cell_type": "markdown",
   "id": "a5061938",
   "metadata": {},
   "source": [
    "#### Hierarchical Inheritence"
   ]
  },
  {
   "cell_type": "markdown",
   "id": "4d3b018c",
   "metadata": {},
   "source": [
    "- When multiple classes inherit from a single class."
   ]
  },
  {
   "cell_type": "markdown",
   "id": "4a9b70df",
   "metadata": {},
   "source": [
    "<img src='hierarchical_inheritence.PNG' width='300' height='300'>"
   ]
  },
  {
   "cell_type": "markdown",
   "id": "67e815f8",
   "metadata": {},
   "source": [
    "#### Multiple Inheritence\n",
    "- Diamond Problem\n",
    "- Method Resolution Order (MRO)"
   ]
  },
  {
   "cell_type": "markdown",
   "id": "f1d1d00f",
   "metadata": {},
   "source": [
    "A class can be derived from more than one base classes in Python. This is called multiple inheritance. In multiple inheritance, the features of all the base classes are inherited into the derived class (see the figure below). The syntax for multiple inheritance is similar to single inheritance.\n",
    "\n",
    "For more details see: https://www.geeksforgeeks.org/multiple-inheritance-in-python/"
   ]
  },
  {
   "cell_type": "markdown",
   "id": "26ee9215",
   "metadata": {},
   "source": [
    "<img src='multiple_inheritence.PNG' width='400' height='200'>"
   ]
  },
  {
   "cell_type": "markdown",
   "id": "893eaac7",
   "metadata": {},
   "source": [
    "<img src=\"diamond_problem.png\" width='300' height='300'>"
   ]
  },
  {
   "cell_type": "code",
   "execution_count": 27,
   "id": "841ca099",
   "metadata": {},
   "outputs": [
    {
     "name": "stdout",
     "output_type": "stream",
     "text": [
      "In Class2\n"
     ]
    }
   ],
   "source": [
    "# Multiple Inheritance\n",
    "    \n",
    "class Class1:\n",
    "    def m(self):\n",
    "        print(\"In Class1\")\n",
    "\n",
    "class Class2(Class1):\n",
    "    def m(self):\n",
    "        print(\"In Class2\")\n",
    "    \n",
    "class Class3(Class1):\n",
    "    def m(self):\n",
    "        print(\"In Class3\") \n",
    "        \n",
    "class Class4(Class2, Class3):\n",
    "    pass  \n",
    "     \n",
    "obj = Class4()\n",
    "obj.m()"
   ]
  },
  {
   "cell_type": "markdown",
   "id": "d60db7bf",
   "metadata": {},
   "source": [
    "**Note:**\n",
    "\n",
    "When we call obj.m() (m on the instance of Class4) the output is \"In Class2\". If Class4 is declared as Class4(Class3, Class2) then the output of obj.m() will be \"In Class3\".\n"
   ]
  },
  {
   "cell_type": "markdown",
   "id": "b9ba35d4",
   "metadata": {},
   "source": [
    "Now, the question is that when there are 2 (or more) base classes, which base class is considered to be the super class? To answer this question is obtained by the order of inheritance and it is called Method Resolution Order. MRO gives preference to the class according to its inheritence order i.e. from left to right."
   ]
  },
  {
   "cell_type": "code",
   "execution_count": null,
   "id": "561cdf5a",
   "metadata": {},
   "outputs": [],
   "source": [
    " Python Program to depict multiple inheritance\n",
    "# when we try to call m of Class1 from both m of # Class2 and m of Class3\n",
    " \n",
    "class Class1:\n",
    "    def m(self):\n",
    "        print(\"In Class1\")  \n",
    "\n",
    "class Class2(Class1):\n",
    "    def m(self):\n",
    "        print(\"In Class2\")\n",
    "        Class1.m(self)\n",
    "\n",
    "class Class3(Class1):\n",
    "    def m(self):\n",
    "        print(\"In Class3\")\n",
    "        Class1.m(self)  \n",
    "\n",
    "class Class4(Class2, Class3):\n",
    "    def m(self):\n",
    "        print(\"In Class4\")  \n",
    "        Class2.m(self)\n",
    "        Class3.m(self)\n",
    "\n",
    "obj = Class4()\n",
    "obj.m()"
   ]
  },
  {
   "cell_type": "markdown",
   "id": "f0e4a08e",
   "metadata": {},
   "source": [
    "**SUPER KEYWORD**\n",
    "The output of the above code has one problem associated with it, the method m of Class1 is called twice. Python provides a solution to the above problem with the help of the super() function."
   ]
  },
  {
   "cell_type": "code",
   "execution_count": 28,
   "id": "36a66215",
   "metadata": {
    "scrolled": false
   },
   "outputs": [
    {
     "name": "stdout",
     "output_type": "stream",
     "text": [
      "In Class4\n",
      "In Class2\n",
      "In Class3\n",
      "In Class1\n"
     ]
    }
   ],
   "source": [
    "# super()\n",
    " \n",
    "class Class1:\n",
    "    def m(self):\n",
    "        print(\"In Class1\")\n",
    "\n",
    "class Class2(Class1):\n",
    "    def m(self):\n",
    "        print(\"In Class2\")\n",
    "        super().m()\n",
    "        \n",
    "class Class3(Class1):\n",
    "    def m(self):\n",
    "        print(\"In Class3\")\n",
    "        super().m()\n",
    "        \n",
    "class Class4(Class2, Class3):\n",
    "    def m(self):\n",
    "        print(\"In Class4\")  \n",
    "        super().m()\n",
    "\n",
    "obj = Class4()\n",
    "obj.m()"
   ]
  },
  {
   "cell_type": "markdown",
   "id": "88d5f321",
   "metadata": {},
   "source": [
    "### Constructors and Destructors in Multiple Inheritance"
   ]
  },
  {
   "cell_type": "markdown",
   "id": "0f702442",
   "metadata": {},
   "source": [
    "One of the important results of inheritance is that the derived class is dependent on\n",
    "the base class. While the base class can exist on it's own, the derived class is\n",
    "dependent on the base class for it's existence. Derived class instances are dependent\n",
    "on corresponding base class instances. Indeed we can say that every derived class\n",
    "instance contains a base instance within itself, without which it cannot exist.\n",
    "\n",
    "\n",
    "Building on this, we can also say then that when a derived class is instantiated, the\n",
    "base class should get instantiated first and when a derived class instance is\n",
    "destroyed, it should be followed by the destruction of the base class instance too. In\n",
    "other words, the order of construction/creation should be from base class to derived\n",
    "class whereas the order of destruction should be from derived class to base class.\n",
    "This order honours our agreement that the base class/instance can survive without\n",
    "the derived class/instance but not vice-versa.\n",
    "\n",
    "\n",
    "Unlike other programming languages like C++ where this is automatically enforced by\n",
    "the compiler, Python does not enforce it! It therefore becomes the responsibility of the\n",
    "programmer to ensure that this indeed takes place by explicitly calling suitable base\n",
    "class functions."
   ]
  },
  {
   "cell_type": "code",
   "execution_count": 87,
   "id": "e29366d5",
   "metadata": {},
   "outputs": [
    {
     "name": "stdout",
     "output_type": "stream",
     "text": [
      "A constructed\n",
      "B constructed\n",
      "C constructed\n",
      "C destroyed\n",
      "B destroyed\n",
      "A destroyed\n"
     ]
    }
   ],
   "source": [
    "\n",
    "\n",
    "# Inheritance Demo:\n",
    "# Multiple Inheritance - Constructors and Destructors\n",
    "\n",
    "class A:\n",
    "    def __init__(self):\n",
    "        print(\"A constructed\")\n",
    "    def __del__(self):\n",
    "        print(\"A destroyed\")\n",
    "\n",
    "class B:\n",
    "    def __init__(self):\n",
    "        print(\"B constructed\")\n",
    "    def __del__(self):\n",
    "        print(\"B destroyed\")\n",
    "\n",
    "class C(A,B):\n",
    "    def __init__(self):\n",
    "        A.__init__(self)\n",
    "        B.__init__(self)\n",
    "        print(\"C constructed\")\n",
    "    def __del__(self):\n",
    "        print(\"C destroyed\")\n",
    "        B.__del__(self)\n",
    "        A.__del__(self)\n",
    "\n",
    "c=C()\n",
    "del(c)"
   ]
  },
  {
   "cell_type": "markdown",
   "id": "f7f18e7c",
   "metadata": {},
   "source": [
    "1- The constructor of class C first passes control to the constructor of class A,\n",
    "then the constructor of class B and then continues it's execution.\n",
    "\n",
    "2- The destructor of class C first executes itself and finally calls the destructor of\n",
    "class B followed by the destructor of class A.\n",
    "\n",
    "3- This is done to honour the rule that base\n",
    "classes can exist without derived classes but not the other way around.\n",
    "\n",
    "4- The order of inheritance is respected: class A is the first base class of class C\n",
    "and hence is created first but destroyed last."
   ]
  },
  {
   "cell_type": "code",
   "execution_count": null,
   "id": "f5f5664a",
   "metadata": {},
   "outputs": [],
   "source": []
  },
  {
   "cell_type": "markdown",
   "id": "1eedeb9c",
   "metadata": {},
   "source": [
    "### Access Specifiers "
   ]
  },
  {
   "cell_type": "markdown",
   "id": "a94da011",
   "metadata": {},
   "source": [
    "#### Public"
   ]
  },
  {
   "cell_type": "markdown",
   "id": "ebb48170",
   "metadata": {},
   "source": [
    "Public members are accessible everywhere where the class/object is\n",
    "accessible. All are public by default unless specified protected or private using notation"
   ]
  },
  {
   "cell_type": "markdown",
   "id": "6c7f5d17",
   "metadata": {},
   "source": [
    "#### Private"
   ]
  },
  {
   "cell_type": "markdown",
   "id": "6fae9dc6",
   "metadata": {},
   "source": [
    "Protected members are accessible within the class that defines it as well as\n",
    "in all subclasses (classes that inherit it).\n",
    "\n",
    "Private members are accessible only within the class and nowhere else."
   ]
  },
  {
   "cell_type": "raw",
   "id": "678cc0f4",
   "metadata": {},
   "source": [
    "Any member that starts with minimum 2 underscores and ends with maximum 1\n",
    "underscore indicates that it should be treated as a private member. This is achieved in\n",
    "Python typically by name mangling.\n",
    "\n",
    "Private members of the form __member_ get replaced by _classname__member.\n",
    "\n",
    "This prevents direct access to the member by it's name, but still does not\n",
    "prevent access via it's mangled name!\n",
    "\n",
    "Furthermore, this name mangling procedure may change in the future and hence programmers are advised \n",
    "not to use the mangled name at any time to access a private member illegally!"
   ]
  },
  {
   "cell_type": "code",
   "execution_count": 2,
   "id": "fee941c6",
   "metadata": {},
   "outputs": [
    {
     "name": "stdout",
     "output_type": "stream",
     "text": [
      "2,3\n"
     ]
    }
   ],
   "source": [
    "class A:\n",
    "\n",
    "    def set(self,x,y):\n",
    "        self.x = x\n",
    "        self.__y = y\n",
    "    \n",
    "    def print(self):\n",
    "        print(\"{},{}\".format(self.x,self.__y))\n",
    "\n",
    "a=A()\n",
    "a.set(2,3)\n",
    "a.print()"
   ]
  },
  {
   "cell_type": "code",
   "execution_count": 4,
   "id": "791d1aeb",
   "metadata": {},
   "outputs": [
    {
     "data": {
      "text/plain": [
       "2"
      ]
     },
     "execution_count": 4,
     "metadata": {},
     "output_type": "execute_result"
    }
   ],
   "source": [
    "a.x"
   ]
  },
  {
   "cell_type": "code",
   "execution_count": 5,
   "id": "2f5002a5",
   "metadata": {},
   "outputs": [
    {
     "ename": "AttributeError",
     "evalue": "'A' object has no attribute 'y'",
     "output_type": "error",
     "traceback": [
      "\u001b[0;31m---------------------------------------------------------------------------\u001b[0m",
      "\u001b[0;31mAttributeError\u001b[0m                            Traceback (most recent call last)",
      "Input \u001b[0;32mIn [5]\u001b[0m, in \u001b[0;36m<cell line: 1>\u001b[0;34m()\u001b[0m\n\u001b[0;32m----> 1\u001b[0m \u001b[43ma\u001b[49m\u001b[38;5;241;43m.\u001b[39;49m\u001b[43my\u001b[49m\n",
      "\u001b[0;31mAttributeError\u001b[0m: 'A' object has no attribute 'y'"
     ]
    }
   ],
   "source": [
    "a.y"
   ]
  },
  {
   "cell_type": "code",
   "execution_count": 6,
   "id": "4aabd4d4",
   "metadata": {},
   "outputs": [
    {
     "ename": "AttributeError",
     "evalue": "'A' object has no attribute '__y'",
     "output_type": "error",
     "traceback": [
      "\u001b[0;31m---------------------------------------------------------------------------\u001b[0m",
      "\u001b[0;31mAttributeError\u001b[0m                            Traceback (most recent call last)",
      "Input \u001b[0;32mIn [6]\u001b[0m, in \u001b[0;36m<cell line: 1>\u001b[0;34m()\u001b[0m\n\u001b[0;32m----> 1\u001b[0m \u001b[43ma\u001b[49m\u001b[38;5;241;43m.\u001b[39;49m\u001b[43m__y\u001b[49m\n",
      "\u001b[0;31mAttributeError\u001b[0m: 'A' object has no attribute '__y'"
     ]
    }
   ],
   "source": [
    "a.__y"
   ]
  },
  {
   "cell_type": "code",
   "execution_count": 7,
   "id": "000bb010",
   "metadata": {},
   "outputs": [
    {
     "data": {
      "text/plain": [
       "3"
      ]
     },
     "execution_count": 7,
     "metadata": {},
     "output_type": "execute_result"
    }
   ],
   "source": [
    "a._A__y"
   ]
  },
  {
   "cell_type": "markdown",
   "id": "71627196",
   "metadata": {},
   "source": [
    "#### Protected"
   ]
  },
  {
   "cell_type": "markdown",
   "id": "58fc467a",
   "metadata": {},
   "source": [
    "Protected member's notation is single-under-score+member name:   \n",
    "_member"
   ]
  },
  {
   "cell_type": "markdown",
   "id": "f2444126",
   "metadata": {},
   "source": [
    "##### Access Specifiers along with Inheritence: "
   ]
  },
  {
   "cell_type": "code",
   "execution_count": 8,
   "id": "d3a1d2af",
   "metadata": {},
   "outputs": [],
   "source": [
    "\n",
    "# Inheritance Demo:\n",
    "# Public, Private and Protected Method access\n",
    "\n",
    "\n",
    "class A:\n",
    "    def __f1(self): print(\"A.f1\")\n",
    "    def f2(self): print(\"A.f2\")\n",
    "    def _f3(self): print(\"A.f3\")\n",
    "\n",
    "class B(A):\n",
    "    def __g1(self): print(\"B.g1\")\n",
    "    def g2(self): print(\"B.g2\")\n",
    "    def _g3(self): print(\"B.g3\")\n",
    "\n",
    "b = B()"
   ]
  },
  {
   "cell_type": "markdown",
   "id": "c99fd882",
   "metadata": {},
   "source": [
    "Find Out !!\n",
    "\n",
    "\n",
    "Which variables are of which type and which of these are legal and illegal ones"
   ]
  },
  {
   "cell_type": "markdown",
   "id": "190605ce",
   "metadata": {},
   "source": [
    "### Magic/Dunder Functions"
   ]
  },
  {
   "cell_type": "markdown",
   "id": "ac16067e",
   "metadata": {},
   "source": [
    "We use the term “Magic Functions” to denote those functions/methods that are\n",
    "automatically invoked without us explicitly naming them! All of these magic functions\n",
    "have the speciality that they have the following syntax for their name:\n",
    "    \n",
    "    __name__"
   ]
  },
  {
   "cell_type": "markdown",
   "id": "d6eccacc",
   "metadata": {},
   "source": [
    "- Constructors\n",
    "- Destructors\n",
    "- Stringification of an object : str(object)"
   ]
  },
  {
   "cell_type": "code",
   "execution_count": 92,
   "id": "243acbe1",
   "metadata": {},
   "outputs": [
    {
     "data": {
      "text/plain": [
       "'Hi! I am A.'"
      ]
     },
     "execution_count": 92,
     "metadata": {},
     "output_type": "execute_result"
    }
   ],
   "source": [
    "class A:\n",
    "    def __str__(self):\n",
    "        return \"Hi! I am A.\"\n",
    "\n",
    "a=A()\n",
    "str(a)"
   ]
  },
  {
   "cell_type": "markdown",
   "id": "6d568502",
   "metadata": {},
   "source": [
    "<h1 style=\"color:blue; text-align:center;\"\"> Lecture 8 </h1>\n",
    "<hr style=\"height:5px;border-width:0;color:blue;background-color:blue\">"
   ]
  },
  {
   "cell_type": "markdown",
   "id": "f2943d53",
   "metadata": {},
   "source": [
    "## Polymorphism\n",
    "- Operator Overloading\n",
    "- Function/Method Overloading\n",
    "- Function/Method Overriding"
   ]
  },
  {
   "cell_type": "markdown",
   "id": "9bf80ae4",
   "metadata": {},
   "source": [
    "The term polymorphism in general means multiple forms of the same entity. In OOP, it means performing the same logical operation by choosing from multiple implementations appropriately."
   ]
  },
  {
   "cell_type": "markdown",
   "id": "79ea2e41",
   "metadata": {},
   "source": [
    "### Function/Method Overriding"
   ]
  },
  {
   "cell_type": "markdown",
   "id": "e050a2a3",
   "metadata": {},
   "source": [
    "When we have functions with the same name in both the base as well as derived classes – this is called function overriding"
   ]
  },
  {
   "cell_type": "code",
   "execution_count": 49,
   "id": "5b3962f4",
   "metadata": {},
   "outputs": [
    {
     "name": "stdout",
     "output_type": "stream",
     "text": [
      "Small aeroplane started\n"
     ]
    }
   ],
   "source": [
    "# Function Overriding: SAME NAME DIFFERENT IMPLEMENTATION\n",
    "    \n",
    "class Aeroplane:\n",
    "    def start(self):\n",
    "        print(\"Aeroplane started\")\n",
    "\n",
    "class SmallAeroplane(Aeroplane):\n",
    "    def start(self):\n",
    "        print(\"Small aeroplane started\")\n",
    "\n",
    "obj = SmallAeroplane()\n",
    "obj.start()"
   ]
  },
  {
   "cell_type": "markdown",
   "id": "b1518c5c",
   "metadata": {},
   "source": [
    "#### Function Overriding in Multiple Inheritance"
   ]
  },
  {
   "cell_type": "markdown",
   "id": "e95d01e2",
   "metadata": {},
   "source": [
    "##### Method Resolution Order\n",
    "The order of inheritance is\n",
    "from left to right, and in this example, the first base class of C is therefore A. The first\n",
    "preference is given to the method f in class A. Only if A (and it's super classes, in the\n",
    "order of inheritance) does not define method f will preference be given to class B (and\n",
    "it's super classes in the order of inheritance). "
   ]
  },
  {
   "cell_type": "code",
   "execution_count": 10,
   "id": "0ad68ef9",
   "metadata": {},
   "outputs": [
    {
     "name": "stdout",
     "output_type": "stream",
     "text": [
      "A\n",
      "C\n"
     ]
    }
   ],
   "source": [
    "class A:\n",
    "    def f(self):\n",
    "        print(\"A\")\n",
    "\n",
    "class B:\n",
    "    def f(self):\n",
    "        print(\"B\")\n",
    "\n",
    "class C(A,B):\n",
    "    def f(self):\n",
    "        super().f()\n",
    "        print(\"C\")\n",
    "\n",
    "c=C()\n",
    "c.f()"
   ]
  },
  {
   "cell_type": "code",
   "execution_count": null,
   "id": "1864dcf0",
   "metadata": {},
   "outputs": [],
   "source": []
  },
  {
   "cell_type": "markdown",
   "id": "a742d4d5",
   "metadata": {},
   "source": [
    "### Function/Method Overloading"
   ]
  },
  {
   "cell_type": "markdown",
   "id": "fc978b09",
   "metadata": {},
   "source": [
    "Python does not support function overloading, only 1 constructor can exist in a class."
   ]
  },
  {
   "cell_type": "markdown",
   "id": "2edd79b3",
   "metadata": {},
   "source": [
    "### Operator Overloading"
   ]
  },
  {
   "cell_type": "markdown",
   "id": "9ebb7fe7",
   "metadata": {},
   "source": [
    "Operator Overloading lets classes intercept normal Python Operations\n",
    "This feature in Python that allows the same operator to have different meaning according to the context is called operator overloading. The ability of a single operator to perform more than one operation based on the class (type) of operands\n",
    "Most of the basic operators can work even with objects of user-defined classes if the operation methodology is taught to the Python interpreter using the concept of operator\n",
    "We can overload all existing operators but we can't create a new operator overloading.\n",
    "\n",
    "It provides reusability, instead of writing multiple methods that differ slightly we can simply write one method and overload it.\n",
    "It also improves code clarity and eliminates complexity.\n",
    "It makes code concise and simple to understand.\n",
    "\n",
    "For example: The operator ‘+’ is used to\n",
    "- Add two integers. \n",
    "- Concatenate two strings.\n",
    "- Merge two lists."
   ]
  },
  {
   "cell_type": "code",
   "execution_count": 44,
   "id": "f0fe62ec",
   "metadata": {},
   "outputs": [
    {
     "data": {
      "text/plain": [
       "3"
      ]
     },
     "execution_count": 44,
     "metadata": {},
     "output_type": "execute_result"
    }
   ],
   "source": [
    "1+2"
   ]
  },
  {
   "cell_type": "code",
   "execution_count": 46,
   "id": "b69b0946",
   "metadata": {},
   "outputs": [
    {
     "data": {
      "text/plain": [
       "'abc  jkl  xyz'"
      ]
     },
     "execution_count": 46,
     "metadata": {},
     "output_type": "execute_result"
    }
   ],
   "source": [
    "\"abc \" + \" jkl \" + \" xyz\""
   ]
  },
  {
   "cell_type": "code",
   "execution_count": 13,
   "id": "dd8bbad3",
   "metadata": {},
   "outputs": [],
   "source": [
    "# Overloading Basic Arithmetic Operators"
   ]
  },
  {
   "cell_type": "code",
   "execution_count": 14,
   "id": "3916cc3c",
   "metadata": {},
   "outputs": [
    {
     "ename": "TypeError",
     "evalue": "unsupported operand type(s) for +: 'int' and 'A'",
     "output_type": "error",
     "traceback": [
      "\u001b[0;31m---------------------------------------------------------------------------\u001b[0m",
      "\u001b[0;31mTypeError\u001b[0m                                 Traceback (most recent call last)",
      "Input \u001b[0;32mIn [14]\u001b[0m, in \u001b[0;36m<cell line: 6>\u001b[0;34m()\u001b[0m\n\u001b[1;32m      4\u001b[0m o \u001b[38;5;241m=\u001b[39m A()\n\u001b[1;32m      5\u001b[0m i \u001b[38;5;241m=\u001b[39m \u001b[38;5;241m5\u001b[39m\n\u001b[0;32m----> 6\u001b[0m \u001b[43mi\u001b[49m\u001b[43m \u001b[49m\u001b[38;5;241;43m+\u001b[39;49m\u001b[43m \u001b[49m\u001b[43mo\u001b[49m\n",
      "\u001b[0;31mTypeError\u001b[0m: unsupported operand type(s) for +: 'int' and 'A'"
     ]
    }
   ],
   "source": [
    "class A:\n",
    "    pass\n",
    "\n",
    "o = A()\n",
    "i = 5\n",
    "i + o"
   ]
  },
  {
   "cell_type": "code",
   "execution_count": 5,
   "id": "d85f4b97",
   "metadata": {},
   "outputs": [
    {
     "data": {
      "text/plain": [
       "'5Dogs'"
      ]
     },
     "execution_count": 5,
     "metadata": {},
     "output_type": "execute_result"
    }
   ],
   "source": [
    "class Dogs:\n",
    "    def __add__(self, x):\n",
    "        return str(x)+Dogs.__name__\n",
    "\n",
    "o = Dogs()\n",
    "number = 5\n",
    "o + number"
   ]
  },
  {
   "cell_type": "code",
   "execution_count": 8,
   "id": "6f877485",
   "metadata": {},
   "outputs": [
    {
     "ename": "TypeError",
     "evalue": "unsupported operand type(s) for +: 'Coordinates' and 'Coordinates'",
     "output_type": "error",
     "traceback": [
      "\u001b[0;31m---------------------------------------------------------------------------\u001b[0m",
      "\u001b[0;31mTypeError\u001b[0m                                 Traceback (most recent call last)",
      "Input \u001b[0;32mIn [8]\u001b[0m, in \u001b[0;36m<cell line: 9>\u001b[0;34m()\u001b[0m\n\u001b[1;32m      6\u001b[0m point_1 \u001b[38;5;241m=\u001b[39m Coordinates(\u001b[38;5;241m1\u001b[39m,\u001b[38;5;241m2\u001b[39m)\n\u001b[1;32m      7\u001b[0m point_2 \u001b[38;5;241m=\u001b[39m Coordinates(\u001b[38;5;241m2\u001b[39m,\u001b[38;5;241m3\u001b[39m)\n\u001b[0;32m----> 9\u001b[0m \u001b[38;5;28mprint\u001b[39m(\u001b[43mpoint_1\u001b[49m\u001b[43m \u001b[49m\u001b[38;5;241;43m+\u001b[39;49m\u001b[43m \u001b[49m\u001b[43mpoint_2\u001b[49m)\n",
      "\u001b[0;31mTypeError\u001b[0m: unsupported operand type(s) for +: 'Coordinates' and 'Coordinates'"
     ]
    }
   ],
   "source": [
    "class Coordinates:\n",
    "    def __init__(self, x, y):\n",
    "        self.x_coord = x\n",
    "        self.y_coord = y\n",
    "\n",
    "point_1 = Coordinates(1,2)\n",
    "point_2 = Coordinates(2,3)\n",
    "\n",
    "print(point_1 + point_2)"
   ]
  },
  {
   "cell_type": "code",
   "execution_count": 14,
   "id": "e5ce1354",
   "metadata": {},
   "outputs": [
    {
     "name": "stdout",
     "output_type": "stream",
     "text": [
      "3\n",
      "5\n"
     ]
    }
   ],
   "source": [
    "class Coordinates:\n",
    "    def __init__(self, x, y):\n",
    "        self.x_coord = x\n",
    "        self.y_coord = y\n",
    "    \n",
    "    def __add__(self, obj):\n",
    "        x = self.x_coord + obj.x_coord\n",
    "        y = self.y_coord + obj.y_coord\n",
    "        new_coordinate_that_is_sum_of_coords = Coordinates(x, y)\n",
    "        return new_coordinate_that_is_sum_of_coords\n",
    "\n",
    "    \n",
    "point_1 = Coordinates(1,2)\n",
    "point_2 = Coordinates(2,3)\n",
    "\n",
    "new_coord = point_1 + point_2\n",
    "print(new_coord.x_coord)\n",
    "print(new_coord.y_coord)"
   ]
  },
  {
   "cell_type": "markdown",
   "id": "4f744d12",
   "metadata": {},
   "source": [
    "Types of Operator Overloading\n",
    "\n",
    "- Overloading Basic Arithmetic Operators\n",
    "-  Overloading Unary Arithmetic Operators\n",
    "-   Overloading Type Conversion Operators \n",
    "-  Overloading Comparison Operators\n",
    "-  Overloading Bitwise Operators\n",
    "-  Overloading Assignment Operators\n"
   ]
  },
  {
   "cell_type": "markdown",
   "id": "6e66daa1",
   "metadata": {},
   "source": [
    "### Attribute Handling"
   ]
  },
  {
   "cell_type": "code",
   "execution_count": 15,
   "id": "342064aa",
   "metadata": {},
   "outputs": [],
   "source": [
    "# hasattr()"
   ]
  },
  {
   "cell_type": "markdown",
   "id": "d6f2fde4",
   "metadata": {},
   "source": [
    "The hasattr() function tells whether a particular instance has a particular attribute\n",
    "or not.\n",
    "\n",
    "This is a Boolean function that returns true only if the given instance contains the\n",
    "given attribute."
   ]
  },
  {
   "cell_type": "code",
   "execution_count": 16,
   "id": "1380f85e",
   "metadata": {},
   "outputs": [
    {
     "data": {
      "text/plain": [
       "True"
      ]
     },
     "execution_count": 16,
     "metadata": {},
     "output_type": "execute_result"
    }
   ],
   "source": [
    "class A:\n",
    "    def __init__(self):\n",
    "        self.x = 0\n",
    "\n",
    "a = A()\n",
    "hasattr(a, 'x')"
   ]
  },
  {
   "cell_type": "code",
   "execution_count": 17,
   "id": "7f7b9fc5",
   "metadata": {},
   "outputs": [],
   "source": [
    "# getattr() "
   ]
  },
  {
   "cell_type": "markdown",
   "id": "27378cc9",
   "metadata": {},
   "source": [
    "The getattr() function returns the value of an attribute within an instance if it\n",
    "exists, returning a default value (if provided) if the attribute does not exist.\n",
    "\n",
    "syntax : getattr(object,attribute[,default])\n",
    "\n",
    "\n",
    "- If the attribute attribute exists in the instance object, it's value is\n",
    "returned.\n",
    "- If the attribute attribute does not exist in the instance object, default\n",
    "is returned.\n",
    "- If the attribute attribute does not exist in the instance object and no\n",
    "default is provided, an AttributeError occurs."
   ]
  },
  {
   "cell_type": "code",
   "execution_count": 18,
   "id": "60a8b4f4",
   "metadata": {},
   "outputs": [
    {
     "data": {
      "text/plain": [
       "0"
      ]
     },
     "execution_count": 18,
     "metadata": {},
     "output_type": "execute_result"
    }
   ],
   "source": [
    "class A:\n",
    "    def __init__(self):\n",
    "        self.x = 0\n",
    "a = A()\n",
    "getattr(a, 'x', 2)"
   ]
  },
  {
   "cell_type": "code",
   "execution_count": 20,
   "id": "ae1468a1",
   "metadata": {},
   "outputs": [
    {
     "data": {
      "text/plain": [
       "2"
      ]
     },
     "execution_count": 20,
     "metadata": {},
     "output_type": "execute_result"
    }
   ],
   "source": [
    " # default value provided in case it doesn't exist\n",
    "getattr(a,'y',2)"
   ]
  },
  {
   "cell_type": "code",
   "execution_count": 21,
   "id": "acb83771",
   "metadata": {
    "scrolled": true
   },
   "outputs": [
    {
     "ename": "AttributeError",
     "evalue": "'A' object has no attribute 'y'",
     "output_type": "error",
     "traceback": [
      "\u001b[0;31m---------------------------------------------------------------------------\u001b[0m",
      "\u001b[0;31mAttributeError\u001b[0m                            Traceback (most recent call last)",
      "Input \u001b[0;32mIn [21]\u001b[0m, in \u001b[0;36m<cell line: 1>\u001b[0;34m()\u001b[0m\n\u001b[0;32m----> 1\u001b[0m \u001b[38;5;28;43mgetattr\u001b[39;49m\u001b[43m(\u001b[49m\u001b[43ma\u001b[49m\u001b[43m,\u001b[49m\u001b[38;5;124;43m'\u001b[39;49m\u001b[38;5;124;43my\u001b[39;49m\u001b[38;5;124;43m'\u001b[39;49m\u001b[43m)\u001b[49m\n",
      "\u001b[0;31mAttributeError\u001b[0m: 'A' object has no attribute 'y'"
     ]
    }
   ],
   "source": [
    "getattr(a,'y')"
   ]
  },
  {
   "cell_type": "code",
   "execution_count": 22,
   "id": "e4d21ac6",
   "metadata": {},
   "outputs": [],
   "source": [
    "# setattr() "
   ]
  },
  {
   "cell_type": "markdown",
   "id": "75dc7635",
   "metadata": {},
   "source": [
    "The setattr() function sets the value of an attribute in an instance. If the attribute\n",
    "already existed in the instance, it's value is overwritten and if it did not exist, it is\n",
    "created.\n",
    "\n",
    "syntax : setattr(object,attribute,value)"
   ]
  },
  {
   "cell_type": "code",
   "execution_count": 24,
   "id": "43a6e796",
   "metadata": {},
   "outputs": [],
   "source": [
    "class A:\n",
    "    def __init__(self):\n",
    "        self.x = 0\n",
    "a = A()\n",
    "setattr(a, 'x', 2)\n",
    "setattr(a,'y',3)"
   ]
  },
  {
   "cell_type": "code",
   "execution_count": 25,
   "id": "fbaedb83",
   "metadata": {},
   "outputs": [
    {
     "data": {
      "text/plain": [
       "2"
      ]
     },
     "execution_count": 25,
     "metadata": {},
     "output_type": "execute_result"
    }
   ],
   "source": [
    "a.x"
   ]
  },
  {
   "cell_type": "code",
   "execution_count": 26,
   "id": "678f1129",
   "metadata": {},
   "outputs": [
    {
     "data": {
      "text/plain": [
       "3"
      ]
     },
     "execution_count": 26,
     "metadata": {},
     "output_type": "execute_result"
    }
   ],
   "source": [
    "a.y"
   ]
  },
  {
   "cell_type": "code",
   "execution_count": 27,
   "id": "8ba0f403",
   "metadata": {},
   "outputs": [],
   "source": [
    "#  delattr()"
   ]
  },
  {
   "cell_type": "markdown",
   "id": "166d5436",
   "metadata": {},
   "source": [
    "To remove an existing attribute from an instance, the delattr() function can\n",
    "be used.\n",
    "\n",
    "syntax : delattr(object,attribute)"
   ]
  },
  {
   "cell_type": "code",
   "execution_count": 28,
   "id": "b5eedaa0",
   "metadata": {},
   "outputs": [],
   "source": [
    "# standard attributes"
   ]
  },
  {
   "cell_type": "markdown",
   "id": "997ab409",
   "metadata": {},
   "source": [
    "- \\__name__  The name of the class\n",
    "- \\__doc__   The documentation string of the class\n",
    "- \\__bases__ A tuple containing the base classes of this class, in the order of inheritence\n",
    "- \\__module__ The name of the module to which this class belongs\n",
    "- \\__dict__ A dictionary containing the namespace of this class"
   ]
  },
  {
   "cell_type": "markdown",
   "id": "98e7f22e",
   "metadata": {},
   "source": [
    "### Dynamic Polymorphism"
   ]
  },
  {
   "cell_type": "markdown",
   "id": "ddbe16e2",
   "metadata": {},
   "source": [
    "A very important feature of OOP is dynamic polymorphism – the mechanism of\n",
    "deciding which function to invoke at runtime depending on the type of the invoking\n",
    "object.\n",
    "\n",
    "Before actually understanding dynamic polymorphism, it is important to realize that\n",
    "subclasses are perfectly substitutable for base classes, meaning that in any situation\n",
    "where we require a reference to a base class instance, a reference to a derived class\n",
    "instance will do equally well."
   ]
  },
  {
   "cell_type": "code",
   "execution_count": 11,
   "id": "c89339bb",
   "metadata": {},
   "outputs": [
    {
     "name": "stdout",
     "output_type": "stream",
     "text": [
      "Hi! This animal is called Dog\n",
      "This animal says: Bow wow!\n",
      "Hi! This animal is called Cat\n",
      "This animal says: Meow!\n"
     ]
    }
   ],
   "source": [
    "# Inheritance Demo:\n",
    "# Dynamic Polymorphism\n",
    "\n",
    "\n",
    "\n",
    "class Animal:\n",
    "    def __init__(self,name):\n",
    "        self.name = name\n",
    "    \n",
    "    def speak(self):\n",
    "        pass\n",
    "\n",
    "class Dog(Animal):\n",
    "    def __init__(self):\n",
    "        super().__init__(\"Dog\")\n",
    "    \n",
    "    def speak(self):\n",
    "        print(\"Bow wow!\")\n",
    "\n",
    "class Cat(Animal):\n",
    "    def __init__(self):\n",
    "        super().__init__(\"Cat\")\n",
    "        \n",
    "    def speak(self):\n",
    "        print(\"Meow!\")\n",
    "\n",
    "        \n",
    "def introduce(animal):\n",
    "    print(\"Hi! This animal is called\",animal.name)\n",
    "    print(\"This animal says: \",end='')\n",
    "    animal.speak()\n",
    "\n",
    "animal = Dog()\n",
    "introduce(animal)\n",
    "animal = Cat()\n",
    "introduce(animal)"
   ]
  },
  {
   "cell_type": "markdown",
   "id": "4a0afce5",
   "metadata": {},
   "source": [
    "1. Class Animal is defined in line 6. It contains a constructor and a method\n",
    "called speak.\n",
    "2. The constructor (defined in line 7) receives the name of the animal and stores\n",
    "it in the attribute name.\n",
    "3. The speak method (defined in line 10) does nothing and will be overridden by\n",
    "the derived classes suitably.\n",
    "4. The Dog class (defined in line 13) derives from the Animal class. It's\n",
    "constructor receives nothing, but invokes the constructor of Animal passing\n",
    "“Dog” as the name of the animal. It's speak method ends up printing “Bow\n",
    "wow!”\n",
    "5. The Cat class (defined in line 20) derives from the Animal class. It's\n",
    "constructor receives nothing, but invokes the constructor of Animal passing\n",
    "“Cat” as the name of the animal. It's speak method ends up printing “Meow!”\n",
    "6. The introduce function (defined in line 28) accepts an animal, prints it's\n",
    "name and invokes it's speak method to make the animal “speak”. While the\n",
    "function is designed to receive an instance of the type Animal, it can also\n",
    "receive an instance of any derived class of Animal because of the law of\n",
    "substitutability introduced at the beginning of this section. If a Dog instance is\n",
    "passed, preference is given to the speak method of Dog and if a Cat\n",
    "instance is passed, preference is given to the speak method of Cat. If Dog or\n",
    "Cat class does not override the speak method of Animal, then the speak\n",
    "method of Animal gets invoked which does nothing."
   ]
  },
  {
   "cell_type": "markdown",
   "id": "78401ce1",
   "metadata": {},
   "source": [
    "### Empty Class"
   ]
  },
  {
   "cell_type": "markdown",
   "id": "0a74407e",
   "metadata": {},
   "source": [
    "An empty class in Python can be useful that way for a variety of reasons. An empty class is defined as a class containing only 1 statement.\n",
    "\n",
    "Purpose of Empty classes in Python\n",
    "- Empty Classes as Placeholders\n",
    "- Empty Classes for Identification\n",
    "- Empty Classes as Base Classes\n",
    "- Empty Classes as Data Types\n",
    "\n"
   ]
  },
  {
   "cell_type": "code",
   "execution_count": null,
   "id": "ee130888",
   "metadata": {},
   "outputs": [],
   "source": [
    "class A:\n",
    "    pass"
   ]
  },
  {
   "cell_type": "markdown",
   "id": "c6f0d378",
   "metadata": {},
   "source": [
    "### Message Passing"
   ]
  },
  {
   "cell_type": "markdown",
   "id": "3093cbd5",
   "metadata": {},
   "source": [
    "In OOP, programs are expected to document class structures, create objects at runtime and permit these objects to communicate with each other at runtime. This inter-object communication between objects at runtime is called message passing and is implemented typically by making function calls, with the arguments passed being technically called the message.\n",
    "\n",
    "\n",
    "Objects communicate with one another by sending and receiving information to each other\n"
   ]
  },
  {
   "cell_type": "markdown",
   "id": "a7af12ec",
   "metadata": {},
   "source": [
    "### Abstract Method and Class"
   ]
  },
  {
   "cell_type": "markdown",
   "id": "a953540d",
   "metadata": {},
   "source": [
    "Abstract Means Existing in Thoughts or as an idea without concrete existence\n",
    "Python Don't support Abstract class, So we have ABC(abstract Base Classes) Module, so we can use here to achieve abstract classes.\n",
    "\n",
    "- A class which contains one or more abstract methods is called an abstract class\n",
    "- In object-oriented programming, an abstract class is a class that cannot be instantiated \n",
    "- An abstract class can be considered as a blueprint for other classes\n",
    "- It allows you to create a set of methods that must be created within any child classes built from the abstract class\n",
    "\n",
    "\n",
    "Abstract Method\n",
    "- An abstract method is a method that has a declaration but does not have an implementation.\n",
    "\n",
    "\n",
    "Why Abstract Class?\n",
    "- By defining an abstract base class, you can define a common Application Program Interface(API) for a set of subclasses. This capability is especially useful in situations where a third-party is going to provide implementations, such as with plugins, but can also help you when working in a large team or with a large code-base where keeping all classes in your mind is difficult or not possible. \n",
    "\n",
    "\n",
    "Implementing Abstract Classes:\n",
    "- By default, Python does not provide abstract classes.\n",
    "- Python comes with a module that provides the base for defining Abstract Base classes(ABC) and that module name is ABC. \n",
    "- ABC works by decorating methods of the base class as abstract and then registering concrete classes as implementations of the abstract base. \n",
    "- A method becomes abstract when decorated with the keyword @abstractmethod."
   ]
  },
  {
   "cell_type": "code",
   "execution_count": 5,
   "id": "0aa02920",
   "metadata": {},
   "outputs": [],
   "source": [
    "from abc import ABC, abstractmethod\n",
    "\n",
    "class Animal(ABC):\n",
    "    @abstractmethod\n",
    "    def move(self):\n",
    "        pass\n",
    "\n",
    "class Snake(Animal):\n",
    "    def move(self):\n",
    "        print(\"I am crawling\")\n",
    "\n",
    "class Dog(Animal):\n",
    "    def move(self):\n",
    "        print(\"I am running\")"
   ]
  },
  {
   "cell_type": "code",
   "execution_count": 6,
   "id": "b67ccf6e",
   "metadata": {},
   "outputs": [
    {
     "name": "stdout",
     "output_type": "stream",
     "text": [
      "I am crawling\n"
     ]
    }
   ],
   "source": [
    "s = Snake()\n",
    "s.move()"
   ]
  },
  {
   "cell_type": "code",
   "execution_count": 7,
   "id": "98b70651",
   "metadata": {},
   "outputs": [
    {
     "name": "stdout",
     "output_type": "stream",
     "text": [
      "I am running\n"
     ]
    }
   ],
   "source": [
    "d = Dog()\n",
    "d.move()"
   ]
  },
  {
   "cell_type": "markdown",
   "id": "fc8ea830",
   "metadata": {},
   "source": [
    "##### Concrete Methods in Abstract Base Classes"
   ]
  },
  {
   "cell_type": "markdown",
   "id": "15ec0101",
   "metadata": {},
   "source": [
    "Concrete classes contain only concrete (normal)methods whereas abstract classes may contain both concrete methods and abstract methods. The concrete class provides an implementation of abstract methods, the abstract base class can also provide an implementation by invoking the methods via super(). \n"
   ]
  },
  {
   "cell_type": "code",
   "execution_count": 8,
   "id": "970a00d8",
   "metadata": {},
   "outputs": [
    {
     "name": "stdout",
     "output_type": "stream",
     "text": [
      "Abstract base class being called\n",
      "Sub concrete class\n"
     ]
    }
   ],
   "source": [
    "from abc import ABC\n",
    "\n",
    "class Kite(ABC):\n",
    "    def fly(self):\n",
    "        print(\"Abstract base class being called\")\n",
    "\n",
    "class Patang(Kite):\n",
    "    def fly(self):\n",
    "        super().fly()\n",
    "        print(\"Sub concrete class\")\n",
    "\n",
    "p = Patang()\n",
    "p.fly()"
   ]
  },
  {
   "cell_type": "code",
   "execution_count": 9,
   "id": "7f0b30b7",
   "metadata": {},
   "outputs": [
    {
     "ename": "TypeError",
     "evalue": "Can't instantiate abstract class Kite with abstract method fly",
     "output_type": "error",
     "traceback": [
      "\u001b[0;31m---------------------------------------------------------------------------\u001b[0m",
      "\u001b[0;31mTypeError\u001b[0m                                 Traceback (most recent call last)",
      "Input \u001b[0;32mIn [9]\u001b[0m, in \u001b[0;36m<cell line: 9>\u001b[0;34m()\u001b[0m\n\u001b[1;32m      5\u001b[0m     \u001b[38;5;129m@abstractmethod\u001b[39m\n\u001b[1;32m      6\u001b[0m     \u001b[38;5;28;01mdef\u001b[39;00m \u001b[38;5;21mfly\u001b[39m(\u001b[38;5;28mself\u001b[39m):\n\u001b[1;32m      7\u001b[0m         \u001b[38;5;28;01mpass\u001b[39;00m\n\u001b[0;32m----> 9\u001b[0m k \u001b[38;5;241m=\u001b[39m \u001b[43mKite\u001b[49m\u001b[43m(\u001b[49m\u001b[43m)\u001b[49m\n",
      "\u001b[0;31mTypeError\u001b[0m: Can't instantiate abstract class Kite with abstract method fly"
     ]
    }
   ],
   "source": [
    "# An abstract class cannot be instantiated and gives error if tried\n",
    "from abc import ABC, abstractmethod\n",
    "\n",
    "class Kite(ABC):\n",
    "    @abstractmethod\n",
    "    def fly(self):\n",
    "        pass\n",
    "\n",
    "k = Kite()"
   ]
  },
  {
   "cell_type": "markdown",
   "id": "993e7ce3",
   "metadata": {},
   "source": [
    "### Data Class"
   ]
  },
  {
   "cell_type": "markdown",
   "id": "2201be09",
   "metadata": {},
   "source": [
    "- Data classes are just regular classes that are geared towards storing state, rather than containing a lot of logic. Every time you create a class that mostly consists of attributes, you make a data class\n",
    "- Dataclass module is introduced in Python 3.7\n",
    "- Introduced as a utility tool to make structured classes specially for storing data\n",
    "- These classes hold certain properties and functions to deal specifically with the data and its representation\n",
    "- DataClasses in widely used Python3.6 \n",
    "- This module provides a decorator and functions for automatically adding general special methods such as \\__init__()  and \\__repr__()  to user defined classes\n",
    "- You can get attributes of your data class in a tuple or dict. All you need is to import asdict and astuple functions from dataclasses.\n",
    "- You can subclass dataclasses like normal classes in Python.\n",
    "- By default, attributes are stored in dictionary. We can benefit from slots for faster attribute access and use less memory.\n",
    "- The DataClasses are implemented by using decorators with classes.\n",
    "- Attributes are declared using Type Hints in Python which is essentially, specifying data type for variables in python."
   ]
  },
  {
   "cell_type": "code",
   "execution_count": 10,
   "id": "afc0cf48",
   "metadata": {},
   "outputs": [
    {
     "data": {
      "text/plain": [
       "(5, 4)"
      ]
     },
     "execution_count": 10,
     "metadata": {},
     "output_type": "execute_result"
    }
   ],
   "source": [
    "from dataclasses import dataclass\n",
    "\n",
    "@dataclass\n",
    "class J:\n",
    "    name : str\n",
    "    age: int\n",
    "    height : tuple\n",
    "    weight : float\n",
    "\n",
    "gama = J(name=\"Gama\", age=50, height=(5,4), weight=200.6)\n",
    "gama.height"
   ]
  },
  {
   "cell_type": "markdown",
   "id": "46b0ff3d",
   "metadata": {},
   "source": [
    "##### Advantages of Data class\n",
    "\n",
    "- Less code to define a class\n",
    "- Support for default values\n",
    "- Custom representations of the objects\n",
    "- Easy conversion to a tuple or a dictionary\n",
    "- Frozen instances / immutable objects\n",
    "- No need to write comparison methods\n",
    "- Custom attribute behaviour with the field function\n",
    "- Compare objects and sort them\n"
   ]
  },
  {
   "cell_type": "markdown",
   "id": "d3e7f189",
   "metadata": {},
   "source": [
    "### Keyword Arguments"
   ]
  },
  {
   "cell_type": "code",
   "execution_count": null,
   "id": "dc009264",
   "metadata": {},
   "outputs": [],
   "source": []
  },
  {
   "cell_type": "code",
   "execution_count": null,
   "id": "9c92b82a",
   "metadata": {},
   "outputs": [],
   "source": []
  },
  {
   "cell_type": "code",
   "execution_count": null,
   "id": "c67ca3ce",
   "metadata": {},
   "outputs": [],
   "source": []
  },
  {
   "cell_type": "markdown",
   "id": "6b71c269",
   "metadata": {},
   "source": [
    "## 7- Tuple Unpacking"
   ]
  },
  {
   "cell_type": "code",
   "execution_count": 16,
   "id": "c45e828b",
   "metadata": {},
   "outputs": [],
   "source": [
    "# Tuple packing\n",
    "fruits = (\"apple\", \"banana\", \"cherry\")"
   ]
  },
  {
   "cell_type": "code",
   "execution_count": 17,
   "id": "de0546b9",
   "metadata": {},
   "outputs": [],
   "source": [
    "# # Tuple unpacking is a feature of Python that allows you to assign the elements of a tuple to separate variables in a \n",
    "# single statement.\n",
    "\n",
    "(green, yellow, red) = fruits"
   ]
  },
  {
   "cell_type": "code",
   "execution_count": 18,
   "id": "eb03f311",
   "metadata": {},
   "outputs": [
    {
     "name": "stdout",
     "output_type": "stream",
     "text": [
      "apple\n",
      "banana\n",
      "cherry\n"
     ]
    }
   ],
   "source": [
    "print(green)\n",
    "print(yellow)\n",
    "print(red)"
   ]
  },
  {
   "cell_type": "code",
   "execution_count": 19,
   "id": "6e22ed45",
   "metadata": {},
   "outputs": [
    {
     "name": "stdout",
     "output_type": "stream",
     "text": [
      "1 2 3\n"
     ]
    }
   ],
   "source": [
    "# Benefits - Compare the code\n",
    "\n",
    "# without tuple unpacking\n",
    "t = (1, 2, 3)\n",
    "a = t[0]\n",
    "b = t[1]\n",
    "c = t[2]\n",
    "\n",
    "# with tuple unpacking\n",
    "t = (1, 2, 3)\n",
    "a, b, c = t\n",
    "\n",
    "print(a, b, c)"
   ]
  },
  {
   "cell_type": "markdown",
   "id": "7c1b2b97",
   "metadata": {},
   "source": [
    "## 8- Python, CPython and Cython"
   ]
  },
  {
   "cell_type": "markdown",
   "id": "460b0759",
   "metadata": {},
   "source": [
    "**Cython:** A Superset Language in which Python is written.\n",
    "\n",
    "**CPython:** Official Implementation of Python that translates its code to C-language bindings."
   ]
  },
  {
   "cell_type": "markdown",
   "id": "b3a32a0e",
   "metadata": {},
   "source": [
    "## PEP-8"
   ]
  },
  {
   "cell_type": "markdown",
   "id": "9aa3e87f",
   "metadata": {},
   "source": [
    "Python style guide\n",
    "https://pep8.org/ "
   ]
  },
  {
   "cell_type": "code",
   "execution_count": 22,
   "id": "2ce3b01c",
   "metadata": {},
   "outputs": [],
   "source": [
    "### Read Association, Aggregation, and Composition on your own."
   ]
  },
  {
   "cell_type": "code",
   "execution_count": 23,
   "id": "7c903224",
   "metadata": {},
   "outputs": [],
   "source": [
    "# --------------------- The END ---------------------------- #"
   ]
  },
  {
   "cell_type": "code",
   "execution_count": null,
   "id": "b8192bc5",
   "metadata": {},
   "outputs": [],
   "source": []
  }
 ],
 "metadata": {
  "kernelspec": {
   "display_name": "Python 3 (ipykernel)",
   "language": "python",
   "name": "python3"
  },
  "language_info": {
   "codemirror_mode": {
    "name": "ipython",
    "version": 3
   },
   "file_extension": ".py",
   "mimetype": "text/x-python",
   "name": "python",
   "nbconvert_exporter": "python",
   "pygments_lexer": "ipython3",
   "version": "3.9.12"
  }
 },
 "nbformat": 4,
 "nbformat_minor": 5
}
